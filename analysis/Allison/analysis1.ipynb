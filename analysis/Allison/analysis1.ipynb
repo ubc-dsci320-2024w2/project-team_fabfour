{
 "cells": [
  {
   "cell_type": "markdown",
   "metadata": {},
   "source": [
    "# Allison Fellhauer"
   ]
  },
  {
   "cell_type": "markdown",
   "metadata": {},
   "source": [
    "## Research question/interests\r\n",
    "I am interested in examining mental health outcomes as it relates to age. Specifically, I would like to see if there are age-specific clusters for those who enjoy specific genres of music and those with differing relationships with music (e.g. composer, instrumentalist, listener) and how that relates to their mental health scores.e."
   ]
  },
  {
   "cell_type": "markdown",
   "metadata": {},
   "source": [
    "## Required packages:"
   ]
  },
  {
   "cell_type": "code",
   "execution_count": 1,
   "metadata": {},
   "outputs": [],
   "source": [
    "# pip install pandas"
   ]
  },
  {
   "cell_type": "code",
   "execution_count": 2,
   "metadata": {},
   "outputs": [],
   "source": [
    "# pip install altair"
   ]
  },
  {
   "cell_type": "code",
   "execution_count": 3,
   "metadata": {},
   "outputs": [],
   "source": [
    "# pip install toolz"
   ]
  },
  {
   "cell_type": "code",
   "execution_count": 4,
   "metadata": {},
   "outputs": [
    {
     "data": {
      "text/plain": [
       "RendererRegistry.enable('jupyterlab')"
      ]
     },
     "execution_count": 4,
     "metadata": {},
     "output_type": "execute_result"
    }
   ],
   "source": [
    "import numpy as np\n",
    "import pandas as pd\n",
    "import altair as alt\n",
    "import os\n",
    "from toolz.curried import pipe\n",
    "\n",
    "# Create a new data transformer that stores the files in a directory\n",
    "def json_dir(data, data_dir='altairdata'):\n",
    "    os.makedirs(data_dir, exist_ok=True)\n",
    "    return pipe(data, alt.to_json(filename=data_dir + '/{prefix}-{hash}.{extension}') )\n",
    "\n",
    "# Register and enable the new transformer\n",
    "alt.data_transformers.register('json_dir', json_dir)\n",
    "alt.data_transformers.enable('json_dir')\n",
    "\n",
    "# Handle large data sets (default shows only 5000)\n",
    "# See here: https://altair-viz.github.io/user_guide/data_transformers.html\n",
    "alt.data_transformers.disable_max_rows()\n",
    "\n",
    "alt.renderers.enable('jupyterlab')"
   ]
  },
  {
   "cell_type": "code",
   "execution_count": 5,
   "metadata": {},
   "outputs": [],
   "source": [
    "np.random.seed(42)"
   ]
  },
  {
   "cell_type": "markdown",
   "metadata": {},
   "source": [
    "## 1. Loading Dataset"
   ]
  },
  {
   "cell_type": "code",
   "execution_count": 6,
   "metadata": {},
   "outputs": [],
   "source": [
    "DATA_PATH = \"../../data/raw/mxmh_survey_results.csv\"\n",
    "music = pd.read_csv(DATA_PATH, parse_dates=[\"Timestamp\"])"
   ]
  },
  {
   "cell_type": "markdown",
   "metadata": {},
   "source": [
    "## 2. Data Cleaning"
   ]
  },
  {
   "cell_type": "markdown",
   "metadata": {},
   "source": [
    "### 2.1 Attribute Investigation"
   ]
  },
  {
   "cell_type": "markdown",
   "metadata": {},
   "source": [
    "The first step of EDA is to examine the data itself and see what dataypes we are dealing with (Quantitative, Categorical, Temporal, or Ordered)"
   ]
  },
  {
   "cell_type": "code",
   "execution_count": 7,
   "metadata": {},
   "outputs": [
    {
     "data": {
      "text/html": [
       "<div>\n",
       "<style scoped>\n",
       "    .dataframe tbody tr th:only-of-type {\n",
       "        vertical-align: middle;\n",
       "    }\n",
       "\n",
       "    .dataframe tbody tr th {\n",
       "        vertical-align: top;\n",
       "    }\n",
       "\n",
       "    .dataframe thead th {\n",
       "        text-align: right;\n",
       "    }\n",
       "</style>\n",
       "<table border=\"1\" class=\"dataframe\">\n",
       "  <thead>\n",
       "    <tr style=\"text-align: right;\">\n",
       "      <th></th>\n",
       "      <th>Timestamp</th>\n",
       "      <th>Age</th>\n",
       "      <th>Primary streaming service</th>\n",
       "      <th>Hours per day</th>\n",
       "      <th>While working</th>\n",
       "      <th>Instrumentalist</th>\n",
       "      <th>Composer</th>\n",
       "      <th>Fav genre</th>\n",
       "      <th>Exploratory</th>\n",
       "      <th>Foreign languages</th>\n",
       "      <th>...</th>\n",
       "      <th>Frequency [R&amp;B]</th>\n",
       "      <th>Frequency [Rap]</th>\n",
       "      <th>Frequency [Rock]</th>\n",
       "      <th>Frequency [Video game music]</th>\n",
       "      <th>Anxiety</th>\n",
       "      <th>Depression</th>\n",
       "      <th>Insomnia</th>\n",
       "      <th>OCD</th>\n",
       "      <th>Music effects</th>\n",
       "      <th>Permissions</th>\n",
       "    </tr>\n",
       "  </thead>\n",
       "  <tbody>\n",
       "    <tr>\n",
       "      <th>0</th>\n",
       "      <td>2022-08-27 19:29:02</td>\n",
       "      <td>18.0</td>\n",
       "      <td>Spotify</td>\n",
       "      <td>3.0</td>\n",
       "      <td>Yes</td>\n",
       "      <td>Yes</td>\n",
       "      <td>Yes</td>\n",
       "      <td>Latin</td>\n",
       "      <td>Yes</td>\n",
       "      <td>Yes</td>\n",
       "      <td>...</td>\n",
       "      <td>Sometimes</td>\n",
       "      <td>Very frequently</td>\n",
       "      <td>Never</td>\n",
       "      <td>Sometimes</td>\n",
       "      <td>3.0</td>\n",
       "      <td>0.0</td>\n",
       "      <td>1.0</td>\n",
       "      <td>0.0</td>\n",
       "      <td>NaN</td>\n",
       "      <td>I understand.</td>\n",
       "    </tr>\n",
       "    <tr>\n",
       "      <th>1</th>\n",
       "      <td>2022-08-27 19:57:31</td>\n",
       "      <td>63.0</td>\n",
       "      <td>Pandora</td>\n",
       "      <td>1.5</td>\n",
       "      <td>Yes</td>\n",
       "      <td>No</td>\n",
       "      <td>No</td>\n",
       "      <td>Rock</td>\n",
       "      <td>Yes</td>\n",
       "      <td>No</td>\n",
       "      <td>...</td>\n",
       "      <td>Sometimes</td>\n",
       "      <td>Rarely</td>\n",
       "      <td>Very frequently</td>\n",
       "      <td>Rarely</td>\n",
       "      <td>7.0</td>\n",
       "      <td>2.0</td>\n",
       "      <td>2.0</td>\n",
       "      <td>1.0</td>\n",
       "      <td>NaN</td>\n",
       "      <td>I understand.</td>\n",
       "    </tr>\n",
       "    <tr>\n",
       "      <th>2</th>\n",
       "      <td>2022-08-27 21:28:18</td>\n",
       "      <td>18.0</td>\n",
       "      <td>Spotify</td>\n",
       "      <td>4.0</td>\n",
       "      <td>No</td>\n",
       "      <td>No</td>\n",
       "      <td>No</td>\n",
       "      <td>Video game music</td>\n",
       "      <td>No</td>\n",
       "      <td>Yes</td>\n",
       "      <td>...</td>\n",
       "      <td>Never</td>\n",
       "      <td>Rarely</td>\n",
       "      <td>Rarely</td>\n",
       "      <td>Very frequently</td>\n",
       "      <td>7.0</td>\n",
       "      <td>7.0</td>\n",
       "      <td>10.0</td>\n",
       "      <td>2.0</td>\n",
       "      <td>No effect</td>\n",
       "      <td>I understand.</td>\n",
       "    </tr>\n",
       "    <tr>\n",
       "      <th>3</th>\n",
       "      <td>2022-08-27 21:40:40</td>\n",
       "      <td>61.0</td>\n",
       "      <td>YouTube Music</td>\n",
       "      <td>2.5</td>\n",
       "      <td>Yes</td>\n",
       "      <td>No</td>\n",
       "      <td>Yes</td>\n",
       "      <td>Jazz</td>\n",
       "      <td>Yes</td>\n",
       "      <td>Yes</td>\n",
       "      <td>...</td>\n",
       "      <td>Sometimes</td>\n",
       "      <td>Never</td>\n",
       "      <td>Never</td>\n",
       "      <td>Never</td>\n",
       "      <td>9.0</td>\n",
       "      <td>7.0</td>\n",
       "      <td>3.0</td>\n",
       "      <td>3.0</td>\n",
       "      <td>Improve</td>\n",
       "      <td>I understand.</td>\n",
       "    </tr>\n",
       "    <tr>\n",
       "      <th>4</th>\n",
       "      <td>2022-08-27 21:54:47</td>\n",
       "      <td>18.0</td>\n",
       "      <td>Spotify</td>\n",
       "      <td>4.0</td>\n",
       "      <td>Yes</td>\n",
       "      <td>No</td>\n",
       "      <td>No</td>\n",
       "      <td>R&amp;B</td>\n",
       "      <td>Yes</td>\n",
       "      <td>No</td>\n",
       "      <td>...</td>\n",
       "      <td>Very frequently</td>\n",
       "      <td>Very frequently</td>\n",
       "      <td>Never</td>\n",
       "      <td>Rarely</td>\n",
       "      <td>7.0</td>\n",
       "      <td>2.0</td>\n",
       "      <td>5.0</td>\n",
       "      <td>9.0</td>\n",
       "      <td>Improve</td>\n",
       "      <td>I understand.</td>\n",
       "    </tr>\n",
       "  </tbody>\n",
       "</table>\n",
       "<p>5 rows × 33 columns</p>\n",
       "</div>"
      ],
      "text/plain": [
       "            Timestamp   Age Primary streaming service  Hours per day  \\\n",
       "0 2022-08-27 19:29:02  18.0                   Spotify            3.0   \n",
       "1 2022-08-27 19:57:31  63.0                   Pandora            1.5   \n",
       "2 2022-08-27 21:28:18  18.0                   Spotify            4.0   \n",
       "3 2022-08-27 21:40:40  61.0             YouTube Music            2.5   \n",
       "4 2022-08-27 21:54:47  18.0                   Spotify            4.0   \n",
       "\n",
       "  While working Instrumentalist Composer         Fav genre Exploratory  \\\n",
       "0           Yes             Yes      Yes             Latin         Yes   \n",
       "1           Yes              No       No              Rock         Yes   \n",
       "2            No              No       No  Video game music          No   \n",
       "3           Yes              No      Yes              Jazz         Yes   \n",
       "4           Yes              No       No               R&B         Yes   \n",
       "\n",
       "  Foreign languages  ...  Frequency [R&B]  Frequency [Rap] Frequency [Rock]  \\\n",
       "0               Yes  ...        Sometimes  Very frequently            Never   \n",
       "1                No  ...        Sometimes           Rarely  Very frequently   \n",
       "2               Yes  ...            Never           Rarely           Rarely   \n",
       "3               Yes  ...        Sometimes            Never            Never   \n",
       "4                No  ...  Very frequently  Very frequently            Never   \n",
       "\n",
       "  Frequency [Video game music] Anxiety Depression Insomnia  OCD Music effects  \\\n",
       "0                    Sometimes     3.0        0.0      1.0  0.0           NaN   \n",
       "1                       Rarely     7.0        2.0      2.0  1.0           NaN   \n",
       "2              Very frequently     7.0        7.0     10.0  2.0     No effect   \n",
       "3                        Never     9.0        7.0      3.0  3.0       Improve   \n",
       "4                       Rarely     7.0        2.0      5.0  9.0       Improve   \n",
       "\n",
       "     Permissions  \n",
       "0  I understand.  \n",
       "1  I understand.  \n",
       "2  I understand.  \n",
       "3  I understand.  \n",
       "4  I understand.  \n",
       "\n",
       "[5 rows x 33 columns]"
      ]
     },
     "execution_count": 7,
     "metadata": {},
     "output_type": "execute_result"
    }
   ],
   "source": [
    "music.head(5)"
   ]
  },
  {
   "cell_type": "code",
   "execution_count": 8,
   "metadata": {},
   "outputs": [
    {
     "data": {
      "text/plain": [
       "(736, 33)"
      ]
     },
     "execution_count": 8,
     "metadata": {},
     "output_type": "execute_result"
    }
   ],
   "source": [
    "music.shape"
   ]
  },
  {
   "cell_type": "code",
   "execution_count": 9,
   "metadata": {},
   "outputs": [
    {
     "data": {
      "text/html": [
       "<div>\n",
       "<style scoped>\n",
       "    .dataframe tbody tr th:only-of-type {\n",
       "        vertical-align: middle;\n",
       "    }\n",
       "\n",
       "    .dataframe tbody tr th {\n",
       "        vertical-align: top;\n",
       "    }\n",
       "\n",
       "    .dataframe thead th {\n",
       "        text-align: right;\n",
       "    }\n",
       "</style>\n",
       "<table border=\"1\" class=\"dataframe\">\n",
       "  <thead>\n",
       "    <tr style=\"text-align: right;\">\n",
       "      <th></th>\n",
       "      <th>Column</th>\n",
       "      <th>Non-Null Count</th>\n",
       "      <th>Dtype</th>\n",
       "    </tr>\n",
       "  </thead>\n",
       "  <tbody>\n",
       "    <tr>\n",
       "      <th>10</th>\n",
       "      <td>BPM</td>\n",
       "      <td>629</td>\n",
       "      <td>float64</td>\n",
       "    </tr>\n",
       "    <tr>\n",
       "      <th>31</th>\n",
       "      <td>Music effects</td>\n",
       "      <td>728</td>\n",
       "      <td>object</td>\n",
       "    </tr>\n",
       "    <tr>\n",
       "      <th>9</th>\n",
       "      <td>Foreign languages</td>\n",
       "      <td>732</td>\n",
       "      <td>object</td>\n",
       "    </tr>\n",
       "    <tr>\n",
       "      <th>5</th>\n",
       "      <td>Instrumentalist</td>\n",
       "      <td>732</td>\n",
       "      <td>object</td>\n",
       "    </tr>\n",
       "    <tr>\n",
       "      <th>4</th>\n",
       "      <td>While working</td>\n",
       "      <td>733</td>\n",
       "      <td>object</td>\n",
       "    </tr>\n",
       "    <tr>\n",
       "      <th>1</th>\n",
       "      <td>Age</td>\n",
       "      <td>735</td>\n",
       "      <td>float64</td>\n",
       "    </tr>\n",
       "    <tr>\n",
       "      <th>2</th>\n",
       "      <td>Primary streaming service</td>\n",
       "      <td>735</td>\n",
       "      <td>object</td>\n",
       "    </tr>\n",
       "    <tr>\n",
       "      <th>6</th>\n",
       "      <td>Composer</td>\n",
       "      <td>735</td>\n",
       "      <td>object</td>\n",
       "    </tr>\n",
       "    <tr>\n",
       "      <th>22</th>\n",
       "      <td>Frequency [Pop]</td>\n",
       "      <td>736</td>\n",
       "      <td>object</td>\n",
       "    </tr>\n",
       "    <tr>\n",
       "      <th>23</th>\n",
       "      <td>Frequency [R&amp;B]</td>\n",
       "      <td>736</td>\n",
       "      <td>object</td>\n",
       "    </tr>\n",
       "    <tr>\n",
       "      <th>24</th>\n",
       "      <td>Frequency [Rap]</td>\n",
       "      <td>736</td>\n",
       "      <td>object</td>\n",
       "    </tr>\n",
       "    <tr>\n",
       "      <th>25</th>\n",
       "      <td>Frequency [Rock]</td>\n",
       "      <td>736</td>\n",
       "      <td>object</td>\n",
       "    </tr>\n",
       "    <tr>\n",
       "      <th>0</th>\n",
       "      <td>Timestamp</td>\n",
       "      <td>736</td>\n",
       "      <td>datetime64[ns]</td>\n",
       "    </tr>\n",
       "    <tr>\n",
       "      <th>27</th>\n",
       "      <td>Anxiety</td>\n",
       "      <td>736</td>\n",
       "      <td>float64</td>\n",
       "    </tr>\n",
       "    <tr>\n",
       "      <th>21</th>\n",
       "      <td>Frequency [Metal]</td>\n",
       "      <td>736</td>\n",
       "      <td>object</td>\n",
       "    </tr>\n",
       "    <tr>\n",
       "      <th>28</th>\n",
       "      <td>Depression</td>\n",
       "      <td>736</td>\n",
       "      <td>float64</td>\n",
       "    </tr>\n",
       "    <tr>\n",
       "      <th>29</th>\n",
       "      <td>Insomnia</td>\n",
       "      <td>736</td>\n",
       "      <td>float64</td>\n",
       "    </tr>\n",
       "    <tr>\n",
       "      <th>30</th>\n",
       "      <td>OCD</td>\n",
       "      <td>736</td>\n",
       "      <td>float64</td>\n",
       "    </tr>\n",
       "    <tr>\n",
       "      <th>26</th>\n",
       "      <td>Frequency [Video game music]</td>\n",
       "      <td>736</td>\n",
       "      <td>object</td>\n",
       "    </tr>\n",
       "    <tr>\n",
       "      <th>20</th>\n",
       "      <td>Frequency [Lofi]</td>\n",
       "      <td>736</td>\n",
       "      <td>object</td>\n",
       "    </tr>\n",
       "    <tr>\n",
       "      <th>16</th>\n",
       "      <td>Frequency [Hip hop]</td>\n",
       "      <td>736</td>\n",
       "      <td>object</td>\n",
       "    </tr>\n",
       "    <tr>\n",
       "      <th>18</th>\n",
       "      <td>Frequency [K pop]</td>\n",
       "      <td>736</td>\n",
       "      <td>object</td>\n",
       "    </tr>\n",
       "    <tr>\n",
       "      <th>17</th>\n",
       "      <td>Frequency [Jazz]</td>\n",
       "      <td>736</td>\n",
       "      <td>object</td>\n",
       "    </tr>\n",
       "    <tr>\n",
       "      <th>15</th>\n",
       "      <td>Frequency [Gospel]</td>\n",
       "      <td>736</td>\n",
       "      <td>object</td>\n",
       "    </tr>\n",
       "    <tr>\n",
       "      <th>14</th>\n",
       "      <td>Frequency [Folk]</td>\n",
       "      <td>736</td>\n",
       "      <td>object</td>\n",
       "    </tr>\n",
       "    <tr>\n",
       "      <th>13</th>\n",
       "      <td>Frequency [EDM]</td>\n",
       "      <td>736</td>\n",
       "      <td>object</td>\n",
       "    </tr>\n",
       "    <tr>\n",
       "      <th>12</th>\n",
       "      <td>Frequency [Country]</td>\n",
       "      <td>736</td>\n",
       "      <td>object</td>\n",
       "    </tr>\n",
       "    <tr>\n",
       "      <th>11</th>\n",
       "      <td>Frequency [Classical]</td>\n",
       "      <td>736</td>\n",
       "      <td>object</td>\n",
       "    </tr>\n",
       "    <tr>\n",
       "      <th>8</th>\n",
       "      <td>Exploratory</td>\n",
       "      <td>736</td>\n",
       "      <td>object</td>\n",
       "    </tr>\n",
       "    <tr>\n",
       "      <th>7</th>\n",
       "      <td>Fav genre</td>\n",
       "      <td>736</td>\n",
       "      <td>object</td>\n",
       "    </tr>\n",
       "    <tr>\n",
       "      <th>3</th>\n",
       "      <td>Hours per day</td>\n",
       "      <td>736</td>\n",
       "      <td>float64</td>\n",
       "    </tr>\n",
       "    <tr>\n",
       "      <th>19</th>\n",
       "      <td>Frequency [Latin]</td>\n",
       "      <td>736</td>\n",
       "      <td>object</td>\n",
       "    </tr>\n",
       "    <tr>\n",
       "      <th>32</th>\n",
       "      <td>Permissions</td>\n",
       "      <td>736</td>\n",
       "      <td>object</td>\n",
       "    </tr>\n",
       "  </tbody>\n",
       "</table>\n",
       "</div>"
      ],
      "text/plain": [
       "                          Column  Non-Null Count           Dtype\n",
       "10                           BPM             629         float64\n",
       "31                 Music effects             728          object\n",
       "9              Foreign languages             732          object\n",
       "5                Instrumentalist             732          object\n",
       "4                  While working             733          object\n",
       "1                            Age             735         float64\n",
       "2      Primary streaming service             735          object\n",
       "6                       Composer             735          object\n",
       "22               Frequency [Pop]             736          object\n",
       "23               Frequency [R&B]             736          object\n",
       "24               Frequency [Rap]             736          object\n",
       "25              Frequency [Rock]             736          object\n",
       "0                      Timestamp             736  datetime64[ns]\n",
       "27                       Anxiety             736         float64\n",
       "21             Frequency [Metal]             736          object\n",
       "28                    Depression             736         float64\n",
       "29                      Insomnia             736         float64\n",
       "30                           OCD             736         float64\n",
       "26  Frequency [Video game music]             736          object\n",
       "20              Frequency [Lofi]             736          object\n",
       "16           Frequency [Hip hop]             736          object\n",
       "18             Frequency [K pop]             736          object\n",
       "17              Frequency [Jazz]             736          object\n",
       "15            Frequency [Gospel]             736          object\n",
       "14              Frequency [Folk]             736          object\n",
       "13               Frequency [EDM]             736          object\n",
       "12           Frequency [Country]             736          object\n",
       "11         Frequency [Classical]             736          object\n",
       "8                    Exploratory             736          object\n",
       "7                      Fav genre             736          object\n",
       "3                  Hours per day             736         float64\n",
       "19             Frequency [Latin]             736          object\n",
       "32                   Permissions             736          object"
      ]
     },
     "execution_count": 9,
     "metadata": {},
     "output_type": "execute_result"
    }
   ],
   "source": [
    "music_info = pd.DataFrame({\n",
    "    \"Column\": music.columns,\n",
    "    \"Non-Null Count\": music.count().values,\n",
    "    \"Dtype\": music.dtypes.values\n",
    "})\n",
    "\n",
    "music_info.sort_values(\"Non-Null Count\", ascending=True)"
   ]
  },
  {
   "cell_type": "markdown",
   "metadata": {},
   "source": [
    "Now, we can separate the columns according to their data type."
   ]
  },
  {
   "cell_type": "code",
   "execution_count": 10,
   "metadata": {},
   "outputs": [
    {
     "name": "stdout",
     "output_type": "stream",
     "text": [
      "33\n"
     ]
    }
   ],
   "source": [
    "categorical = [\n",
    "    \"Primary streaming service\",\n",
    "    \"While working\",\n",
    "    \"Instrumentalist\",\n",
    "    \"Composer\",\n",
    "    \"Fav genre\",\n",
    "    \"Exploratory\",\n",
    "    \"Foreign languages\",\n",
    "    'Frequency [Classical]',\n",
    "    'Frequency [Country]', \n",
    "    'Frequency [EDM]', \n",
    "    'Frequency [Folk]',\n",
    "    'Frequency [Gospel]', \n",
    "    'Frequency [Hip hop]', \n",
    "    'Frequency [Jazz]',\n",
    "    'Frequency [K pop]', \n",
    "    'Frequency [Latin]', \n",
    "    'Frequency [Lofi]',\n",
    "    'Frequency [Metal]', \n",
    "    'Frequency [Pop]', \n",
    "    'Frequency [R&B]',\n",
    "    'Frequency [Rap]', \n",
    "    'Frequency [Rock]', \n",
    "    'Frequency [Video game music]',\n",
    "    'Music effects'\n",
    "]\n",
    "\n",
    "numerical = [\n",
    "    \"Age\", \n",
    "    \"Hours per day\",\n",
    "    \"BPM\",\n",
    "    \"Anxiety\",\n",
    "    \"Depression\", \n",
    "    \"Insomnia\",\n",
    "    \"OCD\"\n",
    "] \n",
    "\n",
    "temporal = [\n",
    "    \"Timestamp\"\n",
    "]\n",
    "\n",
    "target = \"Music effects\"\n",
    "\n",
    "dropped = [\"Permissions\"]\n",
    "\n",
    "print(len(categorical) + len(numerical) + len(dropped) + len(temporal)) #Ensure no columns were forgotten!\n"
   ]
  },
  {
   "cell_type": "markdown",
   "metadata": {},
   "source": [
    "Next, let's see the cardinality of the categorical variables."
   ]
  },
  {
   "cell_type": "code",
   "execution_count": 11,
   "metadata": {},
   "outputs": [
    {
     "data": {
      "text/html": [
       "<div>\n",
       "<style scoped>\n",
       "    .dataframe tbody tr th:only-of-type {\n",
       "        vertical-align: middle;\n",
       "    }\n",
       "\n",
       "    .dataframe tbody tr th {\n",
       "        vertical-align: top;\n",
       "    }\n",
       "\n",
       "    .dataframe thead th {\n",
       "        text-align: right;\n",
       "    }\n",
       "</style>\n",
       "<table border=\"1\" class=\"dataframe\">\n",
       "  <thead>\n",
       "    <tr style=\"text-align: right;\">\n",
       "      <th></th>\n",
       "      <th>Column</th>\n",
       "      <th>Unique Count</th>\n",
       "      <th>Unique Values</th>\n",
       "    </tr>\n",
       "  </thead>\n",
       "  <tbody>\n",
       "    <tr>\n",
       "      <th>4</th>\n",
       "      <td>Fav genre</td>\n",
       "      <td>16</td>\n",
       "      <td>[Latin, Rock, Video game music, Jazz, R&amp;B, K p...</td>\n",
       "    </tr>\n",
       "    <tr>\n",
       "      <th>0</th>\n",
       "      <td>Primary streaming service</td>\n",
       "      <td>6</td>\n",
       "      <td>[Spotify, Pandora, YouTube Music, I do not use...</td>\n",
       "    </tr>\n",
       "    <tr>\n",
       "      <th>13</th>\n",
       "      <td>Frequency [Jazz]</td>\n",
       "      <td>4</td>\n",
       "      <td>[Never, Very frequently, Rarely, Sometimes]</td>\n",
       "    </tr>\n",
       "    <tr>\n",
       "      <th>22</th>\n",
       "      <td>Frequency [Video game music]</td>\n",
       "      <td>4</td>\n",
       "      <td>[Sometimes, Rarely, Very frequently, Never]</td>\n",
       "    </tr>\n",
       "    <tr>\n",
       "      <th>21</th>\n",
       "      <td>Frequency [Rock]</td>\n",
       "      <td>4</td>\n",
       "      <td>[Never, Very frequently, Rarely, Sometimes]</td>\n",
       "    </tr>\n",
       "    <tr>\n",
       "      <th>20</th>\n",
       "      <td>Frequency [Rap]</td>\n",
       "      <td>4</td>\n",
       "      <td>[Very frequently, Rarely, Never, Sometimes]</td>\n",
       "    </tr>\n",
       "    <tr>\n",
       "      <th>19</th>\n",
       "      <td>Frequency [R&amp;B]</td>\n",
       "      <td>4</td>\n",
       "      <td>[Sometimes, Never, Very frequently, Rarely]</td>\n",
       "    </tr>\n",
       "    <tr>\n",
       "      <th>18</th>\n",
       "      <td>Frequency [Pop]</td>\n",
       "      <td>4</td>\n",
       "      <td>[Very frequently, Sometimes, Rarely, Never]</td>\n",
       "    </tr>\n",
       "    <tr>\n",
       "      <th>17</th>\n",
       "      <td>Frequency [Metal]</td>\n",
       "      <td>4</td>\n",
       "      <td>[Never, Sometimes, Rarely, Very frequently]</td>\n",
       "    </tr>\n",
       "    <tr>\n",
       "      <th>16</th>\n",
       "      <td>Frequency [Lofi]</td>\n",
       "      <td>4</td>\n",
       "      <td>[Rarely, Sometimes, Very frequently, Never]</td>\n",
       "    </tr>\n",
       "    <tr>\n",
       "      <th>15</th>\n",
       "      <td>Frequency [Latin]</td>\n",
       "      <td>4</td>\n",
       "      <td>[Very frequently, Sometimes, Never, Rarely]</td>\n",
       "    </tr>\n",
       "    <tr>\n",
       "      <th>14</th>\n",
       "      <td>Frequency [K pop]</td>\n",
       "      <td>4</td>\n",
       "      <td>[Very frequently, Rarely, Sometimes, Never]</td>\n",
       "    </tr>\n",
       "    <tr>\n",
       "      <th>12</th>\n",
       "      <td>Frequency [Hip hop]</td>\n",
       "      <td>4</td>\n",
       "      <td>[Sometimes, Rarely, Never, Very frequently]</td>\n",
       "    </tr>\n",
       "    <tr>\n",
       "      <th>11</th>\n",
       "      <td>Frequency [Gospel]</td>\n",
       "      <td>4</td>\n",
       "      <td>[Never, Sometimes, Rarely, Very frequently]</td>\n",
       "    </tr>\n",
       "    <tr>\n",
       "      <th>10</th>\n",
       "      <td>Frequency [Folk]</td>\n",
       "      <td>4</td>\n",
       "      <td>[Never, Rarely, Sometimes, Very frequently]</td>\n",
       "    </tr>\n",
       "    <tr>\n",
       "      <th>9</th>\n",
       "      <td>Frequency [EDM]</td>\n",
       "      <td>4</td>\n",
       "      <td>[Rarely, Never, Very frequently, Sometimes]</td>\n",
       "    </tr>\n",
       "    <tr>\n",
       "      <th>8</th>\n",
       "      <td>Frequency [Country]</td>\n",
       "      <td>4</td>\n",
       "      <td>[Never, Sometimes, Very frequently, Rarely]</td>\n",
       "    </tr>\n",
       "    <tr>\n",
       "      <th>7</th>\n",
       "      <td>Frequency [Classical]</td>\n",
       "      <td>4</td>\n",
       "      <td>[Rarely, Sometimes, Never, Very frequently]</td>\n",
       "    </tr>\n",
       "    <tr>\n",
       "      <th>23</th>\n",
       "      <td>Music effects</td>\n",
       "      <td>3</td>\n",
       "      <td>[nan, No effect, Improve, Worsen]</td>\n",
       "    </tr>\n",
       "    <tr>\n",
       "      <th>1</th>\n",
       "      <td>While working</td>\n",
       "      <td>2</td>\n",
       "      <td>[Yes, No, nan]</td>\n",
       "    </tr>\n",
       "    <tr>\n",
       "      <th>6</th>\n",
       "      <td>Foreign languages</td>\n",
       "      <td>2</td>\n",
       "      <td>[Yes, No, nan]</td>\n",
       "    </tr>\n",
       "    <tr>\n",
       "      <th>5</th>\n",
       "      <td>Exploratory</td>\n",
       "      <td>2</td>\n",
       "      <td>[Yes, No]</td>\n",
       "    </tr>\n",
       "    <tr>\n",
       "      <th>3</th>\n",
       "      <td>Composer</td>\n",
       "      <td>2</td>\n",
       "      <td>[Yes, No, nan]</td>\n",
       "    </tr>\n",
       "    <tr>\n",
       "      <th>2</th>\n",
       "      <td>Instrumentalist</td>\n",
       "      <td>2</td>\n",
       "      <td>[Yes, No, nan]</td>\n",
       "    </tr>\n",
       "  </tbody>\n",
       "</table>\n",
       "</div>"
      ],
      "text/plain": [
       "                          Column  Unique Count  \\\n",
       "4                      Fav genre            16   \n",
       "0      Primary streaming service             6   \n",
       "13              Frequency [Jazz]             4   \n",
       "22  Frequency [Video game music]             4   \n",
       "21              Frequency [Rock]             4   \n",
       "20               Frequency [Rap]             4   \n",
       "19               Frequency [R&B]             4   \n",
       "18               Frequency [Pop]             4   \n",
       "17             Frequency [Metal]             4   \n",
       "16              Frequency [Lofi]             4   \n",
       "15             Frequency [Latin]             4   \n",
       "14             Frequency [K pop]             4   \n",
       "12           Frequency [Hip hop]             4   \n",
       "11            Frequency [Gospel]             4   \n",
       "10              Frequency [Folk]             4   \n",
       "9                Frequency [EDM]             4   \n",
       "8            Frequency [Country]             4   \n",
       "7          Frequency [Classical]             4   \n",
       "23                 Music effects             3   \n",
       "1                  While working             2   \n",
       "6              Foreign languages             2   \n",
       "5                    Exploratory             2   \n",
       "3                       Composer             2   \n",
       "2                Instrumentalist             2   \n",
       "\n",
       "                                        Unique Values  \n",
       "4   [Latin, Rock, Video game music, Jazz, R&B, K p...  \n",
       "0   [Spotify, Pandora, YouTube Music, I do not use...  \n",
       "13        [Never, Very frequently, Rarely, Sometimes]  \n",
       "22        [Sometimes, Rarely, Very frequently, Never]  \n",
       "21        [Never, Very frequently, Rarely, Sometimes]  \n",
       "20        [Very frequently, Rarely, Never, Sometimes]  \n",
       "19        [Sometimes, Never, Very frequently, Rarely]  \n",
       "18        [Very frequently, Sometimes, Rarely, Never]  \n",
       "17        [Never, Sometimes, Rarely, Very frequently]  \n",
       "16        [Rarely, Sometimes, Very frequently, Never]  \n",
       "15        [Very frequently, Sometimes, Never, Rarely]  \n",
       "14        [Very frequently, Rarely, Sometimes, Never]  \n",
       "12        [Sometimes, Rarely, Never, Very frequently]  \n",
       "11        [Never, Sometimes, Rarely, Very frequently]  \n",
       "10        [Never, Rarely, Sometimes, Very frequently]  \n",
       "9         [Rarely, Never, Very frequently, Sometimes]  \n",
       "8         [Never, Sometimes, Very frequently, Rarely]  \n",
       "7         [Rarely, Sometimes, Never, Very frequently]  \n",
       "23                  [nan, No effect, Improve, Worsen]  \n",
       "1                                      [Yes, No, nan]  \n",
       "6                                      [Yes, No, nan]  \n",
       "5                                           [Yes, No]  \n",
       "3                                      [Yes, No, nan]  \n",
       "2                                      [Yes, No, nan]  "
      ]
     },
     "execution_count": 11,
     "metadata": {},
     "output_type": "execute_result"
    }
   ],
   "source": [
    "unique_counts_music = pd.DataFrame({\n",
    "    \"Column\": categorical,\n",
    "    \"Unique Count\": [music[col].nunique() for col in categorical],\n",
    "    \"Unique Values\": [music[col].unique() for col in categorical]\n",
    "})\n",
    "\n",
    "unique_counts_music = unique_counts_music.sort_values(\"Unique Count\", ascending=False)\n",
    "unique_counts_music"
   ]
  },
  {
   "cell_type": "markdown",
   "metadata": {},
   "source": [
    "### 2.2 Convert `Frequency [genre]` to Ordered Variable"
   ]
  },
  {
   "cell_type": "markdown",
   "metadata": {},
   "source": [
    "From the unique values, we can see that the frequency of each genre are on a consistent and ordered scale. We can convert them into the pandas categorical data type and assign them an order. "
   ]
  },
  {
   "cell_type": "code",
   "execution_count": 12,
   "metadata": {},
   "outputs": [
    {
     "data": {
      "text/html": [
       "<div>\n",
       "<style scoped>\n",
       "    .dataframe tbody tr th:only-of-type {\n",
       "        vertical-align: middle;\n",
       "    }\n",
       "\n",
       "    .dataframe tbody tr th {\n",
       "        vertical-align: top;\n",
       "    }\n",
       "\n",
       "    .dataframe thead th {\n",
       "        text-align: right;\n",
       "    }\n",
       "</style>\n",
       "<table border=\"1\" class=\"dataframe\">\n",
       "  <thead>\n",
       "    <tr style=\"text-align: right;\">\n",
       "      <th></th>\n",
       "      <th>Column</th>\n",
       "      <th>Non-Null Count</th>\n",
       "      <th>Dtype</th>\n",
       "    </tr>\n",
       "  </thead>\n",
       "  <tbody>\n",
       "    <tr>\n",
       "      <th>10</th>\n",
       "      <td>BPM</td>\n",
       "      <td>629</td>\n",
       "      <td>float64</td>\n",
       "    </tr>\n",
       "    <tr>\n",
       "      <th>31</th>\n",
       "      <td>Music effects</td>\n",
       "      <td>728</td>\n",
       "      <td>object</td>\n",
       "    </tr>\n",
       "    <tr>\n",
       "      <th>9</th>\n",
       "      <td>Foreign languages</td>\n",
       "      <td>732</td>\n",
       "      <td>object</td>\n",
       "    </tr>\n",
       "    <tr>\n",
       "      <th>5</th>\n",
       "      <td>Instrumentalist</td>\n",
       "      <td>732</td>\n",
       "      <td>object</td>\n",
       "    </tr>\n",
       "    <tr>\n",
       "      <th>4</th>\n",
       "      <td>While working</td>\n",
       "      <td>733</td>\n",
       "      <td>object</td>\n",
       "    </tr>\n",
       "    <tr>\n",
       "      <th>1</th>\n",
       "      <td>Age</td>\n",
       "      <td>735</td>\n",
       "      <td>float64</td>\n",
       "    </tr>\n",
       "    <tr>\n",
       "      <th>2</th>\n",
       "      <td>Primary streaming service</td>\n",
       "      <td>735</td>\n",
       "      <td>object</td>\n",
       "    </tr>\n",
       "    <tr>\n",
       "      <th>6</th>\n",
       "      <td>Composer</td>\n",
       "      <td>735</td>\n",
       "      <td>object</td>\n",
       "    </tr>\n",
       "    <tr>\n",
       "      <th>22</th>\n",
       "      <td>Frequency [Pop]</td>\n",
       "      <td>736</td>\n",
       "      <td>category</td>\n",
       "    </tr>\n",
       "    <tr>\n",
       "      <th>23</th>\n",
       "      <td>Frequency [R&amp;B]</td>\n",
       "      <td>736</td>\n",
       "      <td>category</td>\n",
       "    </tr>\n",
       "    <tr>\n",
       "      <th>24</th>\n",
       "      <td>Frequency [Rap]</td>\n",
       "      <td>736</td>\n",
       "      <td>category</td>\n",
       "    </tr>\n",
       "    <tr>\n",
       "      <th>25</th>\n",
       "      <td>Frequency [Rock]</td>\n",
       "      <td>736</td>\n",
       "      <td>category</td>\n",
       "    </tr>\n",
       "    <tr>\n",
       "      <th>0</th>\n",
       "      <td>Timestamp</td>\n",
       "      <td>736</td>\n",
       "      <td>datetime64[ns]</td>\n",
       "    </tr>\n",
       "    <tr>\n",
       "      <th>27</th>\n",
       "      <td>Anxiety</td>\n",
       "      <td>736</td>\n",
       "      <td>float64</td>\n",
       "    </tr>\n",
       "    <tr>\n",
       "      <th>21</th>\n",
       "      <td>Frequency [Metal]</td>\n",
       "      <td>736</td>\n",
       "      <td>category</td>\n",
       "    </tr>\n",
       "    <tr>\n",
       "      <th>28</th>\n",
       "      <td>Depression</td>\n",
       "      <td>736</td>\n",
       "      <td>float64</td>\n",
       "    </tr>\n",
       "    <tr>\n",
       "      <th>29</th>\n",
       "      <td>Insomnia</td>\n",
       "      <td>736</td>\n",
       "      <td>float64</td>\n",
       "    </tr>\n",
       "    <tr>\n",
       "      <th>30</th>\n",
       "      <td>OCD</td>\n",
       "      <td>736</td>\n",
       "      <td>float64</td>\n",
       "    </tr>\n",
       "    <tr>\n",
       "      <th>26</th>\n",
       "      <td>Frequency [Video game music]</td>\n",
       "      <td>736</td>\n",
       "      <td>category</td>\n",
       "    </tr>\n",
       "    <tr>\n",
       "      <th>20</th>\n",
       "      <td>Frequency [Lofi]</td>\n",
       "      <td>736</td>\n",
       "      <td>category</td>\n",
       "    </tr>\n",
       "    <tr>\n",
       "      <th>16</th>\n",
       "      <td>Frequency [Hip hop]</td>\n",
       "      <td>736</td>\n",
       "      <td>category</td>\n",
       "    </tr>\n",
       "    <tr>\n",
       "      <th>18</th>\n",
       "      <td>Frequency [K pop]</td>\n",
       "      <td>736</td>\n",
       "      <td>category</td>\n",
       "    </tr>\n",
       "    <tr>\n",
       "      <th>17</th>\n",
       "      <td>Frequency [Jazz]</td>\n",
       "      <td>736</td>\n",
       "      <td>category</td>\n",
       "    </tr>\n",
       "    <tr>\n",
       "      <th>15</th>\n",
       "      <td>Frequency [Gospel]</td>\n",
       "      <td>736</td>\n",
       "      <td>category</td>\n",
       "    </tr>\n",
       "    <tr>\n",
       "      <th>14</th>\n",
       "      <td>Frequency [Folk]</td>\n",
       "      <td>736</td>\n",
       "      <td>category</td>\n",
       "    </tr>\n",
       "    <tr>\n",
       "      <th>13</th>\n",
       "      <td>Frequency [EDM]</td>\n",
       "      <td>736</td>\n",
       "      <td>category</td>\n",
       "    </tr>\n",
       "    <tr>\n",
       "      <th>12</th>\n",
       "      <td>Frequency [Country]</td>\n",
       "      <td>736</td>\n",
       "      <td>category</td>\n",
       "    </tr>\n",
       "    <tr>\n",
       "      <th>11</th>\n",
       "      <td>Frequency [Classical]</td>\n",
       "      <td>736</td>\n",
       "      <td>category</td>\n",
       "    </tr>\n",
       "    <tr>\n",
       "      <th>8</th>\n",
       "      <td>Exploratory</td>\n",
       "      <td>736</td>\n",
       "      <td>object</td>\n",
       "    </tr>\n",
       "    <tr>\n",
       "      <th>7</th>\n",
       "      <td>Fav genre</td>\n",
       "      <td>736</td>\n",
       "      <td>object</td>\n",
       "    </tr>\n",
       "    <tr>\n",
       "      <th>3</th>\n",
       "      <td>Hours per day</td>\n",
       "      <td>736</td>\n",
       "      <td>float64</td>\n",
       "    </tr>\n",
       "    <tr>\n",
       "      <th>19</th>\n",
       "      <td>Frequency [Latin]</td>\n",
       "      <td>736</td>\n",
       "      <td>category</td>\n",
       "    </tr>\n",
       "    <tr>\n",
       "      <th>32</th>\n",
       "      <td>Permissions</td>\n",
       "      <td>736</td>\n",
       "      <td>object</td>\n",
       "    </tr>\n",
       "  </tbody>\n",
       "</table>\n",
       "</div>"
      ],
      "text/plain": [
       "                          Column  Non-Null Count           Dtype\n",
       "10                           BPM             629         float64\n",
       "31                 Music effects             728          object\n",
       "9              Foreign languages             732          object\n",
       "5                Instrumentalist             732          object\n",
       "4                  While working             733          object\n",
       "1                            Age             735         float64\n",
       "2      Primary streaming service             735          object\n",
       "6                       Composer             735          object\n",
       "22               Frequency [Pop]             736        category\n",
       "23               Frequency [R&B]             736        category\n",
       "24               Frequency [Rap]             736        category\n",
       "25              Frequency [Rock]             736        category\n",
       "0                      Timestamp             736  datetime64[ns]\n",
       "27                       Anxiety             736         float64\n",
       "21             Frequency [Metal]             736        category\n",
       "28                    Depression             736         float64\n",
       "29                      Insomnia             736         float64\n",
       "30                           OCD             736         float64\n",
       "26  Frequency [Video game music]             736        category\n",
       "20              Frequency [Lofi]             736        category\n",
       "16           Frequency [Hip hop]             736        category\n",
       "18             Frequency [K pop]             736        category\n",
       "17              Frequency [Jazz]             736        category\n",
       "15            Frequency [Gospel]             736        category\n",
       "14              Frequency [Folk]             736        category\n",
       "13               Frequency [EDM]             736        category\n",
       "12           Frequency [Country]             736        category\n",
       "11         Frequency [Classical]             736        category\n",
       "8                    Exploratory             736          object\n",
       "7                      Fav genre             736          object\n",
       "3                  Hours per day             736         float64\n",
       "19             Frequency [Latin]             736        category\n",
       "32                   Permissions             736          object"
      ]
     },
     "execution_count": 12,
     "metadata": {},
     "output_type": "execute_result"
    }
   ],
   "source": [
    "order = [\"Never\", \"Rarely\", \"Sometimes\", \"Very frequently\"]\n",
    "\n",
    "for col in music.columns:\n",
    "    if \"Frequency\" in col:\n",
    "        music[col] = pd.Categorical(music[col], categories=order, ordered=True)\n",
    "\n",
    "music_info_updated = pd.DataFrame({\n",
    "    \"Column\": music.columns,\n",
    "    \"Non-Null Count\": music.count().values,\n",
    "    \"Dtype\": music.dtypes.values\n",
    "})\n",
    "\n",
    "music_info_updated.sort_values(\"Non-Null Count\", ascending=True)"
   ]
  },
  {
   "cell_type": "markdown",
   "metadata": {},
   "source": [
    "### 2.3 Handling NA's "
   ]
  },
  {
   "cell_type": "markdown",
   "metadata": {},
   "source": [
    "It's important to understand how many missing values each column has so we can stratgize ways to handle them."
   ]
  },
  {
   "cell_type": "code",
   "execution_count": 13,
   "metadata": {},
   "outputs": [
    {
     "data": {
      "text/html": [
       "<div>\n",
       "<style scoped>\n",
       "    .dataframe tbody tr th:only-of-type {\n",
       "        vertical-align: middle;\n",
       "    }\n",
       "\n",
       "    .dataframe tbody tr th {\n",
       "        vertical-align: top;\n",
       "    }\n",
       "\n",
       "    .dataframe thead th {\n",
       "        text-align: right;\n",
       "    }\n",
       "</style>\n",
       "<table border=\"1\" class=\"dataframe\">\n",
       "  <thead>\n",
       "    <tr style=\"text-align: right;\">\n",
       "      <th></th>\n",
       "      <th>Column</th>\n",
       "      <th>Missing Values</th>\n",
       "      <th>proportion</th>\n",
       "    </tr>\n",
       "  </thead>\n",
       "  <tbody>\n",
       "    <tr>\n",
       "      <th>10</th>\n",
       "      <td>BPM</td>\n",
       "      <td>107</td>\n",
       "      <td>14.54</td>\n",
       "    </tr>\n",
       "    <tr>\n",
       "      <th>31</th>\n",
       "      <td>Music effects</td>\n",
       "      <td>8</td>\n",
       "      <td>1.09</td>\n",
       "    </tr>\n",
       "    <tr>\n",
       "      <th>5</th>\n",
       "      <td>Instrumentalist</td>\n",
       "      <td>4</td>\n",
       "      <td>0.54</td>\n",
       "    </tr>\n",
       "    <tr>\n",
       "      <th>9</th>\n",
       "      <td>Foreign languages</td>\n",
       "      <td>4</td>\n",
       "      <td>0.54</td>\n",
       "    </tr>\n",
       "    <tr>\n",
       "      <th>4</th>\n",
       "      <td>While working</td>\n",
       "      <td>3</td>\n",
       "      <td>0.41</td>\n",
       "    </tr>\n",
       "    <tr>\n",
       "      <th>2</th>\n",
       "      <td>Primary streaming service</td>\n",
       "      <td>1</td>\n",
       "      <td>0.14</td>\n",
       "    </tr>\n",
       "    <tr>\n",
       "      <th>6</th>\n",
       "      <td>Composer</td>\n",
       "      <td>1</td>\n",
       "      <td>0.14</td>\n",
       "    </tr>\n",
       "    <tr>\n",
       "      <th>1</th>\n",
       "      <td>Age</td>\n",
       "      <td>1</td>\n",
       "      <td>0.14</td>\n",
       "    </tr>\n",
       "  </tbody>\n",
       "</table>\n",
       "</div>"
      ],
      "text/plain": [
       "                       Column  Missing Values  proportion\n",
       "10                        BPM             107       14.54\n",
       "31              Music effects               8        1.09\n",
       "5             Instrumentalist               4        0.54\n",
       "9           Foreign languages               4        0.54\n",
       "4               While working               3        0.41\n",
       "2   Primary streaming service               1        0.14\n",
       "6                    Composer               1        0.14\n",
       "1                         Age               1        0.14"
      ]
     },
     "execution_count": 13,
     "metadata": {},
     "output_type": "execute_result"
    }
   ],
   "source": [
    "na_counts_music = pd.DataFrame({\n",
    "    \"Column\": music.columns,\n",
    "    \"Missing Values\": [music[col].isna().sum() for col in music.columns]\n",
    "})\n",
    "\n",
    "na_counts_music[\"proportion\"] = na_counts_music[\"Missing Values\"]/len(music) * 100\n",
    "na_counts_music = na_counts_music.round(2)\n",
    "na_counts_music = na_counts_music.sort_values(\"proportion\", ascending=False)\n",
    "columns_with_nas = na_counts_music[na_counts_music[\"proportion\"] > 0]\n",
    "columns_with_nas"
   ]
  },
  {
   "cell_type": "markdown",
   "metadata": {},
   "source": [
    "BPM has a large amount of NA's. Let's investigate BPM further."
   ]
  },
  {
   "cell_type": "code",
   "execution_count": 14,
   "metadata": {},
   "outputs": [
    {
     "data": {
      "application/vnd.vegalite.v5+json": {
       "$schema": "https://vega.github.io/schema/vega-lite/v5.20.1.json",
       "config": {
        "view": {
         "continuousHeight": 300,
         "continuousWidth": 300
        }
       },
       "data": {
        "format": {
         "type": "json"
        },
        "url": "altairdata\\altair-data-9b23c454f13a16f9f6047096b19d474b.json"
       },
       "encoding": {
        "x": {
         "bin": {
          "maxbins": 30
         },
         "field": "BPM",
         "title": "BPM (Beats Per Minute)",
         "type": "quantitative"
        },
        "y": {
         "aggregate": "count",
         "title": "Frequency",
         "type": "quantitative"
        }
       },
       "height": 200,
       "mark": {
        "opacity": 0.6,
        "type": "bar"
       },
       "title": "BPM Histogram",
       "width": 200
      },
      "image/png": "[encoded data removed]",
      "text/plain": [
       "<VegaLite 5 object>\n",
       "\n",
       "If you see this message, it means the renderer has not been properly enabled\n",
       "for the frontend that you are using. For more information, see\n",
       "https://altair-viz.github.io/user_guide/display_frontends.html#troubleshooting\n"
      ]
     },
     "execution_count": 14,
     "metadata": {},
     "output_type": "execute_result"
    }
   ],
   "source": [
    "hist_bpm_unprocessed= alt.Chart(music).mark_bar(opacity=0.6).encode(\n",
    "    alt.X(\"BPM:Q\", bin=alt.Bin(maxbins=30), title=\"BPM (Beats Per Minute)\"),\n",
    "    alt.Y(\"count()\", title=\"Frequency\"),\n",
    ").properties(\n",
    "    title=\"BPM Histogram\",\n",
    "    height = 200,\n",
    "    width = 200\n",
    ")\n",
    "hist_bpm_unprocessed"
   ]
  },
  {
   "cell_type": "markdown",
   "metadata": {},
   "source": [
    "Something is causing quite the skew! We need to handle this before we can strategize handling NA's."
   ]
  },
  {
   "cell_type": "markdown",
   "metadata": {},
   "source": [
    "#### 2.3.1 Cleaning BPM"
   ]
  },
  {
   "cell_type": "code",
   "execution_count": 15,
   "metadata": {},
   "outputs": [
    {
     "data": {
      "text/plain": [
       "count    6.290000e+02\n",
       "mean     1.589948e+06\n",
       "min      0.000000e+00\n",
       "25%      1.000000e+02\n",
       "50%      1.200000e+02\n",
       "75%      1.440000e+02\n",
       "max      1.000000e+09\n",
       "std      3.987261e+07\n",
       "Name: BPM, dtype: float64"
      ]
     },
     "execution_count": 15,
     "metadata": {},
     "output_type": "execute_result"
    }
   ],
   "source": [
    "music.describe()[\"BPM\"]"
   ]
  },
  {
   "cell_type": "markdown",
   "metadata": {},
   "source": [
    "BPM has some _massive_ outliers!"
   ]
  },
  {
   "cell_type": "code",
   "execution_count": 16,
   "metadata": {},
   "outputs": [
    {
     "name": "stdout",
     "output_type": "stream",
     "text": [
      "Lowest 10 BPM values:\n",
      "639     0.0\n",
      "524     0.0\n",
      "339     0.0\n",
      "429     4.0\n",
      "567     8.0\n",
      "372    20.0\n",
      "421    40.0\n",
      "214    52.0\n",
      "427    55.0\n",
      "58     55.0\n",
      "Name: BPM, dtype: float64\n",
      "\n",
      "Highest 10 BPM values:\n",
      "229          200.0\n",
      "498          204.0\n",
      "353          208.0\n",
      "564          210.0\n",
      "711          210.0\n",
      "662          218.0\n",
      "248          220.0\n",
      "610          220.0\n",
      "644          624.0\n",
      "568    999999999.0\n",
      "Name: BPM, dtype: float64\n"
     ]
    }
   ],
   "source": [
    "sorted_bpm = music[\"BPM\"].dropna().sort_values(ascending=True)\n",
    "\n",
    "print(\"Lowest 10 BPM values:\")\n",
    "print(sorted_bpm.head(10))\n",
    "\n",
    "print(\"\\nHighest 10 BPM values:\")\n",
    "print(sorted_bpm.tail(10))"
   ]
  },
  {
   "cell_type": "markdown",
   "metadata": {},
   "source": [
    "The top two values are outliers, so are the bottom 5. Let's narrow the range and try displaying the data again."
   ]
  },
  {
   "cell_type": "code",
   "execution_count": 17,
   "metadata": {},
   "outputs": [],
   "source": [
    "maxOutlierBPM = min(music[\"BPM\"].nlargest(2))\n",
    "minOutlierBPM = max(music[\"BPM\"].nsmallest(5))"
   ]
  },
  {
   "cell_type": "code",
   "execution_count": 18,
   "metadata": {},
   "outputs": [
    {
     "data": {
      "application/vnd.vegalite.v5+json": {
       "$schema": "https://vega.github.io/schema/vega-lite/v5.20.1.json",
       "config": {
        "view": {
         "continuousHeight": 300,
         "continuousWidth": 300
        }
       },
       "data": {
        "format": {
         "type": "json"
        },
        "url": "altairdata\\altair-data-d587d640618c35b0ea61a145afb47e2d.json"
       },
       "encoding": {
        "x": {
         "bin": {
          "maxbins": 30
         },
         "field": "BPM",
         "title": "BPM (Beats Per Minute)",
         "type": "quantitative"
        },
        "y": {
         "aggregate": "count",
         "title": "Frequency",
         "type": "quantitative"
        }
       },
       "height": 200,
       "mark": {
        "opacity": 0.6,
        "type": "bar"
       },
       "title": "Outliers Removed",
       "width": 200
      },
      "image/png": "[encoded data removed]",
      "text/plain": [
       "<VegaLite 5 object>\n",
       "\n",
       "If you see this message, it means the renderer has not been properly enabled\n",
       "for the frontend that you are using. For more information, see\n",
       "https://altair-viz.github.io/user_guide/display_frontends.html#troubleshooting\n"
      ]
     },
     "execution_count": 18,
     "metadata": {},
     "output_type": "execute_result"
    }
   ],
   "source": [
    "hist_bpm_outliers_removed= alt.Chart(\n",
    "    music[(music[\"BPM\"] < maxOutlierBPM) & (music[\"BPM\"] > minOutlierBPM)]\n",
    ").mark_bar(opacity=0.6).encode(\n",
    "    alt.X(\"BPM:Q\", bin=alt.Bin(maxbins=30), title=\"BPM (Beats Per Minute)\"),\n",
    "    alt.Y(\"count()\", title=\"Frequency\"),\n",
    ").properties(\n",
    "    title=\"Outliers Removed\",\n",
    "    height = 200,\n",
    "    width = 200\n",
    ")\n",
    "hist_bpm_outliers_removed"
   ]
  },
  {
   "cell_type": "code",
   "execution_count": 19,
   "metadata": {},
   "outputs": [
    {
     "name": "stdout",
     "output_type": "stream",
     "text": [
      "20.0\n",
      "220.0\n"
     ]
    }
   ],
   "source": [
    "droppedMax = music[\"BPM\"].nlargest(2).index\n",
    "droppedMin = music[\"BPM\"].nsmallest(5).index\n",
    "droppedOutliers = droppedMax.union(droppedMin)\n",
    "music_cleaned = music.drop(index=droppedOutliers)\n",
    "print(min(music_cleaned[\"BPM\"]))\n",
    "print(max(music_cleaned[\"BPM\"]))"
   ]
  },
  {
   "cell_type": "markdown",
   "metadata": {},
   "source": [
    "Next, we will handle the missing values. Let's visualize the data using different methods."
   ]
  },
  {
   "cell_type": "code",
   "execution_count": 20,
   "metadata": {},
   "outputs": [],
   "source": [
    "music_imputed_mean = music_cleaned.copy()\n",
    "music_imputed_mean[\"BPM\"] = music_imputed_mean[\"BPM\"].fillna(music_cleaned[\"BPM\"].mean())\n",
    "music_imputed_median = music_cleaned.copy()\n",
    "music_imputed_median[\"BPM\"] = music_imputed_median[\"BPM\"].fillna(music_cleaned[\"BPM\"].median())\n",
    "music_dropped = music_cleaned.dropna(subset=[\"BPM\"])"
   ]
  },
  {
   "cell_type": "code",
   "execution_count": 21,
   "metadata": {},
   "outputs": [
    {
     "data": {
      "application/vnd.vegalite.v5+json": {
       "$schema": "https://vega.github.io/schema/vega-lite/v5.20.1.json",
       "config": {
        "view": {
         "continuousHeight": 300,
         "continuousWidth": 300
        }
       },
       "vconcat": [
        {
         "hconcat": [
          {
           "data": {
            "format": {
             "type": "json"
            },
            "url": "altairdata\\altair-data-9b23c454f13a16f9f6047096b19d474b.json"
           },
           "encoding": {
            "x": {
             "bin": {
              "maxbins": 30
             },
             "field": "BPM",
             "title": "BPM (Beats Per Minute)",
             "type": "quantitative"
            },
            "y": {
             "aggregate": "count",
             "title": "Frequency",
             "type": "quantitative"
            }
           },
           "height": 200,
           "mark": {
            "opacity": 0.6,
            "type": "bar"
           },
           "title": "BPM Histogram",
           "width": 200
          },
          {
           "data": {
            "format": {
             "type": "json"
            },
            "url": "altairdata\\altair-data-d587d640618c35b0ea61a145afb47e2d.json"
           },
           "encoding": {
            "x": {
             "bin": {
              "maxbins": 30
             },
             "field": "BPM",
             "title": "BPM (Beats Per Minute)",
             "type": "quantitative"
            },
            "y": {
             "aggregate": "count",
             "title": "Frequency",
             "type": "quantitative"
            }
           },
           "height": 200,
           "mark": {
            "opacity": 0.6,
            "type": "bar"
           },
           "title": "Outliers Removed",
           "width": 200
          }
         ]
        },
        {
         "hconcat": [
          {
           "data": {
            "format": {
             "type": "json"
            },
            "url": "altairdata\\altair-data-d587d640618c35b0ea61a145afb47e2d.json"
           },
           "encoding": {
            "x": {
             "bin": {
              "maxbins": 30
             },
             "field": "BPM",
             "title": "BPM (Beats Per Minute)",
             "type": "quantitative"
            },
            "y": {
             "aggregate": "count",
             "title": "Frequency",
             "type": "quantitative"
            }
           },
           "height": 200,
           "mark": {
            "opacity": 0.6,
            "type": "bar"
           },
           "title": "Dropped NA BPM",
           "width": 200
          },
          {
           "data": {
            "format": {
             "type": "json"
            },
            "url": "altairdata\\altair-data-e737e6d3d0890872abdb6ec60b6e2588.json"
           },
           "encoding": {
            "x": {
             "bin": {
              "maxbins": 30
             },
             "field": "BPM",
             "title": "BPM (Beats Per Minute)",
             "type": "quantitative"
            },
            "y": {
             "aggregate": "count",
             "title": "Frequency",
             "type": "quantitative"
            }
           },
           "height": 200,
           "mark": {
            "opacity": 0.6,
            "type": "bar"
           },
           "title": "Imputed BMP (Mean)",
           "width": 200
          },
          {
           "data": {
            "format": {
             "type": "json"
            },
            "url": "altairdata\\altair-data-e2520bd388aa5dd08d7ae24639902ac9.json"
           },
           "encoding": {
            "x": {
             "bin": {
              "maxbins": 30
             },
             "field": "BPM",
             "title": "BPM (Beats Per Minute)",
             "type": "quantitative"
            },
            "y": {
             "aggregate": "count",
             "title": "Frequency",
             "type": "quantitative"
            }
           },
           "height": 200,
           "mark": {
            "opacity": 0.6,
            "type": "bar"
           },
           "title": "Imputed BMP (Median)",
           "width": 200
          }
         ]
        }
       ]
      },
      "image/png": "[encoded data removed]",
      "text/plain": [
       "<VegaLite 5 object>\n",
       "\n",
       "If you see this message, it means the renderer has not been properly enabled\n",
       "for the frontend that you are using. For more information, see\n",
       "https://altair-viz.github.io/user_guide/display_frontends.html#troubleshooting\n"
      ]
     },
     "execution_count": 21,
     "metadata": {},
     "output_type": "execute_result"
    }
   ],
   "source": [
    "\n",
    "hist_bpm_imputed_mean = alt.Chart(\n",
    "    music_imputed_mean\n",
    ").mark_bar(opacity=0.6).encode(\n",
    "    alt.X(\"BPM:Q\", bin=alt.Bin(maxbins=30), title=\"BPM (Beats Per Minute)\"),\n",
    "    alt.Y(\"count()\", title=\"Frequency\"),\n",
    ").properties(\n",
    "    title=\"Imputed BMP (Mean)\",\n",
    "    height = 200,\n",
    "    width = 200\n",
    ")\n",
    "hist_bpm_imputed_median = alt.Chart(\n",
    "    music_imputed_median\n",
    ").mark_bar(opacity=0.6).encode(\n",
    "    alt.X(\"BPM:Q\", bin=alt.Bin(maxbins=30), title=\"BPM (Beats Per Minute)\"),\n",
    "    alt.Y(\"count()\", title=\"Frequency\"),\n",
    ").properties(\n",
    "    title=\"Imputed BMP (Median)\",\n",
    "    height = 200,\n",
    "    width = 200\n",
    ")\n",
    "hist_bpm_dropped = alt.Chart(\n",
    "    music_dropped\n",
    ").mark_bar(opacity=0.6).encode(\n",
    "    alt.X(\"BPM:Q\", bin=alt.Bin(maxbins=30), title=\"BPM (Beats Per Minute)\"),\n",
    "    alt.Y(\"count()\", title=\"Frequency\"),\n",
    ").properties(\n",
    "    title=\"Dropped NA BPM\", \n",
    "    height = 200,\n",
    "    width = 200\n",
    ")\n",
    "(hist_bpm_unprocessed | hist_bpm_outliers_removed) & (hist_bpm_dropped | hist_bpm_imputed_mean | hist_bpm_imputed_median)"
   ]
  },
  {
   "cell_type": "markdown",
   "metadata": {},
   "source": [
    "Imputing using mean or median is causing a large peak at the mean/median. Let's try imputing using trends in the data."
   ]
  },
  {
   "cell_type": "code",
   "execution_count": 22,
   "metadata": {},
   "outputs": [
    {
     "data": {
      "application/vnd.vegalite.v5+json": {
       "$schema": "https://vega.github.io/schema/vega-lite/v5.20.1.json",
       "config": {
        "view": {
         "continuousHeight": 300,
         "continuousWidth": 300
        }
       },
       "data": {
        "format": {
         "type": "json"
        },
        "url": "altairdata\\altair-data-9f1f618a039c37e5e1a7aa977746e820.json"
       },
       "encoding": {
        "x": {
         "bin": {
          "maxbins": 30
         },
         "field": "BPM",
         "title": "BPM (Beats Per Minute)",
         "type": "quantitative"
        },
        "y": {
         "aggregate": "count",
         "title": "Frequency",
         "type": "quantitative"
        }
       },
       "height": 200,
       "mark": {
        "opacity": 0.6,
        "type": "bar"
       },
       "title": "Interpolated BPM",
       "width": 200
      },
      "image/png": "[encoded data removed]",
      "text/plain": [
       "<VegaLite 5 object>\n",
       "\n",
       "If you see this message, it means the renderer has not been properly enabled\n",
       "for the frontend that you are using. For more information, see\n",
       "https://altair-viz.github.io/user_guide/display_frontends.html#troubleshooting\n"
      ]
     },
     "execution_count": 22,
     "metadata": {},
     "output_type": "execute_result"
    }
   ],
   "source": [
    "music_interpolated = music_cleaned.copy()\n",
    "music_interpolated[\"BPM\"] = music_cleaned[\"BPM\"].interpolate(method=\"linear\")\n",
    "\n",
    "hist_bpm_interpolated = alt.Chart(\n",
    "    music_interpolated\n",
    ").mark_bar(opacity=0.6).encode(\n",
    "    alt.X(\"BPM:Q\", bin=alt.Bin(maxbins=30), title=\"BPM (Beats Per Minute)\"),\n",
    "    alt.Y(\"count()\", title=\"Frequency\"),\n",
    ").properties(\n",
    "    title=\"Interpolated BPM\", \n",
    "    height = 200,\n",
    "    width = 200\n",
    ")\n",
    "hist_bpm_interpolated"
   ]
  },
  {
   "cell_type": "code",
   "execution_count": 23,
   "metadata": {},
   "outputs": [
    {
     "data": {
      "application/vnd.vegalite.v5+json": {
       "$schema": "https://vega.github.io/schema/vega-lite/v5.20.1.json",
       "config": {
        "view": {
         "continuousHeight": 300,
         "continuousWidth": 300
        }
       },
       "data": {
        "format": {
         "type": "json"
        },
        "url": "altairdata\\altair-data-c82bf16271e5f8349204b07a79b45b16.json"
       },
       "encoding": {
        "x": {
         "bin": {
          "maxbins": 30
         },
         "field": "BPM",
         "title": "BPM (Beats Per Minute)",
         "type": "quantitative"
        },
        "y": {
         "aggregate": "count",
         "title": "Frequency",
         "type": "quantitative"
        }
       },
       "height": 200,
       "mark": {
        "opacity": 0.6,
        "type": "bar"
       },
       "title": "Randomly sampled BPM",
       "width": 200
      },
      "image/png": "[encoded data removed]",
      "text/plain": [
       "<VegaLite 5 object>\n",
       "\n",
       "If you see this message, it means the renderer has not been properly enabled\n",
       "for the frontend that you are using. For more information, see\n",
       "https://altair-viz.github.io/user_guide/display_frontends.html#troubleshooting\n"
      ]
     },
     "execution_count": 23,
     "metadata": {},
     "output_type": "execute_result"
    }
   ],
   "source": [
    "bpm_values = music_cleaned[\"BPM\"].dropna()\n",
    "music_filled_random_sampling = music_cleaned.copy()\n",
    "music_filled_random_sampling[\"BPM\"] = music_cleaned[\"BPM\"].apply(lambda x: np.random.choice(bpm_values) if pd.isna(x) else x)\n",
    "\n",
    "hist_music_sampled = alt.Chart(\n",
    "    music_filled_random_sampling\n",
    ").mark_bar(opacity=0.6).encode(\n",
    "    alt.X(\"BPM:Q\", bin=alt.Bin(maxbins=30), title=\"BPM (Beats Per Minute)\"),\n",
    "    alt.Y(\"count()\", title=\"Frequency\"),\n",
    ").properties(\n",
    "    title=\"Randomly sampled BPM\", \n",
    "    height = 200,\n",
    "    width = 200\n",
    ")\n",
    "hist_music_sampled"
   ]
  },
  {
   "cell_type": "markdown",
   "metadata": {},
   "source": [
    "For missing values, we should either impute using randomly sampled BPM or interpolated BPM. This will best preserve the original shape without causing the massive peak at the centre. Let's go with interpolation."
   ]
  },
  {
   "cell_type": "code",
   "execution_count": 24,
   "metadata": {},
   "outputs": [
    {
     "data": {
      "application/vnd.vegalite.v5+json": {
       "$schema": "https://vega.github.io/schema/vega-lite/v5.20.1.json",
       "config": {
        "view": {
         "continuousHeight": 300,
         "continuousWidth": 300
        }
       },
       "data": {
        "format": {
         "type": "json"
        },
        "url": "altairdata\\altair-data-9f1f618a039c37e5e1a7aa977746e820.json"
       },
       "encoding": {
        "x": {
         "bin": {
          "maxbins": 30
         },
         "field": "BPM",
         "title": "BPM (Beats Per Minute)",
         "type": "quantitative"
        },
        "y": {
         "aggregate": "count",
         "title": "Frequency",
         "type": "quantitative"
        }
       },
       "height": 200,
       "mark": {
        "opacity": 0.6,
        "type": "bar"
       },
       "title": "Interpolated BPM",
       "width": 200
      },
      "image/png": "[encoded data removed]",
      "text/plain": [
       "<VegaLite 5 object>\n",
       "\n",
       "If you see this message, it means the renderer has not been properly enabled\n",
       "for the frontend that you are using. For more information, see\n",
       "https://altair-viz.github.io/user_guide/display_frontends.html#troubleshooting\n"
      ]
     },
     "execution_count": 24,
     "metadata": {},
     "output_type": "execute_result"
    }
   ],
   "source": [
    "music_cleaned_imputed = music_cleaned.copy()  # Make a copy to keep original data\n",
    "music_cleaned_imputed[\"BPM\"] = music_cleaned_imputed[\"BPM\"].interpolate(method=\"linear\")\n",
    "\n",
    "\n",
    "hist_cleaned_imputed = alt.Chart(\n",
    "    music_cleaned_imputed\n",
    ").mark_bar(opacity=0.6).encode(\n",
    "    alt.X(\"BPM:Q\", bin=alt.Bin(maxbins=30), title=\"BPM (Beats Per Minute)\"),\n",
    "    alt.Y(\"count()\", title=\"Frequency\"),\n",
    ").properties(\n",
    "    title=\"Interpolated BPM\", \n",
    "    height = 200,\n",
    "    width = 200\n",
    ")\n",
    "hist_cleaned_imputed"
   ]
  },
  {
   "cell_type": "markdown",
   "metadata": {},
   "source": [
    "#### 2.3.2 Cleaning Other Columns with NA's"
   ]
  },
  {
   "cell_type": "code",
   "execution_count": 25,
   "metadata": {},
   "outputs": [
    {
     "data": {
      "text/html": [
       "<div>\n",
       "<style scoped>\n",
       "    .dataframe tbody tr th:only-of-type {\n",
       "        vertical-align: middle;\n",
       "    }\n",
       "\n",
       "    .dataframe tbody tr th {\n",
       "        vertical-align: top;\n",
       "    }\n",
       "\n",
       "    .dataframe thead th {\n",
       "        text-align: right;\n",
       "    }\n",
       "</style>\n",
       "<table border=\"1\" class=\"dataframe\">\n",
       "  <thead>\n",
       "    <tr style=\"text-align: right;\">\n",
       "      <th></th>\n",
       "      <th>Column</th>\n",
       "      <th>Missing Values</th>\n",
       "      <th>proportion</th>\n",
       "    </tr>\n",
       "  </thead>\n",
       "  <tbody>\n",
       "    <tr>\n",
       "      <th>10</th>\n",
       "      <td>BPM</td>\n",
       "      <td>107</td>\n",
       "      <td>14.54</td>\n",
       "    </tr>\n",
       "    <tr>\n",
       "      <th>31</th>\n",
       "      <td>Music effects</td>\n",
       "      <td>8</td>\n",
       "      <td>1.09</td>\n",
       "    </tr>\n",
       "    <tr>\n",
       "      <th>5</th>\n",
       "      <td>Instrumentalist</td>\n",
       "      <td>4</td>\n",
       "      <td>0.54</td>\n",
       "    </tr>\n",
       "    <tr>\n",
       "      <th>9</th>\n",
       "      <td>Foreign languages</td>\n",
       "      <td>4</td>\n",
       "      <td>0.54</td>\n",
       "    </tr>\n",
       "    <tr>\n",
       "      <th>4</th>\n",
       "      <td>While working</td>\n",
       "      <td>3</td>\n",
       "      <td>0.41</td>\n",
       "    </tr>\n",
       "    <tr>\n",
       "      <th>2</th>\n",
       "      <td>Primary streaming service</td>\n",
       "      <td>1</td>\n",
       "      <td>0.14</td>\n",
       "    </tr>\n",
       "    <tr>\n",
       "      <th>6</th>\n",
       "      <td>Composer</td>\n",
       "      <td>1</td>\n",
       "      <td>0.14</td>\n",
       "    </tr>\n",
       "    <tr>\n",
       "      <th>1</th>\n",
       "      <td>Age</td>\n",
       "      <td>1</td>\n",
       "      <td>0.14</td>\n",
       "    </tr>\n",
       "  </tbody>\n",
       "</table>\n",
       "</div>"
      ],
      "text/plain": [
       "                       Column  Missing Values  proportion\n",
       "10                        BPM             107       14.54\n",
       "31              Music effects               8        1.09\n",
       "5             Instrumentalist               4        0.54\n",
       "9           Foreign languages               4        0.54\n",
       "4               While working               3        0.41\n",
       "2   Primary streaming service               1        0.14\n",
       "6                    Composer               1        0.14\n",
       "1                         Age               1        0.14"
      ]
     },
     "execution_count": 25,
     "metadata": {},
     "output_type": "execute_result"
    }
   ],
   "source": [
    "columns_with_nas"
   ]
  },
  {
   "cell_type": "markdown",
   "metadata": {},
   "source": [
    "Since the number of NA's is fairly small, we can go ahead and drop these rows."
   ]
  },
  {
   "cell_type": "code",
   "execution_count": 26,
   "metadata": {},
   "outputs": [],
   "source": [
    "music_cleaned_imputed.dropna(inplace=True)"
   ]
  },
  {
   "cell_type": "code",
   "execution_count": 27,
   "metadata": {},
   "outputs": [
    {
     "data": {
      "text/plain": [
       "Timestamp                       0\n",
       "Age                             0\n",
       "Primary streaming service       0\n",
       "Hours per day                   0\n",
       "While working                   0\n",
       "Instrumentalist                 0\n",
       "Composer                        0\n",
       "Fav genre                       0\n",
       "Exploratory                     0\n",
       "Foreign languages               0\n",
       "BPM                             0\n",
       "Frequency [Classical]           0\n",
       "Frequency [Country]             0\n",
       "Frequency [EDM]                 0\n",
       "Frequency [Folk]                0\n",
       "Frequency [Gospel]              0\n",
       "Frequency [Hip hop]             0\n",
       "Frequency [Jazz]                0\n",
       "Frequency [K pop]               0\n",
       "Frequency [Latin]               0\n",
       "Frequency [Lofi]                0\n",
       "Frequency [Metal]               0\n",
       "Frequency [Pop]                 0\n",
       "Frequency [R&B]                 0\n",
       "Frequency [Rap]                 0\n",
       "Frequency [Rock]                0\n",
       "Frequency [Video game music]    0\n",
       "Anxiety                         0\n",
       "Depression                      0\n",
       "Insomnia                        0\n",
       "OCD                             0\n",
       "Music effects                   0\n",
       "Permissions                     0\n",
       "dtype: int64"
      ]
     },
     "execution_count": 27,
     "metadata": {},
     "output_type": "execute_result"
    }
   ],
   "source": [
    "music_cleaned_imputed_count = music_cleaned_imputed.isna().sum()\n",
    "music_cleaned_imputed_count"
   ]
  },
  {
   "cell_type": "markdown",
   "metadata": {},
   "source": [
    "## 3. Exploratory Data Analysis"
   ]
  },
  {
   "cell_type": "markdown",
   "metadata": {},
   "source": [
    "### 3.1 Numerical Univariate Analysis"
   ]
  },
  {
   "cell_type": "markdown",
   "metadata": {},
   "source": [
    "Let's investigate the columns by looking at histograms for each numerical column:"
   ]
  },
  {
   "cell_type": "code",
   "execution_count": 28,
   "metadata": {},
   "outputs": [
    {
     "data": {
      "application/vnd.vegalite.v5+json": {
       "$schema": "https://vega.github.io/schema/vega-lite/v5.20.1.json",
       "config": {
        "view": {
         "continuousHeight": 300,
         "continuousWidth": 300
        }
       },
       "data": {
        "format": {
         "type": "json"
        },
        "url": "altairdata\\altair-data-f803a73f757e2e56195f57acb4c0f2e8.json"
       },
       "encoding": {
        "facet": {
         "columns": 2,
         "field": "Column",
         "title": null,
         "type": "nominal"
        },
        "x": {
         "bin": {
          "maxbins": 10
         },
         "field": "Value",
         "title": "Value",
         "type": "quantitative"
        },
        "y": {
         "aggregate": "count",
         "title": "Frequency",
         "type": "quantitative"
        }
       },
       "height": 150,
       "mark": {
        "opacity": 0.6,
        "type": "bar"
       },
       "width": 200
      },
      "image/png": "[encoded data removed]",
      "text/plain": [
       "<VegaLite 5 object>\n",
       "\n",
       "If you see this message, it means the renderer has not been properly enabled\n",
       "for the frontend that you are using. For more information, see\n",
       "https://altair-viz.github.io/user_guide/display_frontends.html#troubleshooting\n"
      ]
     },
     "execution_count": 28,
     "metadata": {},
     "output_type": "execute_result"
    }
   ],
   "source": [
    "music_mental_illnesses = music_cleaned_imputed.drop(columns=[\"Age\", \"Hours per day\", \"BPM\"])\n",
    "music_mental_illnesses = music_mental_illnesses.drop(columns=categorical)\n",
    "music_mental_illnesses = music_mental_illnesses.drop(columns=dropped)\n",
    "music_mental_illnesses = music_mental_illnesses.drop(columns=temporal)\n",
    "\n",
    "music_melted = music_mental_illnesses.melt(value_vars=music_mental_illnesses.columns, var_name=\"Column\", value_name=\"Value\")\n",
    "\n",
    "mental_illness_distribution_hist = alt.Chart(music_melted).mark_bar(opacity=0.6).encode(\n",
    "    alt.X(\"Value:Q\", bin=alt.Bin(maxbins=10), title=\"Value\"),\n",
    "    alt.Y('count()', title=\"Frequency\"),\n",
    "    alt.Facet(\"Column:N\", title=None, columns=2) \n",
    ").properties(\n",
    "    width=200,\n",
    "    height=150\n",
    ")\n",
    "\n",
    "mental_illness_distribution_hist"
   ]
  },
  {
   "cell_type": "markdown",
   "metadata": {},
   "source": [
    "We can see that the mental health reporting has values varying between 0 and 10, which matches with the 10 point scale used by the survey. \n",
    "\n",
    "- Anxiety has a slight peak towards the larger values (left skewed)\n",
    "- Depression is fairly flat, which some fluxuation\n",
    "- Both insomnia and OCD is skewed towards zero (right skewed)"
   ]
  },
  {
   "cell_type": "code",
   "execution_count": 29,
   "metadata": {},
   "outputs": [
    {
     "data": {
      "application/vnd.vegalite.v5+json": {
       "$schema": "https://vega.github.io/schema/vega-lite/v5.20.1.json",
       "config": {
        "view": {
         "continuousHeight": 300,
         "continuousWidth": 300
        }
       },
       "data": {
        "format": {
         "type": "json"
        },
        "url": "altairdata\\altair-data-199217efa6135830b8a6687b72f7fbba.json"
       },
       "hconcat": [
        {
         "encoding": {
          "tooltip": [
           {
            "field": "Age",
            "type": "quantitative"
           },
           {
            "aggregate": "count",
            "type": "quantitative"
           }
          ],
          "x": {
           "bin": {
            "maxbins": 20
           },
           "field": "Age",
           "title": "Age (years)",
           "type": "quantitative"
          },
          "y": {
           "aggregate": "count",
           "title": "Frequency",
           "type": "quantitative"
          }
         },
         "height": 150,
         "mark": {
          "opacity": 0.6,
          "type": "bar"
         },
         "title": "Distribution of Age",
         "width": 200
        },
        {
         "encoding": {
          "tooltip": [
           {
            "field": "Hours per day",
            "type": "quantitative"
           },
           {
            "aggregate": "count",
            "type": "quantitative"
           }
          ],
          "x": {
           "bin": {
            "maxbins": 15
           },
           "field": "Hours per day",
           "title": "Hours per day",
           "type": "quantitative"
          },
          "y": {
           "aggregate": "count",
           "title": "Frequency",
           "type": "quantitative"
          }
         },
         "height": 150,
         "mark": {
          "opacity": 0.6,
          "type": "bar"
         },
         "title": "Distribution of Hours listened per day",
         "width": 200
        },
        {
         "encoding": {
          "tooltip": [
           {
            "field": "BPM",
            "type": "quantitative"
           },
           {
            "aggregate": "count",
            "type": "quantitative"
           }
          ],
          "x": {
           "bin": {
            "maxbins": 15
           },
           "field": "BPM",
           "title": "BPM of Music",
           "type": "quantitative"
          },
          "y": {
           "aggregate": "count",
           "title": "Frequency",
           "type": "quantitative"
          }
         },
         "height": 150,
         "mark": {
          "opacity": 0.6,
          "type": "bar"
         },
         "title": "Distribution of Music BPM",
         "width": 200
        }
       ]
      },
      "image/png": "[encoded data removed]",
      "text/plain": [
       "<VegaLite 5 object>\n",
       "\n",
       "If you see this message, it means the renderer has not been properly enabled\n",
       "for the frontend that you are using. For more information, see\n",
       "https://altair-viz.github.io/user_guide/display_frontends.html#troubleshooting\n"
      ]
     },
     "execution_count": 29,
     "metadata": {},
     "output_type": "execute_result"
    }
   ],
   "source": [
    "hist_age = alt.Chart(music_cleaned_imputed).mark_bar(opacity=0.6).encode(\n",
    "    alt.X(\"Age:Q\", bin=alt.Bin(maxbins=20), title=\"Age (years)\"),\n",
    "    alt.Y('count()', title=\"Frequency\"),\n",
    "    tooltip = [\"Age\", \"count()\"]\n",
    ").properties(\n",
    "    width=200,\n",
    "    height=150,\n",
    "    title=\"Distribution of Age\"\n",
    ")\n",
    "hist_hours = alt.Chart(music_cleaned_imputed).mark_bar(opacity=0.6).encode(\n",
    "    alt.X(\"Hours per day:Q\", bin=alt.Bin(maxbins=15), title=\"Hours per day\"),\n",
    "    alt.Y('count()', title=\"Frequency\"),\n",
    "    tooltip = [\"Hours per day\", \"count()\"]\n",
    ").properties(\n",
    "    width=200,\n",
    "    height=150,\n",
    "    title=\"Distribution of Hours listened per day\"\n",
    ")\n",
    "hist_bpm = alt.Chart(music_cleaned_imputed).mark_bar(opacity=0.6).encode(\n",
    "    alt.X(\"BPM:Q\", bin=alt.Bin(maxbins=15), title=\"BPM of Music\"),\n",
    "    alt.Y('count()', title=\"Frequency\"),\n",
    "    tooltip = [\"BPM\", \"count()\"]\n",
    ").properties(\n",
    "    width=200,\n",
    "    height=150,\n",
    "    title=\"Distribution of Music BPM\"\n",
    ")\n",
    "\n",
    "hist_age | hist_hours | hist_bpm\n"
   ]
  },
  {
   "cell_type": "markdown",
   "metadata": {},
   "source": [
    "Respondant age skews younger, which is unsurprising considering that the survey was published using online forums and social media sites. Distribution of hours listened per day is skewed towards 0-8 hours, with a three people listening 24 hours a day. BPM, now that it has been cleaned and sliced, displays a tendency for individuals to listen to music around 120 bpm. "
   ]
  },
  {
   "cell_type": "markdown",
   "metadata": {},
   "source": [
    "### 3.2 Categorical Univariate Analysis"
   ]
  },
  {
   "cell_type": "markdown",
   "metadata": {},
   "source": [
    "To start, let's see which are the most popular genres."
   ]
  },
  {
   "cell_type": "code",
   "execution_count": 37,
   "metadata": {},
   "outputs": [
    {
     "data": {
      "application/vnd.vegalite.v5+json": {
       "$schema": "https://vega.github.io/schema/vega-lite/v5.20.1.json",
       "config": {
        "view": {
         "continuousHeight": 300,
         "continuousWidth": 300
        }
       },
       "data": {
        "format": {
         "type": "json"
        },
        "url": "altairdata\\altair-data-e1023685e13b0bbd18239730ec496d5c.json"
       },
       "encoding": {
        "tooltip": [
         {
          "field": "Fav genre",
          "type": "nominal"
         },
         {
          "aggregate": "count",
          "field": "Fav genre",
          "type": "quantitative"
         }
        ],
        "x": {
         "aggregate": "count",
         "field": "Fav genre",
         "title": "Count",
         "type": "nominal"
        },
        "y": {
         "field": "Fav genre",
         "sort": "-x",
         "title": "Fav Genre",
         "type": "nominal"
        }
       },
       "mark": {
        "type": "bar"
       }
      },
      "image/png": "[encoded data removed]",
      "text/plain": [
       "<VegaLite 5 object>\n",
       "\n",
       "If you see this message, it means the renderer has not been properly enabled\n",
       "for the frontend that you are using. For more information, see\n",
       "https://altair-viz.github.io/user_guide/display_frontends.html#troubleshooting\n"
      ]
     },
     "execution_count": 37,
     "metadata": {},
     "output_type": "execute_result"
    }
   ],
   "source": [
    "alt.Chart(music_cleaned_imputed).mark_bar().encode(\n",
    "    alt.Y(\"Fav genre:N\", title=\"Fav Genre\", sort = \"-x\"),\n",
    "    alt.X(\"count(Fav genre)\", title=\"Count\"), \n",
    "    alt.Tooltip([\"Fav genre\", \"count(Fav genre):Q\"])\n",
    ")"
   ]
  },
  {
   "cell_type": "markdown",
   "metadata": {},
   "source": [
    "It seems as though Rock, Pop, Metal and Classical are the top genres. Although it is interesting to examine all genres, it may be challenging to compare Latin which only got 2 votes vs. rock which got 184. Perhaps it would be more meaningful to examine the within-genre variation for just the top four."
   ]
  },
  {
   "cell_type": "markdown",
   "metadata": {},
   "source": [
    "I also want to examine the instrumentalist and composer columns to see the break down of those who play/make music vs. those who do not."
   ]
  },
  {
   "cell_type": "code",
   "execution_count": 38,
   "metadata": {},
   "outputs": [
    {
     "data": {
      "application/vnd.vegalite.v5+json": {
       "$schema": "https://vega.github.io/schema/vega-lite/v5.20.1.json",
       "config": {
        "view": {
         "continuousHeight": 300,
         "continuousWidth": 300
        }
       },
       "data": {
        "format": {
         "type": "json"
        },
        "url": "altairdata\\altair-data-e1023685e13b0bbd18239730ec496d5c.json"
       },
       "vconcat": [
        {
         "encoding": {
          "tooltip": [
           {
            "field": "Composer",
            "type": "nominal"
           },
           {
            "aggregate": "count",
            "field": "Composer",
            "type": "quantitative"
           }
          ],
          "x": {
           "aggregate": "count",
           "field": "Composer",
           "title": "Count",
           "type": "nominal"
          },
          "y": {
           "field": "Composer",
           "sort": "-x",
           "title": null,
           "type": "nominal"
          }
         },
         "mark": {
          "type": "bar"
         },
         "title": "Do you compose music?"
        },
        {
         "encoding": {
          "tooltip": [
           {
            "field": "Instrumentalist",
            "type": "nominal"
           },
           {
            "aggregate": "count",
            "field": "Instrumentalist",
            "type": "quantitative"
           }
          ],
          "x": {
           "aggregate": "count",
           "field": "Instrumentalist",
           "title": "Count",
           "type": "nominal"
          },
          "y": {
           "field": "Instrumentalist",
           "sort": "-x",
           "title": null,
           "type": "nominal"
          }
         },
         "mark": {
          "type": "bar"
         },
         "title": "Do you play a musical instrument?"
        }
       ]
      },
      "image/png": "[encoded data removed]",
      "text/plain": [
       "<VegaLite 5 object>\n",
       "\n",
       "If you see this message, it means the renderer has not been properly enabled\n",
       "for the frontend that you are using. For more information, see\n",
       "https://altair-viz.github.io/user_guide/display_frontends.html#troubleshooting\n"
      ]
     },
     "execution_count": 38,
     "metadata": {},
     "output_type": "execute_result"
    }
   ],
   "source": [
    "composer = alt.Chart(music_cleaned_imputed).mark_bar().encode(\n",
    "    alt.Y(\"Composer:N\", title=None, sort = \"-x\"),\n",
    "    alt.X(\"count(Composer)\", title=\"Count\"), \n",
    "    alt.Tooltip([\"Composer\", \"count(Composer):Q\"])\n",
    ").properties(\n",
    "    title = \"Do you compose music?\"\n",
    ")\n",
    "\n",
    "# Instrumentalist\n",
    "instrumentalist = alt.Chart(music_cleaned_imputed).mark_bar().encode(\n",
    "    alt.Y(\"Instrumentalist:N\", title=None, sort = \"-x\"),\n",
    "    alt.X(\"count(Instrumentalist)\", title=\"Count\"), \n",
    "    alt.Tooltip([\"Instrumentalist\", \"count(Instrumentalist):Q\"])\n",
    ").properties(\n",
    "    title = \"Do you play a musical instrument?\"\n",
    ")\n",
    "\n",
    "composer & instrumentalist"
   ]
  },
  {
   "cell_type": "markdown",
   "metadata": {},
   "source": [
    "Based on this, we can see that most respondants do not compose music compared to those who do, and most respondants do not play a musical instrument compared to those that do.\n",
    "\n",
    "Let's make a new chart to show those who: play an instrument, those who compose, those who do both, and those that do neither."
   ]
  },
  {
   "cell_type": "code",
   "execution_count": 39,
   "metadata": {},
   "outputs": [
    {
     "data": {
      "application/vnd.vegalite.v5+json": {
       "$schema": "https://vega.github.io/schema/vega-lite/v5.20.1.json",
       "config": {
        "view": {
         "continuousHeight": 300,
         "continuousWidth": 300
        }
       },
       "data": {
        "format": {
         "type": "json"
        },
        "url": "altairdata\\altair-data-7528106a9bc9da1ce97f772bed2e8e6c.json"
       },
       "encoding": {
        "tooltip": [
         {
          "field": "Player_Composer",
          "type": "nominal"
         },
         {
          "aggregate": "count",
          "field": "Player_Composer",
          "type": "quantitative"
         }
        ],
        "x": {
         "aggregate": "count",
         "field": "Player_Composer",
         "title": "Count",
         "type": "nominal"
        },
        "y": {
         "field": "Player_Composer",
         "sort": "-x",
         "title": null,
         "type": "nominal"
        }
       },
       "mark": {
        "type": "bar"
       },
       "title": "Do you play a musical instrument and compose music?"
      },
      "image/png": "[encoded data removed]",
      "text/plain": [
       "<VegaLite 5 object>\n",
       "\n",
       "If you see this message, it means the renderer has not been properly enabled\n",
       "for the frontend that you are using. For more information, see\n",
       "https://altair-viz.github.io/user_guide/display_frontends.html#troubleshooting\n"
      ]
     },
     "execution_count": 39,
     "metadata": {},
     "output_type": "execute_result"
    }
   ],
   "source": [
    "music_cleaned_imputed['Player_Composer'] = (\n",
    "    (music_cleaned_imputed[\"Composer\"] == \"Yes\") & (music_cleaned_imputed[\"Instrumentalist\"] == \"Yes\")\n",
    ").map({True: \"Yes\", False: \"No\"})\n",
    "\n",
    "player_and_composer = alt.Chart(music_cleaned_imputed).mark_bar().encode(\n",
    "    alt.Y(\"Player_Composer:N\", title=None, sort = \"-x\"),\n",
    "    alt.X(\"count(Player_Composer)\", title=\"Count\"), \n",
    "    alt.Tooltip([\"Player_Composer\", \"count(Player_Composer):Q\"])\n",
    ").properties(\n",
    "    title = \"Do you play a musical instrument and compose music?\"\n",
    ")\n",
    "player_and_composer"
   ]
  },
  {
   "cell_type": "code",
   "execution_count": 43,
   "metadata": {},
   "outputs": [
    {
     "data": {
      "application/vnd.vegalite.v5+json": {
       "$schema": "https://vega.github.io/schema/vega-lite/v5.20.1.json",
       "config": {
        "view": {
         "continuousHeight": 300,
         "continuousWidth": 300
        }
       },
       "data": {
        "format": {
         "type": "json"
        },
        "url": "altairdata\\altair-data-1ebd58f97c50f5afa0abd03636a857bd.json"
       },
       "encoding": {
        "tooltip": [
         {
          "field": "No_musical_hobbies",
          "type": "nominal"
         },
         {
          "aggregate": "count",
          "field": "No_musical_hobbies",
          "type": "quantitative"
         }
        ],
        "x": {
         "aggregate": "count",
         "field": "No_musical_hobbies",
         "title": "Count",
         "type": "nominal"
        },
        "y": {
         "field": "No_musical_hobbies",
         "sort": "-x",
         "title": null,
         "type": "nominal"
        }
       },
       "mark": {
        "type": "bar"
       },
       "title": "Do you NOT play a musical instrument nor compose music?"
      },
      "image/png": "[encoded data removed]",
      "text/plain": [
       "<VegaLite 5 object>\n",
       "\n",
       "If you see this message, it means the renderer has not been properly enabled\n",
       "for the frontend that you are using. For more information, see\n",
       "https://altair-viz.github.io/user_guide/display_frontends.html#troubleshooting\n"
      ]
     },
     "execution_count": 43,
     "metadata": {},
     "output_type": "execute_result"
    }
   ],
   "source": [
    "music_cleaned_imputed['No_musical_hobbies'] = (\n",
    "    (music_cleaned_imputed[\"Composer\"] == \"No\") & (music_cleaned_imputed[\"Instrumentalist\"] == \"No\")\n",
    ").map({True: \"Yes\", False: \"No\"})\n",
    "\n",
    "not_player_nor_composer = alt.Chart(music_cleaned_imputed).mark_bar().encode(\n",
    "    alt.Y(\"No_musical_hobbies:N\", title=None, sort = \"-x\"),\n",
    "    alt.X(\"count(No_musical_hobbies)\", title=\"Count\"), \n",
    "    alt.Tooltip([\"No_musical_hobbies\", \"count(No_musical_hobbies):Q\"])\n",
    ").properties(\n",
    "    title = \"Do you NOT play a musical instrument nor compose music?\"\n",
    ")\n",
    "not_player_nor_composer"
   ]
  },
  {
   "cell_type": "markdown",
   "metadata": {},
   "source": [
    "There is a larger number of respondants who do not play a musical instrument nor compose music. "
   ]
  },
  {
   "cell_type": "markdown",
   "metadata": {},
   "source": [
    "Fianlly, for categorical variables, I want to examine the outcome column: Music effects"
   ]
  },
  {
   "cell_type": "code",
   "execution_count": 45,
   "metadata": {},
   "outputs": [
    {
     "data": {
      "application/vnd.vegalite.v5+json": {
       "$schema": "https://vega.github.io/schema/vega-lite/v5.20.1.json",
       "config": {
        "view": {
         "continuousHeight": 300,
         "continuousWidth": 300
        }
       },
       "data": {
        "format": {
         "type": "json"
        },
        "url": "altairdata\\altair-data-1ebd58f97c50f5afa0abd03636a857bd.json"
       },
       "encoding": {
        "tooltip": [
         {
          "field": "Music effects",
          "type": "nominal"
         },
         {
          "aggregate": "count",
          "field": "Music effects",
          "type": "quantitative"
         }
        ],
        "x": {
         "aggregate": "count",
         "field": "Music effects",
         "title": "Count",
         "type": "nominal"
        },
        "y": {
         "field": "Music effects",
         "sort": "-x",
         "title": null,
         "type": "nominal"
        }
       },
       "mark": {
        "type": "bar"
       },
       "title": "Music Effect"
      },
      "image/png": "[encoded data removed]",
      "text/plain": [
       "<VegaLite 5 object>\n",
       "\n",
       "If you see this message, it means the renderer has not been properly enabled\n",
       "for the frontend that you are using. For more information, see\n",
       "https://altair-viz.github.io/user_guide/display_frontends.html#troubleshooting\n"
      ]
     },
     "execution_count": 45,
     "metadata": {},
     "output_type": "execute_result"
    }
   ],
   "source": [
    "musical_outcome_hist = alt.Chart(music_cleaned_imputed).mark_bar().encode(\n",
    "    alt.Y(\"Music effects:N\", title=None, sort = \"-x\"),\n",
    "    alt.X(\"count(Music effects)\", title=\"Count\"), \n",
    "    alt.Tooltip([\"Music effects\", \"count(Music effects):Q\"])\n",
    ").properties(\n",
    "    title = \"Music Effect\"\n",
    ")\n",
    "musical_outcome_hist"
   ]
  },
  {
   "cell_type": "markdown",
   "metadata": {},
   "source": [
    "### 3.2 Numerical Bivariate Analysis"
   ]
  },
  {
   "cell_type": "markdown",
   "metadata": {},
   "source": [
    "Let's explore if any of the numerical features have interesting interactions. Since there are 7 numerical variables, it should not be too overwhelming to view them all simultaneously."
   ]
  },
  {
   "cell_type": "markdown",
   "metadata": {},
   "source": [
    "There are no obvious trends that popout, but we can see that for the mental health scores, the values are discrete. Let's examine the cardinality."
   ]
  },
  {
   "cell_type": "code",
   "execution_count": 31,
   "metadata": {},
   "outputs": [
    {
     "name": "stdout",
     "output_type": "stream",
     "text": [
      "Anxiety (12): [0.0, 1.0, 2.0, 3.0, 4.0, 5.0, 6.0, 7.0, 7.5, 8.0, 9.0, 10.0]\n",
      "Depression (12): [0.0, 1.0, 2.0, 3.0, 3.5, 4.0, 5.0, 6.0, 7.0, 8.0, 9.0, 10.0]\n",
      "Insomnia (12): [0.0, 1.0, 2.0, 3.0, 3.5, 4.0, 5.0, 6.0, 7.0, 8.0, 9.0, 10.0]\n",
      "OCD (13): [0.0, 1.0, 2.0, 3.0, 4.0, 5.0, 5.5, 6.0, 7.0, 8.0, 8.5, 9.0, 10.0]\n"
     ]
    }
   ],
   "source": [
    "for cat in [\"Anxiety\", \"Depression\", \"Insomnia\", \"OCD\"]:\n",
    "    unique = [float(x) for x in sorted(music_cleaned_imputed[cat].unique())]\n",
    "    print(cat + \" (\" + str(len(unique)) + \"): \" + str(unique))"
   ]
  },
  {
   "cell_type": "markdown",
   "metadata": {},
   "source": [
    "All values range from 0 - 10. In addition to using the raw values themselves, it could be helpful to group the variables into levels ranging from low to high. Let's add another column and split the levels."
   ]
  },
  {
   "cell_type": "code",
   "execution_count": 32,
   "metadata": {},
   "outputs": [],
   "source": [
    "music_cleaned_imputed['Anxiety_Level'] = pd.cut(\n",
    "    music_cleaned_imputed['Anxiety'], \n",
    "    bins=[0, 3, 6, 10], \n",
    "    labels=['Low', 'Medium', 'High'],\n",
    "    include_lowest=True\n",
    ")\n",
    "\n",
    "music_cleaned_imputed['Depression_Level'] = pd.cut(\n",
    "    music_cleaned_imputed['Depression'], \n",
    "    bins=[0, 3, 6, 10],  \n",
    "    labels=['Low', 'Medium', 'High'],\n",
    "    include_lowest=True\n",
    ")\n",
    "\n",
    "music_cleaned_imputed['Insomnia_Level'] = pd.cut(\n",
    "    music_cleaned_imputed['Insomnia'], \n",
    "    bins=[0, 3, 6, 10],  \n",
    "    labels=['Low', 'Medium', 'High'],\n",
    "    include_lowest=True\n",
    ")\n",
    "\n",
    "music_cleaned_imputed['OCD_Level'] = pd.cut(\n",
    "    music_cleaned_imputed['OCD'], \n",
    "    bins=[0, 3, 6, 10],  \n",
    "    labels=['Low', 'Medium', 'High'],\n",
    "    include_lowest=True\n",
    ")\n",
    "\n",
    "# music_cleaned_imputed.isna().sum()\n",
    "# Without include_lowest = true, the 3.5, 6.5 etc. values were excluded (set to null)\n",
    "\n",
    "for cat in [\"Anxiety_Level\", \"Depression_Level\", \"Insomnia_Level\", \"OCD_Level\"]:\n",
    "    music_cleaned_imputed[cat] = pd.Categorical(\n",
    "        music_cleaned_imputed[cat], categories=[\"Low\", \"Medium\", \"High\"], ordered=True\n",
    "    )"
   ]
  },
  {
   "cell_type": "code",
   "execution_count": 33,
   "metadata": {},
   "outputs": [
    {
     "data": {
      "text/html": [
       "<div>\n",
       "<style scoped>\n",
       "    .dataframe tbody tr th:only-of-type {\n",
       "        vertical-align: middle;\n",
       "    }\n",
       "\n",
       "    .dataframe tbody tr th {\n",
       "        vertical-align: top;\n",
       "    }\n",
       "\n",
       "    .dataframe thead th {\n",
       "        text-align: right;\n",
       "    }\n",
       "</style>\n",
       "<table border=\"1\" class=\"dataframe\">\n",
       "  <thead>\n",
       "    <tr style=\"text-align: right;\">\n",
       "      <th></th>\n",
       "      <th>Timestamp</th>\n",
       "      <th>Age</th>\n",
       "      <th>Primary streaming service</th>\n",
       "      <th>Hours per day</th>\n",
       "      <th>While working</th>\n",
       "      <th>Instrumentalist</th>\n",
       "      <th>Composer</th>\n",
       "      <th>Fav genre</th>\n",
       "      <th>Exploratory</th>\n",
       "      <th>Foreign languages</th>\n",
       "      <th>...</th>\n",
       "      <th>Anxiety</th>\n",
       "      <th>Depression</th>\n",
       "      <th>Insomnia</th>\n",
       "      <th>OCD</th>\n",
       "      <th>Music effects</th>\n",
       "      <th>Permissions</th>\n",
       "      <th>Anxiety_Level</th>\n",
       "      <th>Depression_Level</th>\n",
       "      <th>Insomnia_Level</th>\n",
       "      <th>OCD_Level</th>\n",
       "    </tr>\n",
       "  </thead>\n",
       "  <tbody>\n",
       "    <tr>\n",
       "      <th>2</th>\n",
       "      <td>2022-08-27 21:28:18</td>\n",
       "      <td>18.0</td>\n",
       "      <td>Spotify</td>\n",
       "      <td>4.0</td>\n",
       "      <td>No</td>\n",
       "      <td>No</td>\n",
       "      <td>No</td>\n",
       "      <td>Video game music</td>\n",
       "      <td>No</td>\n",
       "      <td>Yes</td>\n",
       "      <td>...</td>\n",
       "      <td>7.0</td>\n",
       "      <td>7.0</td>\n",
       "      <td>10.0</td>\n",
       "      <td>2.0</td>\n",
       "      <td>No effect</td>\n",
       "      <td>I understand.</td>\n",
       "      <td>High</td>\n",
       "      <td>High</td>\n",
       "      <td>High</td>\n",
       "      <td>Low</td>\n",
       "    </tr>\n",
       "    <tr>\n",
       "      <th>3</th>\n",
       "      <td>2022-08-27 21:40:40</td>\n",
       "      <td>61.0</td>\n",
       "      <td>YouTube Music</td>\n",
       "      <td>2.5</td>\n",
       "      <td>Yes</td>\n",
       "      <td>No</td>\n",
       "      <td>Yes</td>\n",
       "      <td>Jazz</td>\n",
       "      <td>Yes</td>\n",
       "      <td>Yes</td>\n",
       "      <td>...</td>\n",
       "      <td>9.0</td>\n",
       "      <td>7.0</td>\n",
       "      <td>3.0</td>\n",
       "      <td>3.0</td>\n",
       "      <td>Improve</td>\n",
       "      <td>I understand.</td>\n",
       "      <td>High</td>\n",
       "      <td>High</td>\n",
       "      <td>Low</td>\n",
       "      <td>Low</td>\n",
       "    </tr>\n",
       "    <tr>\n",
       "      <th>4</th>\n",
       "      <td>2022-08-27 21:54:47</td>\n",
       "      <td>18.0</td>\n",
       "      <td>Spotify</td>\n",
       "      <td>4.0</td>\n",
       "      <td>Yes</td>\n",
       "      <td>No</td>\n",
       "      <td>No</td>\n",
       "      <td>R&amp;B</td>\n",
       "      <td>Yes</td>\n",
       "      <td>No</td>\n",
       "      <td>...</td>\n",
       "      <td>7.0</td>\n",
       "      <td>2.0</td>\n",
       "      <td>5.0</td>\n",
       "      <td>9.0</td>\n",
       "      <td>Improve</td>\n",
       "      <td>I understand.</td>\n",
       "      <td>High</td>\n",
       "      <td>Low</td>\n",
       "      <td>Medium</td>\n",
       "      <td>High</td>\n",
       "    </tr>\n",
       "    <tr>\n",
       "      <th>5</th>\n",
       "      <td>2022-08-27 21:56:50</td>\n",
       "      <td>18.0</td>\n",
       "      <td>Spotify</td>\n",
       "      <td>5.0</td>\n",
       "      <td>Yes</td>\n",
       "      <td>Yes</td>\n",
       "      <td>Yes</td>\n",
       "      <td>Jazz</td>\n",
       "      <td>Yes</td>\n",
       "      <td>Yes</td>\n",
       "      <td>...</td>\n",
       "      <td>8.0</td>\n",
       "      <td>8.0</td>\n",
       "      <td>7.0</td>\n",
       "      <td>7.0</td>\n",
       "      <td>Improve</td>\n",
       "      <td>I understand.</td>\n",
       "      <td>High</td>\n",
       "      <td>High</td>\n",
       "      <td>High</td>\n",
       "      <td>High</td>\n",
       "    </tr>\n",
       "    <tr>\n",
       "      <th>6</th>\n",
       "      <td>2022-08-27 22:00:29</td>\n",
       "      <td>18.0</td>\n",
       "      <td>YouTube Music</td>\n",
       "      <td>3.0</td>\n",
       "      <td>Yes</td>\n",
       "      <td>Yes</td>\n",
       "      <td>No</td>\n",
       "      <td>Video game music</td>\n",
       "      <td>Yes</td>\n",
       "      <td>Yes</td>\n",
       "      <td>...</td>\n",
       "      <td>4.0</td>\n",
       "      <td>8.0</td>\n",
       "      <td>6.0</td>\n",
       "      <td>0.0</td>\n",
       "      <td>Improve</td>\n",
       "      <td>I understand.</td>\n",
       "      <td>Medium</td>\n",
       "      <td>High</td>\n",
       "      <td>Medium</td>\n",
       "      <td>Low</td>\n",
       "    </tr>\n",
       "  </tbody>\n",
       "</table>\n",
       "<p>5 rows × 37 columns</p>\n",
       "</div>"
      ],
      "text/plain": [
       "            Timestamp   Age Primary streaming service  Hours per day  \\\n",
       "2 2022-08-27 21:28:18  18.0                   Spotify            4.0   \n",
       "3 2022-08-27 21:40:40  61.0             YouTube Music            2.5   \n",
       "4 2022-08-27 21:54:47  18.0                   Spotify            4.0   \n",
       "5 2022-08-27 21:56:50  18.0                   Spotify            5.0   \n",
       "6 2022-08-27 22:00:29  18.0             YouTube Music            3.0   \n",
       "\n",
       "  While working Instrumentalist Composer         Fav genre Exploratory  \\\n",
       "2            No              No       No  Video game music          No   \n",
       "3           Yes              No      Yes              Jazz         Yes   \n",
       "4           Yes              No       No               R&B         Yes   \n",
       "5           Yes             Yes      Yes              Jazz         Yes   \n",
       "6           Yes             Yes       No  Video game music         Yes   \n",
       "\n",
       "  Foreign languages  ...  Anxiety Depression Insomnia  OCD Music effects  \\\n",
       "2               Yes  ...      7.0        7.0     10.0  2.0     No effect   \n",
       "3               Yes  ...      9.0        7.0      3.0  3.0       Improve   \n",
       "4                No  ...      7.0        2.0      5.0  9.0       Improve   \n",
       "5               Yes  ...      8.0        8.0      7.0  7.0       Improve   \n",
       "6               Yes  ...      4.0        8.0      6.0  0.0       Improve   \n",
       "\n",
       "     Permissions Anxiety_Level Depression_Level Insomnia_Level OCD_Level  \n",
       "2  I understand.          High             High           High       Low  \n",
       "3  I understand.          High             High            Low       Low  \n",
       "4  I understand.          High              Low         Medium      High  \n",
       "5  I understand.          High             High           High      High  \n",
       "6  I understand.        Medium             High         Medium       Low  \n",
       "\n",
       "[5 rows x 37 columns]"
      ]
     },
     "execution_count": 33,
     "metadata": {},
     "output_type": "execute_result"
    }
   ],
   "source": [
    "music_cleaned_imputed.head(5)"
   ]
  },
  {
   "cell_type": "markdown",
   "metadata": {},
   "source": [
    "Let's do the same bivariate scatter matrix, but try labelling the scatter points as different mental health conditions."
   ]
  },
  {
   "cell_type": "code",
   "execution_count": 34,
   "metadata": {},
   "outputs": [
    {
     "name": "stdout",
     "output_type": "stream",
     "text": [
      "---------------------------------------------------------------------------------------------------------------------------\n"
     ]
    },
    {
     "data": {
      "application/vnd.vegalite.v5+json": {
       "$schema": "https://vega.github.io/schema/vega-lite/v5.20.1.json",
       "config": {
        "view": {
         "continuousHeight": 300,
         "continuousWidth": 300
        }
       },
       "repeat": {
        "column": [
         "BPM",
         "Age",
         "Hours per day"
        ],
        "row": [
         "BPM",
         "Age",
         "Hours per day"
        ]
       },
       "spec": {
        "data": {
         "format": {
          "type": "json"
         },
         "url": "altairdata\\altair-data-e1023685e13b0bbd18239730ec496d5c.json"
        },
        "encoding": {
         "color": {
          "field": "Anxiety_Level",
          "sort": [
           "Low",
           "Medium",
           "High"
          ],
          "type": "ordinal"
         },
         "x": {
          "field": {
           "repeat": "column"
          },
          "type": "quantitative"
         },
         "y": {
          "field": {
           "repeat": "row"
          },
          "type": "quantitative"
         }
        },
        "height": 120,
        "mark": {
         "type": "circle"
        },
        "width": 120
       },
       "title": "Anxiety Level"
      },
      "image/png": "[encoded data removed]",
      "text/plain": [
       "<VegaLite 5 object>\n",
       "\n",
       "If you see this message, it means the renderer has not been properly enabled\n",
       "for the frontend that you are using. For more information, see\n",
       "https://altair-viz.github.io/user_guide/display_frontends.html#troubleshooting\n"
      ]
     },
     "metadata": {},
     "output_type": "display_data"
    },
    {
     "name": "stdout",
     "output_type": "stream",
     "text": [
      "---------------------------------------------------------------------------------------------------------------------------\n"
     ]
    },
    {
     "data": {
      "application/vnd.vegalite.v5+json": {
       "$schema": "https://vega.github.io/schema/vega-lite/v5.20.1.json",
       "config": {
        "view": {
         "continuousHeight": 300,
         "continuousWidth": 300
        }
       },
       "repeat": {
        "column": [
         "BPM",
         "Age",
         "Hours per day"
        ],
        "row": [
         "BPM",
         "Age",
         "Hours per day"
        ]
       },
       "spec": {
        "data": {
         "format": {
          "type": "json"
         },
         "url": "altairdata\\altair-data-e1023685e13b0bbd18239730ec496d5c.json"
        },
        "encoding": {
         "color": {
          "field": "Depression_Level",
          "sort": [
           "Low",
           "Medium",
           "High"
          ],
          "type": "ordinal"
         },
         "x": {
          "field": {
           "repeat": "column"
          },
          "type": "quantitative"
         },
         "y": {
          "field": {
           "repeat": "row"
          },
          "type": "quantitative"
         }
        },
        "height": 120,
        "mark": {
         "type": "circle"
        },
        "width": 120
       },
       "title": "Depression Level"
      },
      "image/png": "[encoded data removed]",
      "text/plain": [
       "<VegaLite 5 object>\n",
       "\n",
       "If you see this message, it means the renderer has not been properly enabled\n",
       "for the frontend that you are using. For more information, see\n",
       "https://altair-viz.github.io/user_guide/display_frontends.html#troubleshooting\n"
      ]
     },
     "metadata": {},
     "output_type": "display_data"
    },
    {
     "name": "stdout",
     "output_type": "stream",
     "text": [
      "---------------------------------------------------------------------------------------------------------------------------\n"
     ]
    },
    {
     "data": {
      "application/vnd.vegalite.v5+json": {
       "$schema": "https://vega.github.io/schema/vega-lite/v5.20.1.json",
       "config": {
        "view": {
         "continuousHeight": 300,
         "continuousWidth": 300
        }
       },
       "repeat": {
        "column": [
         "BPM",
         "Age",
         "Hours per day"
        ],
        "row": [
         "BPM",
         "Age",
         "Hours per day"
        ]
       },
       "spec": {
        "data": {
         "format": {
          "type": "json"
         },
         "url": "altairdata\\altair-data-e1023685e13b0bbd18239730ec496d5c.json"
        },
        "encoding": {
         "color": {
          "field": "Insomnia_Level",
          "sort": [
           "Low",
           "Medium",
           "High"
          ],
          "type": "ordinal"
         },
         "x": {
          "field": {
           "repeat": "column"
          },
          "type": "quantitative"
         },
         "y": {
          "field": {
           "repeat": "row"
          },
          "type": "quantitative"
         }
        },
        "height": 120,
        "mark": {
         "type": "circle"
        },
        "width": 120
       },
       "title": "Insomnia Level"
      },
      "image/png": "[encoded data removed]",
      "text/plain": [
       "<VegaLite 5 object>\n",
       "\n",
       "If you see this message, it means the renderer has not been properly enabled\n",
       "for the frontend that you are using. For more information, see\n",
       "https://altair-viz.github.io/user_guide/display_frontends.html#troubleshooting\n"
      ]
     },
     "metadata": {},
     "output_type": "display_data"
    },
    {
     "name": "stdout",
     "output_type": "stream",
     "text": [
      "---------------------------------------------------------------------------------------------------------------------------\n"
     ]
    },
    {
     "data": {
      "application/vnd.vegalite.v5+json": {
       "$schema": "https://vega.github.io/schema/vega-lite/v5.20.1.json",
       "config": {
        "view": {
         "continuousHeight": 300,
         "continuousWidth": 300
        }
       },
       "repeat": {
        "column": [
         "BPM",
         "Age",
         "Hours per day"
        ],
        "row": [
         "BPM",
         "Age",
         "Hours per day"
        ]
       },
       "spec": {
        "data": {
         "format": {
          "type": "json"
         },
         "url": "altairdata\\altair-data-e1023685e13b0bbd18239730ec496d5c.json"
        },
        "encoding": {
         "color": {
          "field": "OCD_Level",
          "sort": [
           "Low",
           "Medium",
           "High"
          ],
          "type": "ordinal"
         },
         "x": {
          "field": {
           "repeat": "column"
          },
          "type": "quantitative"
         },
         "y": {
          "field": {
           "repeat": "row"
          },
          "type": "quantitative"
         }
        },
        "height": 120,
        "mark": {
         "type": "circle"
        },
        "width": 120
       },
       "title": "OCD Level"
      },
      "image/png": "[encoded data removed]",
      "text/plain": [
       "<VegaLite 5 object>\n",
       "\n",
       "If you see this message, it means the renderer has not been properly enabled\n",
       "for the frontend that you are using. For more information, see\n",
       "https://altair-viz.github.io/user_guide/display_frontends.html#troubleshooting\n"
      ]
     },
     "metadata": {},
     "output_type": "display_data"
    }
   ],
   "source": [
    "\n",
    "num_cols = [\"BPM\", \"Age\", \"Hours per day\"]\n",
    "\n",
    "for cat in [\"Anxiety_Level\", \"Depression_Level\", \"Insomnia_Level\", \"OCD_Level\"]:\n",
    "    print(\"---------------------------------------------------------------------------------------------------------------------------\")\n",
    "    display(alt.Chart(music_cleaned_imputed).mark_circle().encode(\n",
    "        alt.X(alt.repeat(\"column\"), type='quantitative'),\n",
    "        alt.Y(alt.repeat(\"row\"), type='quantitative'),\n",
    "        alt.Color(cat, type=\"ordinal\")\n",
    "    ).properties(\n",
    "        width=120,\n",
    "        height=120\n",
    "    ).repeat(\n",
    "        row=num_cols,\n",
    "        column=num_cols\n",
    "    ).properties(\n",
    "        title = cat.replace(\"_\", \" \"),\n",
    "    )\n",
    "           )"
   ]
  },
  {
   "cell_type": "markdown",
   "metadata": {},
   "source": [
    "No obvious trends are visualized given the scatter matrix. Perhaps looking at just a single dimension (age) would reveal more interesting patterns."
   ]
  },
  {
   "cell_type": "code",
   "execution_count": 35,
   "metadata": {},
   "outputs": [
    {
     "data": {
      "application/vnd.vegalite.v5+json": {
       "$schema": "https://vega.github.io/schema/vega-lite/v5.20.1.json",
       "config": {
        "view": {
         "continuousHeight": 300,
         "continuousWidth": 300
        }
       },
       "data": {
        "format": {
         "type": "json"
        },
        "url": "altairdata\\altair-data-e1023685e13b0bbd18239730ec496d5c.json"
       },
       "hconcat": [
        {
         "encoding": {
          "color": {
           "field": "Anxiety_Level",
           "scale": {
            "domain": [
             "Low",
             "Medium",
             "High"
            ],
            "range": [
             "#a6cee3",
             "#1f78b4",
             "#084594"
            ]
           },
           "sort": [
            "Low",
            "Medium",
            "High"
           ],
           "title": "Level",
           "type": "ordinal"
          },
          "tooltip": [
           {
            "field": "Anxiety_Level",
            "type": "ordinal"
           },
           {
            "aggregate": "count",
            "type": "quantitative"
           }
          ],
          "x": {
           "bin": {
            "maxbins": 30
           },
           "field": "Age",
           "type": "quantitative"
          },
          "y": {
           "aggregate": "count",
           "stack": "normalize",
           "type": "quantitative"
          }
         },
         "height": 200,
         "mark": {
          "type": "bar"
         },
         "title": "Anxiety Level",
         "width": 200
        },
        {
         "encoding": {
          "color": {
           "field": "Depression_Level",
           "scale": {
            "domain": [
             "Low",
             "Medium",
             "High"
            ],
            "range": [
             "#a6cee3",
             "#1f78b4",
             "#084594"
            ]
           },
           "sort": [
            "Low",
            "Medium",
            "High"
           ],
           "title": "Level",
           "type": "ordinal"
          },
          "tooltip": [
           {
            "field": "Depression_Level",
            "type": "ordinal"
           },
           {
            "aggregate": "count",
            "type": "quantitative"
           }
          ],
          "x": {
           "bin": {
            "maxbins": 30
           },
           "field": "Age",
           "type": "quantitative"
          },
          "y": {
           "aggregate": "count",
           "stack": "normalize",
           "type": "quantitative"
          }
         },
         "height": 200,
         "mark": {
          "type": "bar"
         },
         "title": "Depression Level",
         "width": 200
        },
        {
         "encoding": {
          "color": {
           "field": "Insomnia_Level",
           "scale": {
            "domain": [
             "Low",
             "Medium",
             "High"
            ],
            "range": [
             "#a6cee3",
             "#1f78b4",
             "#084594"
            ]
           },
           "sort": [
            "Low",
            "Medium",
            "High"
           ],
           "title": "Level",
           "type": "ordinal"
          },
          "tooltip": [
           {
            "field": "Insomnia_Level",
            "type": "ordinal"
           },
           {
            "aggregate": "count",
            "type": "quantitative"
           }
          ],
          "x": {
           "bin": {
            "maxbins": 30
           },
           "field": "Age",
           "type": "quantitative"
          },
          "y": {
           "aggregate": "count",
           "stack": "normalize",
           "type": "quantitative"
          }
         },
         "height": 200,
         "mark": {
          "type": "bar"
         },
         "title": "Insomnia Level",
         "width": 200
        },
        {
         "encoding": {
          "color": {
           "field": "OCD_Level",
           "scale": {
            "domain": [
             "Low",
             "Medium",
             "High"
            ],
            "range": [
             "#a6cee3",
             "#1f78b4",
             "#084594"
            ]
           },
           "sort": [
            "Low",
            "Medium",
            "High"
           ],
           "title": "Level",
           "type": "ordinal"
          },
          "tooltip": [
           {
            "field": "OCD_Level",
            "type": "ordinal"
           },
           {
            "aggregate": "count",
            "type": "quantitative"
           }
          ],
          "x": {
           "bin": {
            "maxbins": 30
           },
           "field": "Age",
           "type": "quantitative"
          },
          "y": {
           "aggregate": "count",
           "stack": "normalize",
           "type": "quantitative"
          }
         },
         "height": 200,
         "mark": {
          "type": "bar"
         },
         "title": "OCD Level",
         "width": 200
        }
       ]
      },
      "image/png": "[encoded data removed]",
      "text/plain": [
       "<VegaLite 5 object>\n",
       "\n",
       "If you see this message, it means the renderer has not been properly enabled\n",
       "for the frontend that you are using. For more information, see\n",
       "https://altair-viz.github.io/user_guide/display_frontends.html#troubleshooting\n"
      ]
     },
     "execution_count": 35,
     "metadata": {},
     "output_type": "execute_result"
    }
   ],
   "source": [
    "charts = []\n",
    "custom_colors = alt.Scale(\n",
    "    domain=[\"Low\", \"Medium\", \"High\"],  \n",
    "    range=[\"#a6cee3\", \"#1f78b4\", \"#084594\"]\n",
    ")\n",
    "for cat in [\"Anxiety_Level\", \"Depression_Level\", \"Insomnia_Level\", \"OCD_Level\"]:\n",
    "    charts.append(alt.Chart(music_cleaned_imputed).mark_bar().encode(\n",
    "        alt.X(\"Age:Q\", bin=alt.Bin(maxbins=30)),\n",
    "        alt.Y(\"count():Q\", stack=\"normalize\"),\n",
    "        alt.Color(cat, type=\"ordinal\", title=\"Level\", sort =[\"Low\", \"Medium\", \"High\"], scale=custom_colors),\n",
    "        alt.Tooltip([cat, \"count()\"])\n",
    "    ).properties(\n",
    "        title = cat.replace(\"_\", \" \"),\n",
    "        width = 200,\n",
    "        height = 200,\n",
    "    )\n",
    "                      )\n",
    "final_chart = alt.hconcat(*charts)\n",
    "final_chart"
   ]
  },
  {
   "cell_type": "markdown",
   "metadata": {},
   "source": [
    "We can see some interesting patterns now:\n",
    "- For younger people, there is a high proportion reporting higher anxiety compared to older. It should be noted that the number of respondants decrease drastically with age\n",
    "- Depression level is high for younger individuals, but less so than anxiety.\n",
    "- Insomnia is predominantly reported as low and OCD has even more low reports than "
   ]
  },
  {
   "cell_type": "markdown",
   "metadata": {},
   "source": [
    "For my final look, I want to see how the raw mental health scores vary across the age and compare all three in a single plot. Let's use a heatmap to see if I can pick out any patterns."
   ]
  },
  {
   "cell_type": "code",
   "execution_count": 36,
   "metadata": {},
   "outputs": [
    {
     "data": {
      "application/vnd.vegalite.v5+json": {
       "$schema": "https://vega.github.io/schema/vega-lite/v5.20.1.json",
       "config": {
        "view": {
         "continuousHeight": 300,
         "continuousWidth": 300
        }
       },
       "data": {
        "format": {
         "type": "json"
        },
        "url": "altairdata\\altair-data-a8a552d57fd5bcf706f86002573926e1.json"
       },
       "encoding": {
        "color": {
         "field": "Score",
         "title": "Score",
         "type": "quantitative"
        },
        "tooltip": [
         {
          "field": "Age",
          "type": "quantitative"
         },
         {
          "field": "Mental Health Condition",
          "type": "nominal"
         },
         {
          "field": "Score",
          "type": "quantitative"
         }
        ],
        "x": {
         "bin": {
          "step": 5
         },
         "field": "Age",
         "title": "Age",
         "type": "quantitative"
        },
        "y": {
         "field": "Mental Health Condition",
         "title": "Mental Health Condition",
         "type": "nominal"
        }
       },
       "height": 300,
       "mark": {
        "type": "rect"
       },
       "title": "Heatmap of Mental Health Scores Across Age Groups",
       "width": 800
      },
      "image/png": "[encoded data removed]",
      "text/plain": [
       "<VegaLite 5 object>\n",
       "\n",
       "If you see this message, it means the renderer has not been properly enabled\n",
       "for the frontend that you are using. For more information, see\n",
       "https://altair-viz.github.io/user_guide/display_frontends.html#troubleshooting\n"
      ]
     },
     "execution_count": 36,
     "metadata": {},
     "output_type": "execute_result"
    }
   ],
   "source": [
    "data_melted = music_cleaned_imputed.melt(id_vars=['Age'], \n",
    "                                         value_vars=['Anxiety', 'Depression', 'Insomnia', 'OCD'], \n",
    "                                         var_name='Mental Health Condition', \n",
    "                                         value_name='Score')\n",
    "\n",
    "heatmap = alt.Chart(data_melted).mark_rect().encode(\n",
    "    alt.X('Age:Q', title='Age', bin=alt.Bin(step=5)),  \n",
    "    alt.Y('Mental Health Condition:N', title='Mental Health Condition'),\n",
    "    color=alt.Color('Score:Q', title='Score'),\n",
    "    tooltip=['Age', 'Mental Health Condition', 'Score']\n",
    ").properties(\n",
    "    title=\"Heatmap of Mental Health Scores Across Age Groups\",\n",
    "    height=300,\n",
    "    width=800\n",
    ")\n",
    "\n",
    "heatmap\n"
   ]
  },
  {
   "cell_type": "markdown",
   "metadata": {},
   "source": [
    "This heatmaps lets us see a distinct darker spot between 30-50 for higher reported anxiety, depression, and insomnia compared to older ages. We can see that this age-group experiences more intense mental health ratings."
   ]
  },
  {
   "cell_type": "markdown",
   "metadata": {},
   "source": [
    "### Summary: Numerical Bivariate and Univariate Analysis"
   ]
  },
  {
   "cell_type": "markdown",
   "metadata": {},
   "source": [
    "This analysis has shown the distribution of the numerical variables. We have seen that:\n",
    "1. The mental health condition distribution is fiarly uniform, with the exception of OCD having a peak at 0\n",
    "2. Age has a peak between 15-30, suggesting that most respondants are younger\n",
    "3. Hours per day has a peak between 0-8 hours per day\n",
    "4. BPM of music has a peak value around 120\n",
    "5. There are no obvious correlations between numerical columns\n",
    "6. There are no obvious clusters when plotting numerical columns for different level of the different mental health conditions\n",
    "7. There are some interesting patterns with mental health condition level and age, with younger people having high reports of depression and anxiety compared to low and medium.\n",
    "8. Using just the raw scores, we can see a cluster of higher reported anxiety, depression, and insomnia for respondants ages 30-50. \n",
    "\n",
    "For the numerical columns, I am most interested in the dimension of age as it relates to mental illness. To incorporate music, we need to investigate the categorical varibles first."
   ]
  },
  {
   "cell_type": "markdown",
   "metadata": {},
   "source": [
    "## Specific EDA: Age"
   ]
  },
  {
   "cell_type": "markdown",
   "metadata": {},
   "source": [
    "Next, I want to see how the favourite genres vary by age."
   ]
  },
  {
   "cell_type": "code",
   "execution_count": 40,
   "metadata": {},
   "outputs": [
    {
     "data": {
      "application/vnd.vegalite.v5+json": {
       "$schema": "https://vega.github.io/schema/vega-lite/v5.20.1.json",
       "columns": 4,
       "config": {
        "view": {
         "continuousHeight": 300,
         "continuousWidth": 300
        }
       },
       "data": {
        "format": {
         "type": "json"
        },
        "url": "altairdata\\altair-data-7528106a9bc9da1ce97f772bed2e8e6c.json"
       },
       "facet": {
        "field": "Fav genre",
        "type": "nominal"
       },
       "spec": {
        "encoding": {
         "color": {
          "field": "Fav genre",
          "legend": null,
          "type": "nominal"
         },
         "tooltip": [
          {
           "field": "Age",
           "type": "quantitative"
          },
          {
           "field": "Fav genre",
           "type": "nominal"
          },
          {
           "aggregate": "count",
           "type": "quantitative"
          }
         ],
         "x": {
          "axis": {
           "values": [
            10,
            15,
            20,
            25,
            30,
            35,
            40,
            45,
            50,
            55,
            60,
            65,
            70,
            75,
            80,
            85,
            90
           ]
          },
          "bin": {
           "step": 5
          },
          "field": "Age",
          "scale": {
           "domain": [
            10,
            89
           ]
          },
          "title": "Age",
          "type": "quantitative"
         },
         "y": {
          "aggregate": "count",
          "scale": {
           "domain": [
            0,
            81
           ]
          },
          "title": "Count",
          "type": "quantitative"
         }
        },
        "height": 200,
        "mark": {
         "type": "bar"
        },
        "width": 250
       }
      },
      "image/png": "[encoded data removed]",
      "text/plain": [
       "<VegaLite 5 object>\n",
       "\n",
       "If you see this message, it means the renderer has not been properly enabled\n",
       "for the frontend that you are using. For more information, see\n",
       "https://altair-viz.github.io/user_guide/display_frontends.html#troubleshooting\n"
      ]
     },
     "execution_count": 40,
     "metadata": {},
     "output_type": "execute_result"
    }
   ],
   "source": [
    "min_age = int(music_cleaned_imputed[\"Age\"].min())\n",
    "max_age = int(music_cleaned_imputed[\"Age\"].max())\n",
    "max_y = music_cleaned_imputed.groupby(\"Age\")[\"Fav genre\"].count().max()\n",
    "\n",
    "\n",
    "age_genre_hist = alt.Chart(music_cleaned_imputed).mark_bar().encode(\n",
    "    alt.X(\"Age:Q\", bin=alt.Bin(step=5), title=\"Age\",\n",
    "          axis=alt.Axis(values=list(range(min_age, max_age+5, 5))),\n",
    "          scale=alt.Scale(domain=[min_age, max_age])),\n",
    "    alt.Y(\"count()\", title=\"Count\",\n",
    "          scale=alt.Scale(domain=[0, max_y])),\n",
    "    alt.Color(\"Fav genre:N\", legend=None),\n",
    "    tooltip=[\"Age\", \"Fav genre\", \"count()\"]\n",
    ").properties(\n",
    "    width=250,\n",
    "    height=200\n",
    ").facet(\n",
    "    \"Fav genre\",\n",
    "    columns=4\n",
    ")\n",
    "\n",
    "age_genre_hist\n"
   ]
  },
  {
   "cell_type": "markdown",
   "metadata": {},
   "source": [
    "Some interesting spreads emerged - Video game, Lofi and Kpop are clustered with young people, whereas gospel is predominately older."
   ]
  },
  {
   "cell_type": "code",
   "execution_count": 41,
   "metadata": {},
   "outputs": [
    {
     "data": {
      "application/vnd.vegalite.v5+json": {
       "$schema": "https://vega.github.io/schema/vega-lite/v5.20.1.json",
       "config": {
        "view": {
         "continuousHeight": 300,
         "continuousWidth": 300
        }
       },
       "data": {
        "format": {
         "type": "json"
        },
        "url": "altairdata\\altair-data-7528106a9bc9da1ce97f772bed2e8e6c.json"
       },
       "hconcat": [
        {
         "encoding": {
          "color": {
           "field": "Composer",
           "title": "Response",
           "type": "nominal"
          },
          "tooltip": [
           {
            "field": "Age",
            "type": "quantitative"
           },
           {
            "field": "Composer",
            "type": "nominal"
           },
           {
            "aggregate": "count",
            "type": "quantitative"
           }
          ],
          "x": {
           "axis": {
            "values": [
             10,
             15,
             20,
             25,
             30,
             35,
             40,
             45,
             50,
             55,
             60,
             65,
             70,
             75,
             80,
             85,
             90
            ]
           },
           "bin": {
            "step": 5
           },
           "field": "Age",
           "scale": {
            "domain": [
             10,
             89
            ]
           },
           "title": "Age",
           "type": "quantitative"
          },
          "y": {
           "aggregate": "count",
           "stack": "normalize",
           "title": "Count",
           "type": "quantitative"
          }
         },
         "height": 200,
         "mark": {
          "type": "bar"
         },
         "title": "Composer",
         "width": 250
        },
        {
         "encoding": {
          "color": {
           "field": "Instrumentalist",
           "title": "Response",
           "type": "nominal"
          },
          "tooltip": [
           {
            "field": "Age",
            "type": "quantitative"
           },
           {
            "field": "Instrumentalist",
            "type": "nominal"
           },
           {
            "aggregate": "count",
            "type": "quantitative"
           }
          ],
          "x": {
           "axis": {
            "values": [
             10,
             15,
             20,
             25,
             30,
             35,
             40,
             45,
             50,
             55,
             60,
             65,
             70,
             75,
             80,
             85,
             90
            ]
           },
           "bin": {
            "step": 5
           },
           "field": "Age",
           "scale": {
            "domain": [
             10,
             89
            ]
           },
           "title": "Age",
           "type": "quantitative"
          },
          "y": {
           "aggregate": "count",
           "stack": "normalize",
           "title": "Count",
           "type": "quantitative"
          }
         },
         "height": 200,
         "mark": {
          "type": "bar"
         },
         "title": "Instrumentalist",
         "width": 250
        },
        {
         "encoding": {
          "color": {
           "field": "Player_Composer",
           "title": "Response",
           "type": "nominal"
          },
          "tooltip": [
           {
            "field": "Age",
            "type": "quantitative"
           },
           {
            "field": "Player_Composer",
            "type": "nominal"
           },
           {
            "aggregate": "count",
            "type": "quantitative"
           }
          ],
          "x": {
           "axis": {
            "values": [
             10,
             15,
             20,
             25,
             30,
             35,
             40,
             45,
             50,
             55,
             60,
             65,
             70,
             75,
             80,
             85,
             90
            ]
           },
           "bin": {
            "step": 5
           },
           "field": "Age",
           "scale": {
            "domain": [
             10,
             89
            ]
           },
           "title": "Age",
           "type": "quantitative"
          },
          "y": {
           "aggregate": "count",
           "stack": "normalize",
           "title": "Count",
           "type": "quantitative"
          }
         },
         "height": 200,
         "mark": {
          "type": "bar"
         },
         "title": "Player_Composer",
         "width": 250
        }
       ]
      },
      "image/png": "[encoded data removed]",
      "text/plain": [
       "<VegaLite 5 object>\n",
       "\n",
       "If you see this message, it means the renderer has not been properly enabled\n",
       "for the frontend that you are using. For more information, see\n",
       "https://altair-viz.github.io/user_guide/display_frontends.html#troubleshooting\n"
      ]
     },
     "execution_count": 41,
     "metadata": {},
     "output_type": "execute_result"
    }
   ],
   "source": [
    "min_age = int(music_cleaned_imputed[\"Age\"].min())\n",
    "max_age = int(music_cleaned_imputed[\"Age\"].max())\n",
    "cats = [\"Composer\", \"Instrumentalist\", \"Player_Composer\"]\n",
    "charts = []\n",
    "for cat in cats:\n",
    "    charts.append(alt.Chart(music_cleaned_imputed).mark_bar().encode(\n",
    "         alt.X(\"Age:Q\", bin=alt.Bin(step=5), title=\"Age\",\n",
    "              axis=alt.Axis(values=list(range(min_age, max_age+5, 5))),\n",
    "              scale=alt.Scale(domain=[min_age, max_age])),\n",
    "        alt.Y(\"count()\", title=\"Count\", stack=\"normalize\"),\n",
    "        alt.Color(cat, type=\"nominal\", title=\"Response\"),\n",
    "        tooltip=[\"Age\", cat, \"count()\"]\n",
    "    ).properties(\n",
    "        width=250,\n",
    "        height=200,\n",
    "        title=cat\n",
    "    )\n",
    "                 )\n",
    "final_chart = alt.hconcat(*charts)\n",
    "final_chart"
   ]
  },
  {
   "cell_type": "markdown",
   "metadata": {},
   "source": [
    "We can see that the 10-15 age group has the most instrumentalists compared to other ages (aside from 80-85 and 85-90, which each have a single individual). Otherwise, it is fairly uniform."
   ]
  },
  {
   "cell_type": "markdown",
   "metadata": {},
   "source": [
    "## Final steps"
   ]
  },
  {
   "cell_type": "markdown",
   "metadata": {},
   "source": [
    "So far, I have examined the data and gone into depth investigating the numerical columns and the favourite genre column. Now, I can devise my research question"
   ]
  },
  {
   "cell_type": "markdown",
   "metadata": {},
   "source": [
    "### Research questions:"
   ]
  },
  {
   "cell_type": "markdown",
   "metadata": {},
   "source": [
    "**1. Does Age Influence the Relationship Between Music Genre Preferences and Mental Health Scores?**\n",
    "- how music preferences correlate with mental health scores for different age groups\n",
    "- Group similar age-genre-mental health patterns (e.g., young people preferring rock vs. older people preferring jazz)\n",
    "\n",
    "FINER Breakdown:\n",
    "- **Feasible**: The dataset contains age, genre preferences, and self-reported mental health scores (anxiety, depression, insomnia, OCD).\n",
    "- **Interesting**: Understanding if music therapy should be age-specific would be valuable.\n",
    "- **Novel**: Beyond trivial by asking whether age changes the strength of the relationship between music preferences and mental health scores.\n",
    "- **Ethical**: The dataset is publicly available and anonymized.\n",
    "- **Relevant**: This can inform music therapy applications, tailoring music interventions based on age."
   ]
  },
  {
   "cell_type": "markdown",
   "metadata": {},
   "source": [
    "**2: How Does Age Influence the Relationship Between Music Engagement and Mental Health Outcomes?**\n",
    "- Examine how different forms of music engagement (e.g., instrumentalist, composer) correlate with mental health outcomes across various age groups.\n",
    "- Do those who engage with music in more dimensions (e.g. composer or musician) form distinct groups?\n",
    "\n",
    "FINER Breakdown:\n",
    "\n",
    "- **Feasible**: The dataset includes variables on music engagement activities and self-reported mental health scores (anxiety, depression, insomnia, OCD), along with participants' ages.\n",
    "- **Interesting**: How different roles in music engagement impact mental health differently across age groups can provide insights into age-appropriate therapeutic interventions.\n",
    "- **Novel**: This question goes further by investigating whether music engagement affects mental health, and if it changes with age.\n",
    "- **Ethical**: The dataset is publicly available and anonymized.\n",
    "- **Relevant**: Findings can inform the development of targeted music-based interventions to improve mental health outcomes in specific age demographics."
   ]
  },
  {
   "cell_type": "code",
   "execution_count": null,
   "metadata": {},
   "outputs": [],
   "source": []
  }
 ],
 "metadata": {
  "kernelspec": {
   "display_name": "Python 3 (ipykernel)",
   "language": "python",
   "name": "python3"
  },
  "language_info": {
   "codemirror_mode": {
    "name": "ipython",
    "version": 3
   },
   "file_extension": ".py",
   "mimetype": "text/x-python",
   "name": "python",
   "nbconvert_exporter": "python",
   "pygments_lexer": "ipython3",
   "version": "3.8.10"
  }
 },
 "nbformat": 4,
 "nbformat_minor": 4
}
