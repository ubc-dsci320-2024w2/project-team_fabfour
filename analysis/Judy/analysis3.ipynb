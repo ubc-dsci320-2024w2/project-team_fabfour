{
 "cells": [
  {
   "cell_type": "markdown",
   "metadata": {},
   "source": [
    "# Judy"
   ]
  },
  {
   "cell_type": "markdown",
   "metadata": {},
   "source": [
    "## How does the  relationship between the frequency of music listening and mental health outcomes vary depending on the preferred music genre?"
   ]
  },
  {
   "cell_type": "code",
   "execution_count": 1,
   "metadata": {},
   "outputs": [
    {
     "data": {
      "text/plain": [
       "RendererRegistry.enable('jupyterlab')"
      ]
     },
     "execution_count": 1,
     "metadata": {},
     "output_type": "execute_result"
    }
   ],
   "source": [
    "# Run this cell to ensure that altair plots show up without having\n",
    "# the notebook be really large.\n",
    "# We will talk more about what these lines do later in the course\n",
    "\n",
    "import os\n",
    "import altair as alt\n",
    "import pandas as pd\n",
    "from toolz.curried import pipe\n",
    "\n",
    "# Create a new data transformer that stores the files in a directory\n",
    "def json_dir(data, data_dir='altairdata'):\n",
    "    os.makedirs(data_dir, exist_ok=True)\n",
    "    return pipe(data, alt.to_json(filename=data_dir + '/{prefix}-{hash}.{extension}') )\n",
    "\n",
    "# Register and enable the new transformer\n",
    "alt.data_transformers.register('json_dir', json_dir)\n",
    "alt.data_transformers.enable('json_dir')\n",
    "\n",
    "# Handle large data sets (default shows only 5000)\n",
    "# See here: https://altair-viz.github.io/user_guide/data_transformers.html\n",
    "alt.data_transformers.disable_max_rows()\n",
    "\n",
    "alt.renderers.enable('jupyterlab')"
   ]
  },
  {
   "cell_type": "markdown",
   "metadata": {},
   "source": [
    "## 1. Loading and inspecting the data\n",
    "\n",
    "#### Reading Data\n",
    "I will first start by reading the data."
   ]
  },
  {
   "cell_type": "code",
   "execution_count": 2,
   "metadata": {},
   "outputs": [
    {
     "data": {
      "text/html": [
       "<div>\n",
       "<style scoped>\n",
       "    .dataframe tbody tr th:only-of-type {\n",
       "        vertical-align: middle;\n",
       "    }\n",
       "\n",
       "    .dataframe tbody tr th {\n",
       "        vertical-align: top;\n",
       "    }\n",
       "\n",
       "    .dataframe thead th {\n",
       "        text-align: right;\n",
       "    }\n",
       "</style>\n",
       "<table border=\"1\" class=\"dataframe\">\n",
       "  <thead>\n",
       "    <tr style=\"text-align: right;\">\n",
       "      <th></th>\n",
       "      <th>Timestamp</th>\n",
       "      <th>Age</th>\n",
       "      <th>Primary streaming service</th>\n",
       "      <th>Hours per day</th>\n",
       "      <th>While working</th>\n",
       "      <th>Instrumentalist</th>\n",
       "      <th>Composer</th>\n",
       "      <th>Fav genre</th>\n",
       "      <th>Exploratory</th>\n",
       "      <th>Foreign languages</th>\n",
       "      <th>...</th>\n",
       "      <th>Frequency [R&amp;B]</th>\n",
       "      <th>Frequency [Rap]</th>\n",
       "      <th>Frequency [Rock]</th>\n",
       "      <th>Frequency [Video game music]</th>\n",
       "      <th>Anxiety</th>\n",
       "      <th>Depression</th>\n",
       "      <th>Insomnia</th>\n",
       "      <th>OCD</th>\n",
       "      <th>Music effects</th>\n",
       "      <th>Permissions</th>\n",
       "    </tr>\n",
       "  </thead>\n",
       "  <tbody>\n",
       "    <tr>\n",
       "      <th>0</th>\n",
       "      <td>8/27/2022 19:29:02</td>\n",
       "      <td>18.0</td>\n",
       "      <td>Spotify</td>\n",
       "      <td>3.0</td>\n",
       "      <td>Yes</td>\n",
       "      <td>Yes</td>\n",
       "      <td>Yes</td>\n",
       "      <td>Latin</td>\n",
       "      <td>Yes</td>\n",
       "      <td>Yes</td>\n",
       "      <td>...</td>\n",
       "      <td>Sometimes</td>\n",
       "      <td>Very frequently</td>\n",
       "      <td>Never</td>\n",
       "      <td>Sometimes</td>\n",
       "      <td>3.0</td>\n",
       "      <td>0.0</td>\n",
       "      <td>1.0</td>\n",
       "      <td>0.0</td>\n",
       "      <td>NaN</td>\n",
       "      <td>I understand.</td>\n",
       "    </tr>\n",
       "    <tr>\n",
       "      <th>1</th>\n",
       "      <td>8/27/2022 19:57:31</td>\n",
       "      <td>63.0</td>\n",
       "      <td>Pandora</td>\n",
       "      <td>1.5</td>\n",
       "      <td>Yes</td>\n",
       "      <td>No</td>\n",
       "      <td>No</td>\n",
       "      <td>Rock</td>\n",
       "      <td>Yes</td>\n",
       "      <td>No</td>\n",
       "      <td>...</td>\n",
       "      <td>Sometimes</td>\n",
       "      <td>Rarely</td>\n",
       "      <td>Very frequently</td>\n",
       "      <td>Rarely</td>\n",
       "      <td>7.0</td>\n",
       "      <td>2.0</td>\n",
       "      <td>2.0</td>\n",
       "      <td>1.0</td>\n",
       "      <td>NaN</td>\n",
       "      <td>I understand.</td>\n",
       "    </tr>\n",
       "    <tr>\n",
       "      <th>2</th>\n",
       "      <td>8/27/2022 21:28:18</td>\n",
       "      <td>18.0</td>\n",
       "      <td>Spotify</td>\n",
       "      <td>4.0</td>\n",
       "      <td>No</td>\n",
       "      <td>No</td>\n",
       "      <td>No</td>\n",
       "      <td>Video game music</td>\n",
       "      <td>No</td>\n",
       "      <td>Yes</td>\n",
       "      <td>...</td>\n",
       "      <td>Never</td>\n",
       "      <td>Rarely</td>\n",
       "      <td>Rarely</td>\n",
       "      <td>Very frequently</td>\n",
       "      <td>7.0</td>\n",
       "      <td>7.0</td>\n",
       "      <td>10.0</td>\n",
       "      <td>2.0</td>\n",
       "      <td>No effect</td>\n",
       "      <td>I understand.</td>\n",
       "    </tr>\n",
       "    <tr>\n",
       "      <th>3</th>\n",
       "      <td>8/27/2022 21:40:40</td>\n",
       "      <td>61.0</td>\n",
       "      <td>YouTube Music</td>\n",
       "      <td>2.5</td>\n",
       "      <td>Yes</td>\n",
       "      <td>No</td>\n",
       "      <td>Yes</td>\n",
       "      <td>Jazz</td>\n",
       "      <td>Yes</td>\n",
       "      <td>Yes</td>\n",
       "      <td>...</td>\n",
       "      <td>Sometimes</td>\n",
       "      <td>Never</td>\n",
       "      <td>Never</td>\n",
       "      <td>Never</td>\n",
       "      <td>9.0</td>\n",
       "      <td>7.0</td>\n",
       "      <td>3.0</td>\n",
       "      <td>3.0</td>\n",
       "      <td>Improve</td>\n",
       "      <td>I understand.</td>\n",
       "    </tr>\n",
       "    <tr>\n",
       "      <th>4</th>\n",
       "      <td>8/27/2022 21:54:47</td>\n",
       "      <td>18.0</td>\n",
       "      <td>Spotify</td>\n",
       "      <td>4.0</td>\n",
       "      <td>Yes</td>\n",
       "      <td>No</td>\n",
       "      <td>No</td>\n",
       "      <td>R&amp;B</td>\n",
       "      <td>Yes</td>\n",
       "      <td>No</td>\n",
       "      <td>...</td>\n",
       "      <td>Very frequently</td>\n",
       "      <td>Very frequently</td>\n",
       "      <td>Never</td>\n",
       "      <td>Rarely</td>\n",
       "      <td>7.0</td>\n",
       "      <td>2.0</td>\n",
       "      <td>5.0</td>\n",
       "      <td>9.0</td>\n",
       "      <td>Improve</td>\n",
       "      <td>I understand.</td>\n",
       "    </tr>\n",
       "    <tr>\n",
       "      <th>...</th>\n",
       "      <td>...</td>\n",
       "      <td>...</td>\n",
       "      <td>...</td>\n",
       "      <td>...</td>\n",
       "      <td>...</td>\n",
       "      <td>...</td>\n",
       "      <td>...</td>\n",
       "      <td>...</td>\n",
       "      <td>...</td>\n",
       "      <td>...</td>\n",
       "      <td>...</td>\n",
       "      <td>...</td>\n",
       "      <td>...</td>\n",
       "      <td>...</td>\n",
       "      <td>...</td>\n",
       "      <td>...</td>\n",
       "      <td>...</td>\n",
       "      <td>...</td>\n",
       "      <td>...</td>\n",
       "      <td>...</td>\n",
       "      <td>...</td>\n",
       "    </tr>\n",
       "    <tr>\n",
       "      <th>731</th>\n",
       "      <td>10/30/2022 14:37:28</td>\n",
       "      <td>17.0</td>\n",
       "      <td>Spotify</td>\n",
       "      <td>2.0</td>\n",
       "      <td>Yes</td>\n",
       "      <td>Yes</td>\n",
       "      <td>No</td>\n",
       "      <td>Rock</td>\n",
       "      <td>Yes</td>\n",
       "      <td>Yes</td>\n",
       "      <td>...</td>\n",
       "      <td>Never</td>\n",
       "      <td>Rarely</td>\n",
       "      <td>Very frequently</td>\n",
       "      <td>Never</td>\n",
       "      <td>7.0</td>\n",
       "      <td>6.0</td>\n",
       "      <td>0.0</td>\n",
       "      <td>9.0</td>\n",
       "      <td>Improve</td>\n",
       "      <td>I understand.</td>\n",
       "    </tr>\n",
       "    <tr>\n",
       "      <th>732</th>\n",
       "      <td>11/1/2022 22:26:42</td>\n",
       "      <td>18.0</td>\n",
       "      <td>Spotify</td>\n",
       "      <td>1.0</td>\n",
       "      <td>Yes</td>\n",
       "      <td>Yes</td>\n",
       "      <td>No</td>\n",
       "      <td>Pop</td>\n",
       "      <td>Yes</td>\n",
       "      <td>Yes</td>\n",
       "      <td>...</td>\n",
       "      <td>Never</td>\n",
       "      <td>Never</td>\n",
       "      <td>Sometimes</td>\n",
       "      <td>Sometimes</td>\n",
       "      <td>3.0</td>\n",
       "      <td>2.0</td>\n",
       "      <td>2.0</td>\n",
       "      <td>5.0</td>\n",
       "      <td>Improve</td>\n",
       "      <td>I understand.</td>\n",
       "    </tr>\n",
       "    <tr>\n",
       "      <th>733</th>\n",
       "      <td>11/3/2022 23:24:38</td>\n",
       "      <td>19.0</td>\n",
       "      <td>Other streaming service</td>\n",
       "      <td>6.0</td>\n",
       "      <td>Yes</td>\n",
       "      <td>No</td>\n",
       "      <td>Yes</td>\n",
       "      <td>Rap</td>\n",
       "      <td>Yes</td>\n",
       "      <td>No</td>\n",
       "      <td>...</td>\n",
       "      <td>Sometimes</td>\n",
       "      <td>Sometimes</td>\n",
       "      <td>Rarely</td>\n",
       "      <td>Rarely</td>\n",
       "      <td>2.0</td>\n",
       "      <td>2.0</td>\n",
       "      <td>2.0</td>\n",
       "      <td>2.0</td>\n",
       "      <td>Improve</td>\n",
       "      <td>I understand.</td>\n",
       "    </tr>\n",
       "    <tr>\n",
       "      <th>734</th>\n",
       "      <td>11/4/2022 17:31:47</td>\n",
       "      <td>19.0</td>\n",
       "      <td>Spotify</td>\n",
       "      <td>5.0</td>\n",
       "      <td>Yes</td>\n",
       "      <td>Yes</td>\n",
       "      <td>No</td>\n",
       "      <td>Classical</td>\n",
       "      <td>No</td>\n",
       "      <td>No</td>\n",
       "      <td>...</td>\n",
       "      <td>Never</td>\n",
       "      <td>Never</td>\n",
       "      <td>Never</td>\n",
       "      <td>Sometimes</td>\n",
       "      <td>2.0</td>\n",
       "      <td>3.0</td>\n",
       "      <td>2.0</td>\n",
       "      <td>1.0</td>\n",
       "      <td>Improve</td>\n",
       "      <td>I understand.</td>\n",
       "    </tr>\n",
       "    <tr>\n",
       "      <th>735</th>\n",
       "      <td>11/9/2022 1:55:20</td>\n",
       "      <td>29.0</td>\n",
       "      <td>YouTube Music</td>\n",
       "      <td>2.0</td>\n",
       "      <td>Yes</td>\n",
       "      <td>No</td>\n",
       "      <td>No</td>\n",
       "      <td>Hip hop</td>\n",
       "      <td>Yes</td>\n",
       "      <td>Yes</td>\n",
       "      <td>...</td>\n",
       "      <td>Very frequently</td>\n",
       "      <td>Very frequently</td>\n",
       "      <td>Very frequently</td>\n",
       "      <td>Rarely</td>\n",
       "      <td>2.0</td>\n",
       "      <td>2.0</td>\n",
       "      <td>2.0</td>\n",
       "      <td>5.0</td>\n",
       "      <td>Improve</td>\n",
       "      <td>I understand.</td>\n",
       "    </tr>\n",
       "  </tbody>\n",
       "</table>\n",
       "<p>736 rows × 33 columns</p>\n",
       "</div>"
      ],
      "text/plain": [
       "               Timestamp   Age Primary streaming service  Hours per day  \\\n",
       "0     8/27/2022 19:29:02  18.0                   Spotify            3.0   \n",
       "1     8/27/2022 19:57:31  63.0                   Pandora            1.5   \n",
       "2     8/27/2022 21:28:18  18.0                   Spotify            4.0   \n",
       "3     8/27/2022 21:40:40  61.0             YouTube Music            2.5   \n",
       "4     8/27/2022 21:54:47  18.0                   Spotify            4.0   \n",
       "..                   ...   ...                       ...            ...   \n",
       "731  10/30/2022 14:37:28  17.0                   Spotify            2.0   \n",
       "732   11/1/2022 22:26:42  18.0                   Spotify            1.0   \n",
       "733   11/3/2022 23:24:38  19.0   Other streaming service            6.0   \n",
       "734   11/4/2022 17:31:47  19.0                   Spotify            5.0   \n",
       "735    11/9/2022 1:55:20  29.0             YouTube Music            2.0   \n",
       "\n",
       "    While working Instrumentalist Composer         Fav genre Exploratory  \\\n",
       "0             Yes             Yes      Yes             Latin         Yes   \n",
       "1             Yes              No       No              Rock         Yes   \n",
       "2              No              No       No  Video game music          No   \n",
       "3             Yes              No      Yes              Jazz         Yes   \n",
       "4             Yes              No       No               R&B         Yes   \n",
       "..            ...             ...      ...               ...         ...   \n",
       "731           Yes             Yes       No              Rock         Yes   \n",
       "732           Yes             Yes       No               Pop         Yes   \n",
       "733           Yes              No      Yes               Rap         Yes   \n",
       "734           Yes             Yes       No         Classical          No   \n",
       "735           Yes              No       No           Hip hop         Yes   \n",
       "\n",
       "    Foreign languages  ...  Frequency [R&B]  Frequency [Rap] Frequency [Rock]  \\\n",
       "0                 Yes  ...        Sometimes  Very frequently            Never   \n",
       "1                  No  ...        Sometimes           Rarely  Very frequently   \n",
       "2                 Yes  ...            Never           Rarely           Rarely   \n",
       "3                 Yes  ...        Sometimes            Never            Never   \n",
       "4                  No  ...  Very frequently  Very frequently            Never   \n",
       "..                ...  ...              ...              ...              ...   \n",
       "731               Yes  ...            Never           Rarely  Very frequently   \n",
       "732               Yes  ...            Never            Never        Sometimes   \n",
       "733                No  ...        Sometimes        Sometimes           Rarely   \n",
       "734                No  ...            Never            Never            Never   \n",
       "735               Yes  ...  Very frequently  Very frequently  Very frequently   \n",
       "\n",
       "    Frequency [Video game music] Anxiety Depression Insomnia  OCD  \\\n",
       "0                      Sometimes     3.0        0.0      1.0  0.0   \n",
       "1                         Rarely     7.0        2.0      2.0  1.0   \n",
       "2                Very frequently     7.0        7.0     10.0  2.0   \n",
       "3                          Never     9.0        7.0      3.0  3.0   \n",
       "4                         Rarely     7.0        2.0      5.0  9.0   \n",
       "..                           ...     ...        ...      ...  ...   \n",
       "731                        Never     7.0        6.0      0.0  9.0   \n",
       "732                    Sometimes     3.0        2.0      2.0  5.0   \n",
       "733                       Rarely     2.0        2.0      2.0  2.0   \n",
       "734                    Sometimes     2.0        3.0      2.0  1.0   \n",
       "735                       Rarely     2.0        2.0      2.0  5.0   \n",
       "\n",
       "    Music effects    Permissions  \n",
       "0             NaN  I understand.  \n",
       "1             NaN  I understand.  \n",
       "2       No effect  I understand.  \n",
       "3         Improve  I understand.  \n",
       "4         Improve  I understand.  \n",
       "..            ...            ...  \n",
       "731       Improve  I understand.  \n",
       "732       Improve  I understand.  \n",
       "733       Improve  I understand.  \n",
       "734       Improve  I understand.  \n",
       "735       Improve  I understand.  \n",
       "\n",
       "[736 rows x 33 columns]"
      ]
     },
     "execution_count": 2,
     "metadata": {},
     "output_type": "execute_result"
    }
   ],
   "source": [
    "mxmh = pd.read_csv('../../data/raw/mxmh_survey_results.csv')\n",
    "mxmh"
   ]
  },
  {
   "cell_type": "markdown",
   "metadata": {},
   "source": [
    "#### Inspecting the data\n",
    "\n",
    "Let's inspect the first 5 columns as well."
   ]
  },
  {
   "cell_type": "code",
   "execution_count": 3,
   "metadata": {},
   "outputs": [
    {
     "data": {
      "text/html": [
       "<div>\n",
       "<style scoped>\n",
       "    .dataframe tbody tr th:only-of-type {\n",
       "        vertical-align: middle;\n",
       "    }\n",
       "\n",
       "    .dataframe tbody tr th {\n",
       "        vertical-align: top;\n",
       "    }\n",
       "\n",
       "    .dataframe thead th {\n",
       "        text-align: right;\n",
       "    }\n",
       "</style>\n",
       "<table border=\"1\" class=\"dataframe\">\n",
       "  <thead>\n",
       "    <tr style=\"text-align: right;\">\n",
       "      <th></th>\n",
       "      <th>Timestamp</th>\n",
       "      <th>Age</th>\n",
       "      <th>Primary streaming service</th>\n",
       "      <th>Hours per day</th>\n",
       "      <th>While working</th>\n",
       "      <th>Instrumentalist</th>\n",
       "      <th>Composer</th>\n",
       "      <th>Fav genre</th>\n",
       "      <th>Exploratory</th>\n",
       "      <th>Foreign languages</th>\n",
       "      <th>...</th>\n",
       "      <th>Frequency [R&amp;B]</th>\n",
       "      <th>Frequency [Rap]</th>\n",
       "      <th>Frequency [Rock]</th>\n",
       "      <th>Frequency [Video game music]</th>\n",
       "      <th>Anxiety</th>\n",
       "      <th>Depression</th>\n",
       "      <th>Insomnia</th>\n",
       "      <th>OCD</th>\n",
       "      <th>Music effects</th>\n",
       "      <th>Permissions</th>\n",
       "    </tr>\n",
       "  </thead>\n",
       "  <tbody>\n",
       "    <tr>\n",
       "      <th>0</th>\n",
       "      <td>8/27/2022 19:29:02</td>\n",
       "      <td>18.0</td>\n",
       "      <td>Spotify</td>\n",
       "      <td>3.0</td>\n",
       "      <td>Yes</td>\n",
       "      <td>Yes</td>\n",
       "      <td>Yes</td>\n",
       "      <td>Latin</td>\n",
       "      <td>Yes</td>\n",
       "      <td>Yes</td>\n",
       "      <td>...</td>\n",
       "      <td>Sometimes</td>\n",
       "      <td>Very frequently</td>\n",
       "      <td>Never</td>\n",
       "      <td>Sometimes</td>\n",
       "      <td>3.0</td>\n",
       "      <td>0.0</td>\n",
       "      <td>1.0</td>\n",
       "      <td>0.0</td>\n",
       "      <td>NaN</td>\n",
       "      <td>I understand.</td>\n",
       "    </tr>\n",
       "    <tr>\n",
       "      <th>1</th>\n",
       "      <td>8/27/2022 19:57:31</td>\n",
       "      <td>63.0</td>\n",
       "      <td>Pandora</td>\n",
       "      <td>1.5</td>\n",
       "      <td>Yes</td>\n",
       "      <td>No</td>\n",
       "      <td>No</td>\n",
       "      <td>Rock</td>\n",
       "      <td>Yes</td>\n",
       "      <td>No</td>\n",
       "      <td>...</td>\n",
       "      <td>Sometimes</td>\n",
       "      <td>Rarely</td>\n",
       "      <td>Very frequently</td>\n",
       "      <td>Rarely</td>\n",
       "      <td>7.0</td>\n",
       "      <td>2.0</td>\n",
       "      <td>2.0</td>\n",
       "      <td>1.0</td>\n",
       "      <td>NaN</td>\n",
       "      <td>I understand.</td>\n",
       "    </tr>\n",
       "    <tr>\n",
       "      <th>2</th>\n",
       "      <td>8/27/2022 21:28:18</td>\n",
       "      <td>18.0</td>\n",
       "      <td>Spotify</td>\n",
       "      <td>4.0</td>\n",
       "      <td>No</td>\n",
       "      <td>No</td>\n",
       "      <td>No</td>\n",
       "      <td>Video game music</td>\n",
       "      <td>No</td>\n",
       "      <td>Yes</td>\n",
       "      <td>...</td>\n",
       "      <td>Never</td>\n",
       "      <td>Rarely</td>\n",
       "      <td>Rarely</td>\n",
       "      <td>Very frequently</td>\n",
       "      <td>7.0</td>\n",
       "      <td>7.0</td>\n",
       "      <td>10.0</td>\n",
       "      <td>2.0</td>\n",
       "      <td>No effect</td>\n",
       "      <td>I understand.</td>\n",
       "    </tr>\n",
       "    <tr>\n",
       "      <th>3</th>\n",
       "      <td>8/27/2022 21:40:40</td>\n",
       "      <td>61.0</td>\n",
       "      <td>YouTube Music</td>\n",
       "      <td>2.5</td>\n",
       "      <td>Yes</td>\n",
       "      <td>No</td>\n",
       "      <td>Yes</td>\n",
       "      <td>Jazz</td>\n",
       "      <td>Yes</td>\n",
       "      <td>Yes</td>\n",
       "      <td>...</td>\n",
       "      <td>Sometimes</td>\n",
       "      <td>Never</td>\n",
       "      <td>Never</td>\n",
       "      <td>Never</td>\n",
       "      <td>9.0</td>\n",
       "      <td>7.0</td>\n",
       "      <td>3.0</td>\n",
       "      <td>3.0</td>\n",
       "      <td>Improve</td>\n",
       "      <td>I understand.</td>\n",
       "    </tr>\n",
       "    <tr>\n",
       "      <th>4</th>\n",
       "      <td>8/27/2022 21:54:47</td>\n",
       "      <td>18.0</td>\n",
       "      <td>Spotify</td>\n",
       "      <td>4.0</td>\n",
       "      <td>Yes</td>\n",
       "      <td>No</td>\n",
       "      <td>No</td>\n",
       "      <td>R&amp;B</td>\n",
       "      <td>Yes</td>\n",
       "      <td>No</td>\n",
       "      <td>...</td>\n",
       "      <td>Very frequently</td>\n",
       "      <td>Very frequently</td>\n",
       "      <td>Never</td>\n",
       "      <td>Rarely</td>\n",
       "      <td>7.0</td>\n",
       "      <td>2.0</td>\n",
       "      <td>5.0</td>\n",
       "      <td>9.0</td>\n",
       "      <td>Improve</td>\n",
       "      <td>I understand.</td>\n",
       "    </tr>\n",
       "  </tbody>\n",
       "</table>\n",
       "<p>5 rows × 33 columns</p>\n",
       "</div>"
      ],
      "text/plain": [
       "            Timestamp   Age Primary streaming service  Hours per day  \\\n",
       "0  8/27/2022 19:29:02  18.0                   Spotify            3.0   \n",
       "1  8/27/2022 19:57:31  63.0                   Pandora            1.5   \n",
       "2  8/27/2022 21:28:18  18.0                   Spotify            4.0   \n",
       "3  8/27/2022 21:40:40  61.0             YouTube Music            2.5   \n",
       "4  8/27/2022 21:54:47  18.0                   Spotify            4.0   \n",
       "\n",
       "  While working Instrumentalist Composer         Fav genre Exploratory  \\\n",
       "0           Yes             Yes      Yes             Latin         Yes   \n",
       "1           Yes              No       No              Rock         Yes   \n",
       "2            No              No       No  Video game music          No   \n",
       "3           Yes              No      Yes              Jazz         Yes   \n",
       "4           Yes              No       No               R&B         Yes   \n",
       "\n",
       "  Foreign languages  ...  Frequency [R&B]  Frequency [Rap] Frequency [Rock]  \\\n",
       "0               Yes  ...        Sometimes  Very frequently            Never   \n",
       "1                No  ...        Sometimes           Rarely  Very frequently   \n",
       "2               Yes  ...            Never           Rarely           Rarely   \n",
       "3               Yes  ...        Sometimes            Never            Never   \n",
       "4                No  ...  Very frequently  Very frequently            Never   \n",
       "\n",
       "  Frequency [Video game music] Anxiety Depression Insomnia  OCD Music effects  \\\n",
       "0                    Sometimes     3.0        0.0      1.0  0.0           NaN   \n",
       "1                       Rarely     7.0        2.0      2.0  1.0           NaN   \n",
       "2              Very frequently     7.0        7.0     10.0  2.0     No effect   \n",
       "3                        Never     9.0        7.0      3.0  3.0       Improve   \n",
       "4                       Rarely     7.0        2.0      5.0  9.0       Improve   \n",
       "\n",
       "     Permissions  \n",
       "0  I understand.  \n",
       "1  I understand.  \n",
       "2  I understand.  \n",
       "3  I understand.  \n",
       "4  I understand.  \n",
       "\n",
       "[5 rows x 33 columns]"
      ]
     },
     "execution_count": 3,
     "metadata": {},
     "output_type": "execute_result"
    }
   ],
   "source": [
    "mxmh.head()"
   ]
  },
  {
   "cell_type": "markdown",
   "metadata": {},
   "source": [
    "### Dataset Information\n",
    "\n",
    "Let's also explore some information about the dataset such as its size, column names, data types, number of NaN values and a summary description of the dataframe's numerical columns (range, central tendency, spread)."
   ]
  },
  {
   "cell_type": "markdown",
   "metadata": {},
   "source": [
    "#### Dataset Size"
   ]
  },
  {
   "cell_type": "code",
   "execution_count": 4,
   "metadata": {},
   "outputs": [
    {
     "data": {
      "text/plain": [
       "(736, 33)"
      ]
     },
     "execution_count": 4,
     "metadata": {},
     "output_type": "execute_result"
    }
   ],
   "source": [
    "mxmh.shape"
   ]
  },
  {
   "cell_type": "markdown",
   "metadata": {},
   "source": [
    "We can see that the dataset has 736 rows and 33 columns."
   ]
  },
  {
   "cell_type": "markdown",
   "metadata": {},
   "source": [
    "#### Column names"
   ]
  },
  {
   "cell_type": "code",
   "execution_count": 5,
   "metadata": {},
   "outputs": [
    {
     "data": {
      "text/plain": [
       "Index(['Timestamp', 'Age', 'Primary streaming service', 'Hours per day',\n",
       "       'While working', 'Instrumentalist', 'Composer', 'Fav genre',\n",
       "       'Exploratory', 'Foreign languages', 'BPM', 'Frequency [Classical]',\n",
       "       'Frequency [Country]', 'Frequency [EDM]', 'Frequency [Folk]',\n",
       "       'Frequency [Gospel]', 'Frequency [Hip hop]', 'Frequency [Jazz]',\n",
       "       'Frequency [K pop]', 'Frequency [Latin]', 'Frequency [Lofi]',\n",
       "       'Frequency [Metal]', 'Frequency [Pop]', 'Frequency [R&B]',\n",
       "       'Frequency [Rap]', 'Frequency [Rock]', 'Frequency [Video game music]',\n",
       "       'Anxiety', 'Depression', 'Insomnia', 'OCD', 'Music effects',\n",
       "       'Permissions'],\n",
       "      dtype='object')"
      ]
     },
     "execution_count": 5,
     "metadata": {},
     "output_type": "execute_result"
    }
   ],
   "source": [
    "mxmh.columns"
   ]
  },
  {
   "cell_type": "markdown",
   "metadata": {},
   "source": [
    "The 33 columns are 'Timestamp', 'Age', 'Primary streaming service', 'Hours per day',\n",
    "       'While working', 'Instrumentalist', 'Composer', 'Fav genre',\n",
    "       'Exploratory', 'Foreign languages', 'BPM', 'Frequency [Classical]',\n",
    "       'Frequency [Country]', 'Frequency [EDM]', 'Frequency [Folk]',\n",
    "       'Frequency [Gospel]', 'Frequency [Hip hop]', 'Frequency [Jazz]',\n",
    "       'Frequency [K pop]', 'Frequency [Latin]', 'Frequency [Lofi]',\n",
    "       'Frequency [Metal]', 'Frequency [Pop]', 'Frequency [R&B]',\n",
    "       'Frequency [Rap]', 'Frequency [Rock]', 'Frequency [Video game music]',\n",
    "       'Anxiety', 'Depression', 'Insomnia', 'OCD', 'Music effects',\n",
    "       'Permissions'"
   ]
  },
  {
   "cell_type": "markdown",
   "metadata": {},
   "source": [
    "#### Data types "
   ]
  },
  {
   "cell_type": "code",
   "execution_count": 6,
   "metadata": {
    "scrolled": true
   },
   "outputs": [
    {
     "name": "stdout",
     "output_type": "stream",
     "text": [
      "<class 'pandas.core.frame.DataFrame'>\n",
      "RangeIndex: 736 entries, 0 to 735\n",
      "Data columns (total 33 columns):\n",
      " #   Column                        Non-Null Count  Dtype  \n",
      "---  ------                        --------------  -----  \n",
      " 0   Timestamp                     736 non-null    object \n",
      " 1   Age                           735 non-null    float64\n",
      " 2   Primary streaming service     735 non-null    object \n",
      " 3   Hours per day                 736 non-null    float64\n",
      " 4   While working                 733 non-null    object \n",
      " 5   Instrumentalist               732 non-null    object \n",
      " 6   Composer                      735 non-null    object \n",
      " 7   Fav genre                     736 non-null    object \n",
      " 8   Exploratory                   736 non-null    object \n",
      " 9   Foreign languages             732 non-null    object \n",
      " 10  BPM                           629 non-null    float64\n",
      " 11  Frequency [Classical]         736 non-null    object \n",
      " 12  Frequency [Country]           736 non-null    object \n",
      " 13  Frequency [EDM]               736 non-null    object \n",
      " 14  Frequency [Folk]              736 non-null    object \n",
      " 15  Frequency [Gospel]            736 non-null    object \n",
      " 16  Frequency [Hip hop]           736 non-null    object \n",
      " 17  Frequency [Jazz]              736 non-null    object \n",
      " 18  Frequency [K pop]             736 non-null    object \n",
      " 19  Frequency [Latin]             736 non-null    object \n",
      " 20  Frequency [Lofi]              736 non-null    object \n",
      " 21  Frequency [Metal]             736 non-null    object \n",
      " 22  Frequency [Pop]               736 non-null    object \n",
      " 23  Frequency [R&B]               736 non-null    object \n",
      " 24  Frequency [Rap]               736 non-null    object \n",
      " 25  Frequency [Rock]              736 non-null    object \n",
      " 26  Frequency [Video game music]  736 non-null    object \n",
      " 27  Anxiety                       736 non-null    float64\n",
      " 28  Depression                    736 non-null    float64\n",
      " 29  Insomnia                      736 non-null    float64\n",
      " 30  OCD                           736 non-null    float64\n",
      " 31  Music effects                 728 non-null    object \n",
      " 32  Permissions                   736 non-null    object \n",
      "dtypes: float64(7), object(26)\n",
      "memory usage: 189.9+ KB\n"
     ]
    }
   ],
   "source": [
    "mxmh.info()"
   ]
  },
  {
   "cell_type": "markdown",
   "metadata": {},
   "source": [
    "There are 25 categorical attributes, 1 temporal attribute, and 7 quantitative attributes."
   ]
  },
  {
   "cell_type": "code",
   "execution_count": 7,
   "metadata": {},
   "outputs": [
    {
     "data": {
      "text/plain": [
       "Timestamp                         0\n",
       "Age                               1\n",
       "Primary streaming service         1\n",
       "Hours per day                     0\n",
       "While working                     3\n",
       "Instrumentalist                   4\n",
       "Composer                          1\n",
       "Fav genre                         0\n",
       "Exploratory                       0\n",
       "Foreign languages                 4\n",
       "BPM                             107\n",
       "Frequency [Classical]             0\n",
       "Frequency [Country]               0\n",
       "Frequency [EDM]                   0\n",
       "Frequency [Folk]                  0\n",
       "Frequency [Gospel]                0\n",
       "Frequency [Hip hop]               0\n",
       "Frequency [Jazz]                  0\n",
       "Frequency [K pop]                 0\n",
       "Frequency [Latin]                 0\n",
       "Frequency [Lofi]                  0\n",
       "Frequency [Metal]                 0\n",
       "Frequency [Pop]                   0\n",
       "Frequency [R&B]                   0\n",
       "Frequency [Rap]                   0\n",
       "Frequency [Rock]                  0\n",
       "Frequency [Video game music]      0\n",
       "Anxiety                           0\n",
       "Depression                        0\n",
       "Insomnia                          0\n",
       "OCD                               0\n",
       "Music effects                     8\n",
       "Permissions                       0\n",
       "dtype: int64"
      ]
     },
     "execution_count": 7,
     "metadata": {},
     "output_type": "execute_result"
    }
   ],
   "source": [
    "mxmh.isnull().sum()"
   ]
  },
  {
   "cell_type": "markdown",
   "metadata": {},
   "source": [
    "We can see that there is 1 missing value for the attribute 'Age', 'Primary streaming service', and 'Composer'. There are also 3 missing values for 'While Working', 4 missing values for 'Instrumentalist' and 'Foreign Languages', 107 missing values for BPM and 8 missing values for 'Music effects'"
   ]
  },
  {
   "cell_type": "markdown",
   "metadata": {},
   "source": [
    "#### Summary Statistics"
   ]
  },
  {
   "cell_type": "code",
   "execution_count": 8,
   "metadata": {},
   "outputs": [
    {
     "data": {
      "text/html": [
       "<div>\n",
       "<style scoped>\n",
       "    .dataframe tbody tr th:only-of-type {\n",
       "        vertical-align: middle;\n",
       "    }\n",
       "\n",
       "    .dataframe tbody tr th {\n",
       "        vertical-align: top;\n",
       "    }\n",
       "\n",
       "    .dataframe thead th {\n",
       "        text-align: right;\n",
       "    }\n",
       "</style>\n",
       "<table border=\"1\" class=\"dataframe\">\n",
       "  <thead>\n",
       "    <tr style=\"text-align: right;\">\n",
       "      <th></th>\n",
       "      <th>Age</th>\n",
       "      <th>Hours per day</th>\n",
       "      <th>BPM</th>\n",
       "      <th>Anxiety</th>\n",
       "      <th>Depression</th>\n",
       "      <th>Insomnia</th>\n",
       "      <th>OCD</th>\n",
       "    </tr>\n",
       "  </thead>\n",
       "  <tbody>\n",
       "    <tr>\n",
       "      <th>count</th>\n",
       "      <td>735.000000</td>\n",
       "      <td>736.000000</td>\n",
       "      <td>6.290000e+02</td>\n",
       "      <td>736.000000</td>\n",
       "      <td>736.000000</td>\n",
       "      <td>736.000000</td>\n",
       "      <td>736.000000</td>\n",
       "    </tr>\n",
       "    <tr>\n",
       "      <th>mean</th>\n",
       "      <td>25.206803</td>\n",
       "      <td>3.572758</td>\n",
       "      <td>1.589948e+06</td>\n",
       "      <td>5.837636</td>\n",
       "      <td>4.796196</td>\n",
       "      <td>3.738451</td>\n",
       "      <td>2.637228</td>\n",
       "    </tr>\n",
       "    <tr>\n",
       "      <th>std</th>\n",
       "      <td>12.054970</td>\n",
       "      <td>3.028199</td>\n",
       "      <td>3.987261e+07</td>\n",
       "      <td>2.793054</td>\n",
       "      <td>3.028870</td>\n",
       "      <td>3.088689</td>\n",
       "      <td>2.842017</td>\n",
       "    </tr>\n",
       "    <tr>\n",
       "      <th>min</th>\n",
       "      <td>10.000000</td>\n",
       "      <td>0.000000</td>\n",
       "      <td>0.000000e+00</td>\n",
       "      <td>0.000000</td>\n",
       "      <td>0.000000</td>\n",
       "      <td>0.000000</td>\n",
       "      <td>0.000000</td>\n",
       "    </tr>\n",
       "    <tr>\n",
       "      <th>25%</th>\n",
       "      <td>18.000000</td>\n",
       "      <td>2.000000</td>\n",
       "      <td>1.000000e+02</td>\n",
       "      <td>4.000000</td>\n",
       "      <td>2.000000</td>\n",
       "      <td>1.000000</td>\n",
       "      <td>0.000000</td>\n",
       "    </tr>\n",
       "    <tr>\n",
       "      <th>50%</th>\n",
       "      <td>21.000000</td>\n",
       "      <td>3.000000</td>\n",
       "      <td>1.200000e+02</td>\n",
       "      <td>6.000000</td>\n",
       "      <td>5.000000</td>\n",
       "      <td>3.000000</td>\n",
       "      <td>2.000000</td>\n",
       "    </tr>\n",
       "    <tr>\n",
       "      <th>75%</th>\n",
       "      <td>28.000000</td>\n",
       "      <td>5.000000</td>\n",
       "      <td>1.440000e+02</td>\n",
       "      <td>8.000000</td>\n",
       "      <td>7.000000</td>\n",
       "      <td>6.000000</td>\n",
       "      <td>5.000000</td>\n",
       "    </tr>\n",
       "    <tr>\n",
       "      <th>max</th>\n",
       "      <td>89.000000</td>\n",
       "      <td>24.000000</td>\n",
       "      <td>1.000000e+09</td>\n",
       "      <td>10.000000</td>\n",
       "      <td>10.000000</td>\n",
       "      <td>10.000000</td>\n",
       "      <td>10.000000</td>\n",
       "    </tr>\n",
       "  </tbody>\n",
       "</table>\n",
       "</div>"
      ],
      "text/plain": [
       "              Age  Hours per day           BPM     Anxiety  Depression  \\\n",
       "count  735.000000     736.000000  6.290000e+02  736.000000  736.000000   \n",
       "mean    25.206803       3.572758  1.589948e+06    5.837636    4.796196   \n",
       "std     12.054970       3.028199  3.987261e+07    2.793054    3.028870   \n",
       "min     10.000000       0.000000  0.000000e+00    0.000000    0.000000   \n",
       "25%     18.000000       2.000000  1.000000e+02    4.000000    2.000000   \n",
       "50%     21.000000       3.000000  1.200000e+02    6.000000    5.000000   \n",
       "75%     28.000000       5.000000  1.440000e+02    8.000000    7.000000   \n",
       "max     89.000000      24.000000  1.000000e+09   10.000000   10.000000   \n",
       "\n",
       "         Insomnia         OCD  \n",
       "count  736.000000  736.000000  \n",
       "mean     3.738451    2.637228  \n",
       "std      3.088689    2.842017  \n",
       "min      0.000000    0.000000  \n",
       "25%      1.000000    0.000000  \n",
       "50%      3.000000    2.000000  \n",
       "75%      6.000000    5.000000  \n",
       "max     10.000000   10.000000  "
      ]
     },
     "execution_count": 8,
     "metadata": {},
     "output_type": "execute_result"
    }
   ],
   "source": [
    "mxmh.describe()"
   ]
  },
  {
   "cell_type": "markdown",
   "metadata": {},
   "source": [
    "The summary description of the data frame's numerical columns is shown above. It displays the range, central tendency and spread of the quantitative attributes."
   ]
  },
  {
   "cell_type": "markdown",
   "metadata": {},
   "source": [
    "## 2. Cleaning the Data"
   ]
  },
  {
   "cell_type": "markdown",
   "metadata": {},
   "source": [
    "At first glance, the attribute 'Permissions' does not seem to be very relevant to the analysis. Let's check how many unique values this attribute has."
   ]
  },
  {
   "cell_type": "code",
   "execution_count": 9,
   "metadata": {},
   "outputs": [
    {
     "data": {
      "text/plain": [
       "1"
      ]
     },
     "execution_count": 9,
     "metadata": {},
     "output_type": "execute_result"
    }
   ],
   "source": [
    "mxmh['Permissions'].nunique()"
   ]
  },
  {
   "cell_type": "code",
   "execution_count": 10,
   "metadata": {},
   "outputs": [
    {
     "data": {
      "text/plain": [
       "array(['I understand.'], dtype=object)"
      ]
     },
     "execution_count": 10,
     "metadata": {},
     "output_type": "execute_result"
    }
   ],
   "source": [
    "mxmh['Permissions'].unique()"
   ]
  },
  {
   "cell_type": "markdown",
   "metadata": {},
   "source": [
    "Since there is only one possible value for Permissions which is 'I understand', we can safely drop this column as it will not be relevant to the analysis."
   ]
  },
  {
   "cell_type": "code",
   "execution_count": 11,
   "metadata": {},
   "outputs": [
    {
     "data": {
      "text/html": [
       "<div>\n",
       "<style scoped>\n",
       "    .dataframe tbody tr th:only-of-type {\n",
       "        vertical-align: middle;\n",
       "    }\n",
       "\n",
       "    .dataframe tbody tr th {\n",
       "        vertical-align: top;\n",
       "    }\n",
       "\n",
       "    .dataframe thead th {\n",
       "        text-align: right;\n",
       "    }\n",
       "</style>\n",
       "<table border=\"1\" class=\"dataframe\">\n",
       "  <thead>\n",
       "    <tr style=\"text-align: right;\">\n",
       "      <th></th>\n",
       "      <th>Timestamp</th>\n",
       "      <th>Age</th>\n",
       "      <th>Primary streaming service</th>\n",
       "      <th>Hours per day</th>\n",
       "      <th>While working</th>\n",
       "      <th>Instrumentalist</th>\n",
       "      <th>Composer</th>\n",
       "      <th>Fav genre</th>\n",
       "      <th>Exploratory</th>\n",
       "      <th>Foreign languages</th>\n",
       "      <th>...</th>\n",
       "      <th>Frequency [Pop]</th>\n",
       "      <th>Frequency [R&amp;B]</th>\n",
       "      <th>Frequency [Rap]</th>\n",
       "      <th>Frequency [Rock]</th>\n",
       "      <th>Frequency [Video game music]</th>\n",
       "      <th>Anxiety</th>\n",
       "      <th>Depression</th>\n",
       "      <th>Insomnia</th>\n",
       "      <th>OCD</th>\n",
       "      <th>Music effects</th>\n",
       "    </tr>\n",
       "  </thead>\n",
       "  <tbody>\n",
       "    <tr>\n",
       "      <th>0</th>\n",
       "      <td>8/27/2022 19:29:02</td>\n",
       "      <td>18.0</td>\n",
       "      <td>Spotify</td>\n",
       "      <td>3.0</td>\n",
       "      <td>Yes</td>\n",
       "      <td>Yes</td>\n",
       "      <td>Yes</td>\n",
       "      <td>Latin</td>\n",
       "      <td>Yes</td>\n",
       "      <td>Yes</td>\n",
       "      <td>...</td>\n",
       "      <td>Very frequently</td>\n",
       "      <td>Sometimes</td>\n",
       "      <td>Very frequently</td>\n",
       "      <td>Never</td>\n",
       "      <td>Sometimes</td>\n",
       "      <td>3.0</td>\n",
       "      <td>0.0</td>\n",
       "      <td>1.0</td>\n",
       "      <td>0.0</td>\n",
       "      <td>NaN</td>\n",
       "    </tr>\n",
       "    <tr>\n",
       "      <th>1</th>\n",
       "      <td>8/27/2022 19:57:31</td>\n",
       "      <td>63.0</td>\n",
       "      <td>Pandora</td>\n",
       "      <td>1.5</td>\n",
       "      <td>Yes</td>\n",
       "      <td>No</td>\n",
       "      <td>No</td>\n",
       "      <td>Rock</td>\n",
       "      <td>Yes</td>\n",
       "      <td>No</td>\n",
       "      <td>...</td>\n",
       "      <td>Sometimes</td>\n",
       "      <td>Sometimes</td>\n",
       "      <td>Rarely</td>\n",
       "      <td>Very frequently</td>\n",
       "      <td>Rarely</td>\n",
       "      <td>7.0</td>\n",
       "      <td>2.0</td>\n",
       "      <td>2.0</td>\n",
       "      <td>1.0</td>\n",
       "      <td>NaN</td>\n",
       "    </tr>\n",
       "    <tr>\n",
       "      <th>2</th>\n",
       "      <td>8/27/2022 21:28:18</td>\n",
       "      <td>18.0</td>\n",
       "      <td>Spotify</td>\n",
       "      <td>4.0</td>\n",
       "      <td>No</td>\n",
       "      <td>No</td>\n",
       "      <td>No</td>\n",
       "      <td>Video game music</td>\n",
       "      <td>No</td>\n",
       "      <td>Yes</td>\n",
       "      <td>...</td>\n",
       "      <td>Rarely</td>\n",
       "      <td>Never</td>\n",
       "      <td>Rarely</td>\n",
       "      <td>Rarely</td>\n",
       "      <td>Very frequently</td>\n",
       "      <td>7.0</td>\n",
       "      <td>7.0</td>\n",
       "      <td>10.0</td>\n",
       "      <td>2.0</td>\n",
       "      <td>No effect</td>\n",
       "    </tr>\n",
       "    <tr>\n",
       "      <th>3</th>\n",
       "      <td>8/27/2022 21:40:40</td>\n",
       "      <td>61.0</td>\n",
       "      <td>YouTube Music</td>\n",
       "      <td>2.5</td>\n",
       "      <td>Yes</td>\n",
       "      <td>No</td>\n",
       "      <td>Yes</td>\n",
       "      <td>Jazz</td>\n",
       "      <td>Yes</td>\n",
       "      <td>Yes</td>\n",
       "      <td>...</td>\n",
       "      <td>Sometimes</td>\n",
       "      <td>Sometimes</td>\n",
       "      <td>Never</td>\n",
       "      <td>Never</td>\n",
       "      <td>Never</td>\n",
       "      <td>9.0</td>\n",
       "      <td>7.0</td>\n",
       "      <td>3.0</td>\n",
       "      <td>3.0</td>\n",
       "      <td>Improve</td>\n",
       "    </tr>\n",
       "    <tr>\n",
       "      <th>4</th>\n",
       "      <td>8/27/2022 21:54:47</td>\n",
       "      <td>18.0</td>\n",
       "      <td>Spotify</td>\n",
       "      <td>4.0</td>\n",
       "      <td>Yes</td>\n",
       "      <td>No</td>\n",
       "      <td>No</td>\n",
       "      <td>R&amp;B</td>\n",
       "      <td>Yes</td>\n",
       "      <td>No</td>\n",
       "      <td>...</td>\n",
       "      <td>Sometimes</td>\n",
       "      <td>Very frequently</td>\n",
       "      <td>Very frequently</td>\n",
       "      <td>Never</td>\n",
       "      <td>Rarely</td>\n",
       "      <td>7.0</td>\n",
       "      <td>2.0</td>\n",
       "      <td>5.0</td>\n",
       "      <td>9.0</td>\n",
       "      <td>Improve</td>\n",
       "    </tr>\n",
       "    <tr>\n",
       "      <th>...</th>\n",
       "      <td>...</td>\n",
       "      <td>...</td>\n",
       "      <td>...</td>\n",
       "      <td>...</td>\n",
       "      <td>...</td>\n",
       "      <td>...</td>\n",
       "      <td>...</td>\n",
       "      <td>...</td>\n",
       "      <td>...</td>\n",
       "      <td>...</td>\n",
       "      <td>...</td>\n",
       "      <td>...</td>\n",
       "      <td>...</td>\n",
       "      <td>...</td>\n",
       "      <td>...</td>\n",
       "      <td>...</td>\n",
       "      <td>...</td>\n",
       "      <td>...</td>\n",
       "      <td>...</td>\n",
       "      <td>...</td>\n",
       "      <td>...</td>\n",
       "    </tr>\n",
       "    <tr>\n",
       "      <th>731</th>\n",
       "      <td>10/30/2022 14:37:28</td>\n",
       "      <td>17.0</td>\n",
       "      <td>Spotify</td>\n",
       "      <td>2.0</td>\n",
       "      <td>Yes</td>\n",
       "      <td>Yes</td>\n",
       "      <td>No</td>\n",
       "      <td>Rock</td>\n",
       "      <td>Yes</td>\n",
       "      <td>Yes</td>\n",
       "      <td>...</td>\n",
       "      <td>Very frequently</td>\n",
       "      <td>Never</td>\n",
       "      <td>Rarely</td>\n",
       "      <td>Very frequently</td>\n",
       "      <td>Never</td>\n",
       "      <td>7.0</td>\n",
       "      <td>6.0</td>\n",
       "      <td>0.0</td>\n",
       "      <td>9.0</td>\n",
       "      <td>Improve</td>\n",
       "    </tr>\n",
       "    <tr>\n",
       "      <th>732</th>\n",
       "      <td>11/1/2022 22:26:42</td>\n",
       "      <td>18.0</td>\n",
       "      <td>Spotify</td>\n",
       "      <td>1.0</td>\n",
       "      <td>Yes</td>\n",
       "      <td>Yes</td>\n",
       "      <td>No</td>\n",
       "      <td>Pop</td>\n",
       "      <td>Yes</td>\n",
       "      <td>Yes</td>\n",
       "      <td>...</td>\n",
       "      <td>Very frequently</td>\n",
       "      <td>Never</td>\n",
       "      <td>Never</td>\n",
       "      <td>Sometimes</td>\n",
       "      <td>Sometimes</td>\n",
       "      <td>3.0</td>\n",
       "      <td>2.0</td>\n",
       "      <td>2.0</td>\n",
       "      <td>5.0</td>\n",
       "      <td>Improve</td>\n",
       "    </tr>\n",
       "    <tr>\n",
       "      <th>733</th>\n",
       "      <td>11/3/2022 23:24:38</td>\n",
       "      <td>19.0</td>\n",
       "      <td>Other streaming service</td>\n",
       "      <td>6.0</td>\n",
       "      <td>Yes</td>\n",
       "      <td>No</td>\n",
       "      <td>Yes</td>\n",
       "      <td>Rap</td>\n",
       "      <td>Yes</td>\n",
       "      <td>No</td>\n",
       "      <td>...</td>\n",
       "      <td>Sometimes</td>\n",
       "      <td>Sometimes</td>\n",
       "      <td>Sometimes</td>\n",
       "      <td>Rarely</td>\n",
       "      <td>Rarely</td>\n",
       "      <td>2.0</td>\n",
       "      <td>2.0</td>\n",
       "      <td>2.0</td>\n",
       "      <td>2.0</td>\n",
       "      <td>Improve</td>\n",
       "    </tr>\n",
       "    <tr>\n",
       "      <th>734</th>\n",
       "      <td>11/4/2022 17:31:47</td>\n",
       "      <td>19.0</td>\n",
       "      <td>Spotify</td>\n",
       "      <td>5.0</td>\n",
       "      <td>Yes</td>\n",
       "      <td>Yes</td>\n",
       "      <td>No</td>\n",
       "      <td>Classical</td>\n",
       "      <td>No</td>\n",
       "      <td>No</td>\n",
       "      <td>...</td>\n",
       "      <td>Never</td>\n",
       "      <td>Never</td>\n",
       "      <td>Never</td>\n",
       "      <td>Never</td>\n",
       "      <td>Sometimes</td>\n",
       "      <td>2.0</td>\n",
       "      <td>3.0</td>\n",
       "      <td>2.0</td>\n",
       "      <td>1.0</td>\n",
       "      <td>Improve</td>\n",
       "    </tr>\n",
       "    <tr>\n",
       "      <th>735</th>\n",
       "      <td>11/9/2022 1:55:20</td>\n",
       "      <td>29.0</td>\n",
       "      <td>YouTube Music</td>\n",
       "      <td>2.0</td>\n",
       "      <td>Yes</td>\n",
       "      <td>No</td>\n",
       "      <td>No</td>\n",
       "      <td>Hip hop</td>\n",
       "      <td>Yes</td>\n",
       "      <td>Yes</td>\n",
       "      <td>...</td>\n",
       "      <td>Sometimes</td>\n",
       "      <td>Very frequently</td>\n",
       "      <td>Very frequently</td>\n",
       "      <td>Very frequently</td>\n",
       "      <td>Rarely</td>\n",
       "      <td>2.0</td>\n",
       "      <td>2.0</td>\n",
       "      <td>2.0</td>\n",
       "      <td>5.0</td>\n",
       "      <td>Improve</td>\n",
       "    </tr>\n",
       "  </tbody>\n",
       "</table>\n",
       "<p>736 rows × 32 columns</p>\n",
       "</div>"
      ],
      "text/plain": [
       "               Timestamp   Age Primary streaming service  Hours per day  \\\n",
       "0     8/27/2022 19:29:02  18.0                   Spotify            3.0   \n",
       "1     8/27/2022 19:57:31  63.0                   Pandora            1.5   \n",
       "2     8/27/2022 21:28:18  18.0                   Spotify            4.0   \n",
       "3     8/27/2022 21:40:40  61.0             YouTube Music            2.5   \n",
       "4     8/27/2022 21:54:47  18.0                   Spotify            4.0   \n",
       "..                   ...   ...                       ...            ...   \n",
       "731  10/30/2022 14:37:28  17.0                   Spotify            2.0   \n",
       "732   11/1/2022 22:26:42  18.0                   Spotify            1.0   \n",
       "733   11/3/2022 23:24:38  19.0   Other streaming service            6.0   \n",
       "734   11/4/2022 17:31:47  19.0                   Spotify            5.0   \n",
       "735    11/9/2022 1:55:20  29.0             YouTube Music            2.0   \n",
       "\n",
       "    While working Instrumentalist Composer         Fav genre Exploratory  \\\n",
       "0             Yes             Yes      Yes             Latin         Yes   \n",
       "1             Yes              No       No              Rock         Yes   \n",
       "2              No              No       No  Video game music          No   \n",
       "3             Yes              No      Yes              Jazz         Yes   \n",
       "4             Yes              No       No               R&B         Yes   \n",
       "..            ...             ...      ...               ...         ...   \n",
       "731           Yes             Yes       No              Rock         Yes   \n",
       "732           Yes             Yes       No               Pop         Yes   \n",
       "733           Yes              No      Yes               Rap         Yes   \n",
       "734           Yes             Yes       No         Classical          No   \n",
       "735           Yes              No       No           Hip hop         Yes   \n",
       "\n",
       "    Foreign languages  ...  Frequency [Pop]  Frequency [R&B]  Frequency [Rap]  \\\n",
       "0                 Yes  ...  Very frequently        Sometimes  Very frequently   \n",
       "1                  No  ...        Sometimes        Sometimes           Rarely   \n",
       "2                 Yes  ...           Rarely            Never           Rarely   \n",
       "3                 Yes  ...        Sometimes        Sometimes            Never   \n",
       "4                  No  ...        Sometimes  Very frequently  Very frequently   \n",
       "..                ...  ...              ...              ...              ...   \n",
       "731               Yes  ...  Very frequently            Never           Rarely   \n",
       "732               Yes  ...  Very frequently            Never            Never   \n",
       "733                No  ...        Sometimes        Sometimes        Sometimes   \n",
       "734                No  ...            Never            Never            Never   \n",
       "735               Yes  ...        Sometimes  Very frequently  Very frequently   \n",
       "\n",
       "    Frequency [Rock] Frequency [Video game music] Anxiety Depression Insomnia  \\\n",
       "0              Never                    Sometimes     3.0        0.0      1.0   \n",
       "1    Very frequently                       Rarely     7.0        2.0      2.0   \n",
       "2             Rarely              Very frequently     7.0        7.0     10.0   \n",
       "3              Never                        Never     9.0        7.0      3.0   \n",
       "4              Never                       Rarely     7.0        2.0      5.0   \n",
       "..               ...                          ...     ...        ...      ...   \n",
       "731  Very frequently                        Never     7.0        6.0      0.0   \n",
       "732        Sometimes                    Sometimes     3.0        2.0      2.0   \n",
       "733           Rarely                       Rarely     2.0        2.0      2.0   \n",
       "734            Never                    Sometimes     2.0        3.0      2.0   \n",
       "735  Very frequently                       Rarely     2.0        2.0      2.0   \n",
       "\n",
       "     OCD Music effects  \n",
       "0    0.0           NaN  \n",
       "1    1.0           NaN  \n",
       "2    2.0     No effect  \n",
       "3    3.0       Improve  \n",
       "4    9.0       Improve  \n",
       "..   ...           ...  \n",
       "731  9.0       Improve  \n",
       "732  5.0       Improve  \n",
       "733  2.0       Improve  \n",
       "734  1.0       Improve  \n",
       "735  5.0       Improve  \n",
       "\n",
       "[736 rows x 32 columns]"
      ]
     },
     "execution_count": 11,
     "metadata": {},
     "output_type": "execute_result"
    }
   ],
   "source": [
    "mxmh.drop('Permissions', axis=1)"
   ]
  },
  {
   "cell_type": "markdown",
   "metadata": {},
   "source": [
    "Now, we end up with 32 columns."
   ]
  },
  {
   "cell_type": "markdown",
   "metadata": {},
   "source": [
    "#### Handling Missing Values"
   ]
  },
  {
   "cell_type": "markdown",
   "metadata": {},
   "source": [
    "Next, since we don't want to have missing values in the dataset, we will perform some data cleaning. For the attributes with less than 10 missing values, we will just remove the rows with missing data since it will not be affecting the results too much as we have 736 observations so the difference is negligible. However, for the 'BPM' attribute that has 107 missing values, we will impute the missing values with the median value of BPM so that we don't lose data and to ensure that the results are not biased."
   ]
  },
  {
   "cell_type": "code",
   "execution_count": 12,
   "metadata": {},
   "outputs": [],
   "source": [
    "# Removing rows of attributes with <10 missing values \n",
    "for col in mxmh.columns:\n",
    "    if (mxmh[col].isnull().sum() < 10):\n",
    "        mxmh = mxmh.dropna(subset=[col])"
   ]
  },
  {
   "cell_type": "code",
   "execution_count": 13,
   "metadata": {},
   "outputs": [],
   "source": [
    "# Impute missing values in BPM\n",
    "mxmh.fillna(mxmh['BPM'].median(), inplace=True)"
   ]
  },
  {
   "cell_type": "code",
   "execution_count": 14,
   "metadata": {},
   "outputs": [
    {
     "data": {
      "text/plain": [
       "Timestamp                       0\n",
       "Age                             0\n",
       "Primary streaming service       0\n",
       "Hours per day                   0\n",
       "While working                   0\n",
       "Instrumentalist                 0\n",
       "Composer                        0\n",
       "Fav genre                       0\n",
       "Exploratory                     0\n",
       "Foreign languages               0\n",
       "BPM                             0\n",
       "Frequency [Classical]           0\n",
       "Frequency [Country]             0\n",
       "Frequency [EDM]                 0\n",
       "Frequency [Folk]                0\n",
       "Frequency [Gospel]              0\n",
       "Frequency [Hip hop]             0\n",
       "Frequency [Jazz]                0\n",
       "Frequency [K pop]               0\n",
       "Frequency [Latin]               0\n",
       "Frequency [Lofi]                0\n",
       "Frequency [Metal]               0\n",
       "Frequency [Pop]                 0\n",
       "Frequency [R&B]                 0\n",
       "Frequency [Rap]                 0\n",
       "Frequency [Rock]                0\n",
       "Frequency [Video game music]    0\n",
       "Anxiety                         0\n",
       "Depression                      0\n",
       "Insomnia                        0\n",
       "OCD                             0\n",
       "Music effects                   0\n",
       "Permissions                     0\n",
       "dtype: int64"
      ]
     },
     "execution_count": 14,
     "metadata": {},
     "output_type": "execute_result"
    }
   ],
   "source": [
    "# Let's check for missing values\n",
    "mxmh.isnull().sum()"
   ]
  },
  {
   "cell_type": "markdown",
   "metadata": {},
   "source": [
    "After checking, we can see that there are no missing values anymore in our dataset."
   ]
  },
  {
   "cell_type": "markdown",
   "metadata": {},
   "source": [
    "## 3. Exploratory Data Analysis"
   ]
  },
  {
   "cell_type": "markdown",
   "metadata": {},
   "source": [
    "Now, we can move on to the EDA part. The research question is \"How does the relationship between the frequency of music listening and mental health outcomes vary depending on the preferred music genre?\""
   ]
  },
  {
   "cell_type": "markdown",
   "metadata": {},
   "source": [
    "First, we can start looking at the individual distributions of frequency of music listening (hours per day) and the mental health outcomes (anxiety, depression, insomnia, and OCD)."
   ]
  },
  {
   "cell_type": "code",
   "execution_count": 15,
   "metadata": {},
   "outputs": [
    {
     "data": {
      "application/vnd.vegalite.v5+json": {
       "$schema": "https://vega.github.io/schema/vega-lite/v5.20.1.json",
       "config": {
        "view": {
         "continuousHeight": 300,
         "continuousWidth": 300
        }
       },
       "data": {
        "format": {
         "type": "json"
        },
        "url": "altairdata/altair-data-9aecb321617e76ab7b7605d2dbca056d.json"
       },
       "encoding": {
        "x": {
         "bin": {
          "maxbins": 30
         },
         "field": "Hours per day",
         "title": "Hours per day (binned)",
         "type": "quantitative"
        },
        "y": {
         "aggregate": "count",
         "title": "Count",
         "type": "quantitative"
        }
       },
       "mark": {
        "type": "bar"
       },
       "title": "Histogram of Hours per Day"
      },
      "image/png": "[encoded data removed]",
      "text/plain": [
       "<VegaLite 5 object>\n",
       "\n",
       "If you see this message, it means the renderer has not been properly enabled\n",
       "for the frontend that you are using. For more information, see\n",
       "https://altair-viz.github.io/user_guide/display_frontends.html#troubleshooting\n"
      ]
     },
     "execution_count": 15,
     "metadata": {},
     "output_type": "execute_result"
    }
   ],
   "source": [
    "hours_distribution = alt.Chart(mxmh).mark_bar().encode(\n",
    "                     alt.X('Hours per day:Q',  bin=alt.BinParams(maxbins=30), title='Hours per day (binned)'),\n",
    "                    alt.Y('count():Q', title='Count')\n",
    "                    ).properties(title='Histogram of Hours per Day')\n",
    "hours_distribution"
   ]
  },
  {
   "cell_type": "code",
   "execution_count": 16,
   "metadata": {},
   "outputs": [
    {
     "data": {
      "application/vnd.vegalite.v5+json": {
       "$schema": "https://vega.github.io/schema/vega-lite/v5.20.1.json",
       "columns": 2,
       "config": {
        "view": {
         "continuousHeight": 300,
         "continuousWidth": 300
        }
       },
       "repeat": [
        "Anxiety",
        "Depression",
        "Insomnia",
        "OCD"
       ],
       "spec": {
        "data": {
         "format": {
          "type": "json"
         },
         "url": "altairdata/altair-data-9aecb321617e76ab7b7605d2dbca056d.json"
        },
        "encoding": {
         "x": {
          "bin": {
           "maxbins": 15
          },
          "field": {
           "repeat": "repeat"
          },
          "type": "quantitative"
         },
         "y": {
          "aggregate": "count",
          "title": "Count",
          "type": "quantitative"
         }
        },
        "height": 150,
        "mark": {
         "type": "bar"
        }
       }
      },
      "image/png": "[encoded data removed]",
      "text/plain": [
       "<VegaLite 5 object>\n",
       "\n",
       "If you see this message, it means the renderer has not been properly enabled\n",
       "for the frontend that you are using. For more information, see\n",
       "https://altair-viz.github.io/user_guide/display_frontends.html#troubleshooting\n"
      ]
     },
     "execution_count": 16,
     "metadata": {},
     "output_type": "execute_result"
    }
   ],
   "source": [
    "mho_distributions = alt.Chart(mxmh).mark_bar().encode(\n",
    "                     alt.X(alt.repeat(), bin=alt.BinParams(maxbins=15), type = 'quantitative'),\n",
    "                    alt.Y('count():Q', title='Count')\n",
    "                    ).properties(height=150).repeat(['Anxiety', 'Depression', 'Insomnia', 'OCD'], columns=2)\n",
    "mho_distributions"
   ]
  },
  {
   "cell_type": "markdown",
   "metadata": {},
   "source": [
    "We can see the shape of the data for each of the mental health outcomes. It seems like none of them follow a Normal distribution. \n",
    "- Anxiety: The histogram shows that the data is somewhat left-skewed, indicating that many people experience higher levels of anxiety.\n",
    "- Depression: The histogram shows two peaks (one from 0-3.0) and the other at (6.0-7.0).\n",
    "- Insomnia: The histogram shows that the data is more right-skewed, indicating that more people experience lower levels of insomnia, with a peak at 0.\n",
    "- OCD: The histogram shows that the data is more right-skewed, indicating that more people experience lower levels of OCD, with a peak at 0."
   ]
  },
  {
   "cell_type": "markdown",
   "metadata": {},
   "source": [
    "Now, let's take a look at the distribution of the preferred music genres with a bar chart."
   ]
  },
  {
   "cell_type": "code",
   "execution_count": 17,
   "metadata": {},
   "outputs": [
    {
     "data": {
      "application/vnd.vegalite.v5+json": {
       "$schema": "https://vega.github.io/schema/vega-lite/v5.20.1.json",
       "config": {
        "view": {
         "continuousHeight": 300,
         "continuousWidth": 300
        }
       },
       "data": {
        "format": {
         "type": "json"
        },
        "url": "altairdata/altair-data-9aecb321617e76ab7b7605d2dbca056d.json"
       },
       "encoding": {
        "x": {
         "aggregate": "count",
         "title": "Count",
         "type": "quantitative"
        },
        "y": {
         "field": "Fav genre",
         "sort": "-x",
         "title": "Favorite Genre",
         "type": "nominal"
        }
       },
       "mark": {
        "type": "bar"
       },
       "title": "Bar chart of favorite genre"
      },
      "image/png": "[encoded data removed]",
      "text/plain": [
       "<VegaLite 5 object>\n",
       "\n",
       "If you see this message, it means the renderer has not been properly enabled\n",
       "for the frontend that you are using. For more information, see\n",
       "https://altair-viz.github.io/user_guide/display_frontends.html#troubleshooting\n"
      ]
     },
     "execution_count": 17,
     "metadata": {},
     "output_type": "execute_result"
    }
   ],
   "source": [
    "mho_genres = alt.Chart(mxmh).mark_bar().encode(\n",
    "                     alt.X('count():Q', title='Count'),\n",
    "                    alt.Y('Fav genre', title='Favorite Genre', sort='-x')\n",
    "                    ).properties(title='Bar chart of favorite genre')\n",
    "mho_genres"
   ]
  },
  {
   "cell_type": "markdown",
   "metadata": {},
   "source": [
    "From the bar chart, we can notice that 'Rock' is the most popular genre, with more than 180 people rating it as their favorite genre. In contrast, 'Latin' is the least popular genre."
   ]
  },
  {
   "cell_type": "markdown",
   "metadata": {},
   "source": [
    "Let's explore the relationship between the favorite genres and the mental health outcomes."
   ]
  },
  {
   "cell_type": "code",
   "execution_count": 18,
   "metadata": {},
   "outputs": [
    {
     "data": {
      "application/vnd.vegalite.v5+json": {
       "$schema": "https://vega.github.io/schema/vega-lite/v5.20.1.json",
       "columns": 2,
       "config": {
        "view": {
         "continuousHeight": 300,
         "continuousWidth": 300
        }
       },
       "repeat": [
        "Anxiety",
        "Depression",
        "Insomnia",
        "OCD"
       ],
       "spec": {
        "data": {
         "format": {
          "type": "json"
         },
         "url": "altairdata/altair-data-9aecb321617e76ab7b7605d2dbca056d.json"
        },
        "encoding": {
         "x": {
          "field": {
           "repeat": "repeat"
          },
          "type": "quantitative"
         },
         "y": {
          "field": "Fav genre",
          "sort": "x",
          "title": "Favorite Genre",
          "type": "nominal"
         }
        },
        "mark": {
         "type": "boxplot"
        }
       }
      },
      "image/png": "[encoded data removed]",
      "text/plain": [
       "<VegaLite 5 object>\n",
       "\n",
       "If you see this message, it means the renderer has not been properly enabled\n",
       "for the frontend that you are using. For more information, see\n",
       "https://altair-viz.github.io/user_guide/display_frontends.html#troubleshooting\n"
      ]
     },
     "execution_count": 18,
     "metadata": {},
     "output_type": "execute_result"
    }
   ],
   "source": [
    "mho_genres_boxplot = alt.Chart(mxmh).mark_boxplot().encode(\n",
    "                     alt.X(alt.repeat(), type='quantitative'),\n",
    "                    alt.Y('Fav genre', title='Favorite Genre', sort='x')\n",
    "                    ).repeat(['Anxiety', 'Depression', 'Insomnia', 'OCD'], columns=2)\n",
    "mho_genres_boxplot"
   ]
  },
  {
   "cell_type": "markdown",
   "metadata": {},
   "source": [
    "We can also explore the relationship between the frequency of music listening and the mental health outcomes."
   ]
  },
  {
   "cell_type": "code",
   "execution_count": 19,
   "metadata": {},
   "outputs": [
    {
     "data": {
      "application/vnd.vegalite.v5+json": {
       "$schema": "https://vega.github.io/schema/vega-lite/v5.20.1.json",
       "columns": 2,
       "config": {
        "view": {
         "continuousHeight": 300,
         "continuousWidth": 300
        }
       },
       "repeat": [
        "Anxiety",
        "Depression",
        "Insomnia",
        "OCD"
       ],
       "spec": {
        "data": {
         "format": {
          "type": "json"
         },
         "url": "altairdata/altair-data-9aecb321617e76ab7b7605d2dbca056d.json"
        },
        "encoding": {
         "x": {
          "field": "Hours per day",
          "title": "Hours per day",
          "type": "quantitative"
         },
         "y": {
          "field": {
           "repeat": "repeat"
          },
          "type": "quantitative"
         }
        },
        "height": 150,
        "mark": {
         "type": "circle"
        }
       }
      },
      "image/png": "[encoded data removed]",
      "text/plain": [
       "<VegaLite 5 object>\n",
       "\n",
       "If you see this message, it means the renderer has not been properly enabled\n",
       "for the frontend that you are using. For more information, see\n",
       "https://altair-viz.github.io/user_guide/display_frontends.html#troubleshooting\n"
      ]
     },
     "execution_count": 19,
     "metadata": {},
     "output_type": "execute_result"
    }
   ],
   "source": [
    "hours_mho = alt.Chart(mxmh).mark_circle().encode(\n",
    "                     alt.X('Hours per day', title='Hours per day'),\n",
    "                    alt.Y(alt.repeat(), type='quantitative')\n",
    "                    ).properties(height=150).repeat(['Anxiety', 'Depression', 'Insomnia', 'OCD'], columns=2)\n",
    "hours_mho"
   ]
  },
  {
   "cell_type": "markdown",
   "metadata": {},
   "source": [
    "From the scatterplots, we can notice that there does not seem to be a correlation between hours per day individuals listened to music and the mental health score for each of anxiety, depression, insomnia or OCD. Hence, we are unable to find a general trend between listening hours and mental health scores."
   ]
  },
  {
   "cell_type": "code",
   "execution_count": null,
   "metadata": {},
   "outputs": [],
   "source": []
  }
 ],
 "metadata": {
  "kernelspec": {
   "display_name": "Python 3 (ipykernel)",
   "language": "python",
   "name": "python3"
  },
  "language_info": {
   "codemirror_mode": {
    "name": "ipython",
    "version": 3
   },
   "file_extension": ".py",
   "mimetype": "text/x-python",
   "name": "python",
   "nbconvert_exporter": "python",
   "pygments_lexer": "ipython3",
   "version": "3.12.5"
  }
 },
 "nbformat": 4,
 "nbformat_minor": 4
}
