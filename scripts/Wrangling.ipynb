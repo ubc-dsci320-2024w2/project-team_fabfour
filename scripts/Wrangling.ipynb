{
 "cells": [
  {
   "cell_type": "code",
   "execution_count": 1,
   "id": "1f050aaa-fe51-47db-9da1-7214189c7a66",
   "metadata": {},
   "outputs": [],
   "source": [
    "def clean_data():\n",
    "    path = \"../data/raw/mxmh_survey_results.csv\"\n",
    "    data = pd.read_csv(path)\n",
    "    data = handle_BPM_outliers(data)\n",
    "    data = handle_NAs(data)\n",
    "    data = make_frequency_cols_ordered(data)\n",
    "    data = make_mental_health_levels(data)\n",
    "    data = make_data_time(data)\n",
    "    data = make_time_of_day(data)\n",
    "    data = drop_permissions(data)\n",
    "    return data"
   ]
  },
  {
   "cell_type": "code",
   "execution_count": 2,
   "id": "02c75727-f64f-41e7-a390-5bd8578c5165",
   "metadata": {},
   "outputs": [],
   "source": [
    "def handle_BPM_outliers(data):\n",
    "    droppedMax = data[\"BPM\"].nlargest(2).index\n",
    "    droppedMin = data[\"BPM\"].nsmallest(5).index\n",
    "    droppedOutliers = droppedMax.union(droppedMin)\n",
    "    data_cleaned = data.drop(index=droppedOutliers)\n",
    "    return data_cleaned"
   ]
  },
  {
   "cell_type": "code",
   "execution_count": 3,
   "id": "e8f6b07d-5d06-415d-9c7c-d1dcd2dc568d",
   "metadata": {},
   "outputs": [],
   "source": [
    "def handle_NAs(data):\n",
    "    data[\"BPM\"] = data[\"BPM\"].interpolate(method=\"linear\")\n",
    "    data.dropna(inplace=True)\n",
    "    return data"
   ]
  },
  {
   "cell_type": "code",
   "execution_count": 4,
   "id": "b974ff3e-1a81-430f-9b2b-1e66d73279d4",
   "metadata": {},
   "outputs": [],
   "source": [
    "def make_frequency_cols_ordered(data):\n",
    "    order = [\"Never\", \"Rarely\", \"Sometimes\", \"Very frequently\"]\n",
    "    for col in data.columns:\n",
    "        if \"Frequency\" in col:\n",
    "            data[col] = pd.Categorical(data[col], categories=order, ordered=True)\n",
    "    return data"
   ]
  },
  {
   "cell_type": "code",
   "execution_count": 5,
   "id": "ae1f398e-b8d1-4ab4-8aa6-c345c99d6494",
   "metadata": {},
   "outputs": [],
   "source": [
    "def make_mental_health_levels(data):\n",
    "    data['Anxiety_Level'] = pd.cut(\n",
    "        data['Anxiety'], \n",
    "        bins=[0, 3, 6, 10], \n",
    "        labels=['Low', 'Medium', 'High'],\n",
    "        include_lowest=True)\n",
    "\n",
    "    data['Depression_Level'] = pd.cut(\n",
    "        data['Depression'], \n",
    "        bins=[0, 3, 6, 10],  \n",
    "        labels=['Low', 'Medium', 'High'],\n",
    "        include_lowest=True)\n",
    "\n",
    "    data['Insomnia_Level'] = pd.cut(\n",
    "        data['Insomnia'], \n",
    "        bins=[0, 3, 6, 10],  \n",
    "        labels=['Low', 'Medium', 'High'],\n",
    "        include_lowest=True)\n",
    "\n",
    "    data['OCD_Level'] = pd.cut(\n",
    "        data['OCD'], \n",
    "        bins=[0, 3, 6, 10],  \n",
    "        labels=['Low', 'Medium', 'High'],\n",
    "        include_lowest=True)"
   ]
  },
  {
   "cell_type": "code",
   "execution_count": 6,
   "id": "ea1f0d62-1911-49b2-9bd1-157b8dedf240",
   "metadata": {},
   "outputs": [],
   "source": [
    "def make_data_time(data):\n",
    "    data[\"Timestamp\"] = pd.to_datetime(data[\"Timestamp\"])\n",
    "    data[\"Date\"] = pd.to_datetime(data[\"Timestamp\"].dt.date)\n",
    "    data[\"Time\"] = data[\"Timestamp\"].dt.strftime(\"%H:%M:%S\")\n",
    "    return data;"
   ]
  },
  {
   "cell_type": "code",
   "execution_count": 7,
   "id": "473c357e-58ae-44ab-942f-750bfc08e9ec",
   "metadata": {},
   "outputs": [],
   "source": [
    "def make_time_of_day(data):\n",
    "    time_order = [\"Morning\", \"Afternoon\", \"Evening\", \"Night\"]\n",
    "    data[\"Time of Day\"] = data[\"Timestamp\"].apply(categorize_time_of_day)\n",
    "    data[\"Time of Day\"] = pd.Categorical(\n",
    "        data[\"Time of Day\"], \n",
    "        categories=time_order, \n",
    "        ordered=True)\n",
    "    return data"
   ]
  },
  {
   "cell_type": "code",
   "execution_count": 8,
   "id": "e647f2eb-0c1f-4004-86bb-684ea5a01ff4",
   "metadata": {},
   "outputs": [],
   "source": [
    "def categorize_time_of_day(timestamp):\n",
    "    hour = timestamp.hour\n",
    "    if 6 <= hour < 12:\n",
    "        return \"Morning\"\n",
    "    elif 12 <= hour < 18:\n",
    "        return \"Afternoon\"\n",
    "    elif 18 <= hour < 24:\n",
    "        return \"Evening\"\n",
    "    else:\n",
    "        return \"Night\""
   ]
  },
  {
   "cell_type": "code",
   "execution_count": 9,
   "id": "d362f0c6-5412-47b0-98ff-eddef5080774",
   "metadata": {},
   "outputs": [],
   "source": [
    "def drop_permissions(data):\n",
    "    data = data.drop(columns=[\"Permissions\"])\n",
    "    return data"
   ]
  }
 ],
 "metadata": {
  "kernelspec": {
   "display_name": "Python 3 (ipykernel)",
   "language": "python",
   "name": "python3"
  },
  "language_info": {
   "codemirror_mode": {
    "name": "ipython",
    "version": 3
   },
   "file_extension": ".py",
   "mimetype": "text/x-python",
   "name": "python",
   "nbconvert_exporter": "python",
   "pygments_lexer": "ipython3",
   "version": "3.13.2"
  }
 },
 "nbformat": 4,
 "nbformat_minor": 5
}
