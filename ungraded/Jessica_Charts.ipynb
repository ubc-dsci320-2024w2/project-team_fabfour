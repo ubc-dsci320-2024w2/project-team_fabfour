{
 "cells": [
  {
   "cell_type": "markdown",
   "id": "172a2611-9a2c-4094-809c-7902c1c7ae3f",
   "metadata": {},
   "source": [
    "# Jessica's Charts"
   ]
  },
  {
   "cell_type": "code",
   "execution_count": 1,
   "id": "2d0e313d-606e-4e27-8caa-e4fb62a28c64",
   "metadata": {},
   "outputs": [],
   "source": [
    "# !pip install altair_saver --quiet"
   ]
  },
  {
   "cell_type": "markdown",
   "id": "d557e0b9-f5f6-4c6b-8eed-be0beef060e3",
   "metadata": {
    "jp-MarkdownHeadingCollapsed": true
   },
   "source": [
    "## Loading dependencies/libraries"
   ]
  },
  {
   "cell_type": "code",
   "execution_count": 2,
   "id": "2fd521b1-8098-4eed-ba8e-eb38e1888363",
   "metadata": {},
   "outputs": [
    {
     "data": {
      "text/plain": [
       "RendererRegistry.enable('jupyterlab')"
      ]
     },
     "execution_count": 2,
     "metadata": {},
     "output_type": "execute_result"
    }
   ],
   "source": [
    "import sys\n",
    "import os\n",
    "import altair as alt\n",
    "import pandas as pd\n",
    "from toolz.curried import pipe\n",
    "from altair_saver import save\n",
    "\n",
    "# # Create a new data transformer that stores the files in a directory\n",
    "def json_dir(data, data_dir='altairdata'):\n",
    "    os.makedirs(data_dir, exist_ok=True)\n",
    "    return pipe(data, alt.to_json(filename=data_dir + '/{prefix}-{hash}.{extension}') )\n",
    "\n",
    "# # Register and enable the new transformer\n",
    "alt.data_transformers.register('json_dir', json_dir)\n",
    "alt.data_transformers.enable('json_dir')\n",
    "\n",
    "sys.path.append('..')\n",
    "from scripts import wrangle_and_clean as wac\n",
    "\n",
    "# Handle large data sets (default shows only 5000)\n",
    "# See here: https://altair-viz.github.io/user_guide/data_transformers.html\n",
    "alt.data_transformers.disable_max_rows()\n",
    "\n",
    "alt.renderers.enable('jupyterlab')"
   ]
  },
  {
   "cell_type": "markdown",
   "id": "505570dc-b91e-4e31-ae48-38d92e77f6e2",
   "metadata": {
    "jp-MarkdownHeadingCollapsed": true
   },
   "source": [
    "## Load & Wrangle Data"
   ]
  },
  {
   "cell_type": "code",
   "execution_count": 3,
   "id": "09bc5649-8759-463f-bb39-139ccd5bd783",
   "metadata": {},
   "outputs": [
    {
     "data": {
      "text/html": [
       "<div>\n",
       "<style scoped>\n",
       "    .dataframe tbody tr th:only-of-type {\n",
       "        vertical-align: middle;\n",
       "    }\n",
       "\n",
       "    .dataframe tbody tr th {\n",
       "        vertical-align: top;\n",
       "    }\n",
       "\n",
       "    .dataframe thead th {\n",
       "        text-align: right;\n",
       "    }\n",
       "</style>\n",
       "<table border=\"1\" class=\"dataframe\">\n",
       "  <thead>\n",
       "    <tr style=\"text-align: right;\">\n",
       "      <th></th>\n",
       "      <th>Timestamp</th>\n",
       "      <th>Age</th>\n",
       "      <th>Primary streaming service</th>\n",
       "      <th>Hours per day</th>\n",
       "      <th>While working</th>\n",
       "      <th>Instrumentalist</th>\n",
       "      <th>Composer</th>\n",
       "      <th>Fav genre</th>\n",
       "      <th>Exploratory</th>\n",
       "      <th>Foreign languages</th>\n",
       "      <th>...</th>\n",
       "      <th>Frequency_K_pop_numeric</th>\n",
       "      <th>Frequency_Latin_numeric</th>\n",
       "      <th>Frequency_Lofi_numeric</th>\n",
       "      <th>Frequency_Metal_numeric</th>\n",
       "      <th>Frequency_Pop_numeric</th>\n",
       "      <th>Frequency_R&amp;B_numeric</th>\n",
       "      <th>Frequency_Rap_numeric</th>\n",
       "      <th>Frequency_Rock_numeric</th>\n",
       "      <th>Frequency_Video_game_music_numeric</th>\n",
       "      <th>Genre Diversity Score</th>\n",
       "    </tr>\n",
       "  </thead>\n",
       "  <tbody>\n",
       "    <tr>\n",
       "      <th>0</th>\n",
       "      <td>2022-08-27 19:29:02</td>\n",
       "      <td>18.0</td>\n",
       "      <td>Spotify</td>\n",
       "      <td>3.0</td>\n",
       "      <td>Yes</td>\n",
       "      <td>Yes</td>\n",
       "      <td>Yes</td>\n",
       "      <td>Latin</td>\n",
       "      <td>Yes</td>\n",
       "      <td>Yes</td>\n",
       "      <td>...</td>\n",
       "      <td>3</td>\n",
       "      <td>3</td>\n",
       "      <td>1</td>\n",
       "      <td>0</td>\n",
       "      <td>3</td>\n",
       "      <td>2</td>\n",
       "      <td>3</td>\n",
       "      <td>0</td>\n",
       "      <td>2</td>\n",
       "      <td>10</td>\n",
       "    </tr>\n",
       "    <tr>\n",
       "      <th>1</th>\n",
       "      <td>2022-08-27 19:57:31</td>\n",
       "      <td>63.0</td>\n",
       "      <td>Pandora</td>\n",
       "      <td>1.5</td>\n",
       "      <td>Yes</td>\n",
       "      <td>No</td>\n",
       "      <td>No</td>\n",
       "      <td>Rock</td>\n",
       "      <td>Yes</td>\n",
       "      <td>No</td>\n",
       "      <td>...</td>\n",
       "      <td>1</td>\n",
       "      <td>2</td>\n",
       "      <td>1</td>\n",
       "      <td>0</td>\n",
       "      <td>2</td>\n",
       "      <td>2</td>\n",
       "      <td>1</td>\n",
       "      <td>3</td>\n",
       "      <td>1</td>\n",
       "      <td>13</td>\n",
       "    </tr>\n",
       "    <tr>\n",
       "      <th>2</th>\n",
       "      <td>2022-08-27 21:28:18</td>\n",
       "      <td>18.0</td>\n",
       "      <td>Spotify</td>\n",
       "      <td>4.0</td>\n",
       "      <td>No</td>\n",
       "      <td>No</td>\n",
       "      <td>No</td>\n",
       "      <td>Video game music</td>\n",
       "      <td>No</td>\n",
       "      <td>Yes</td>\n",
       "      <td>...</td>\n",
       "      <td>3</td>\n",
       "      <td>0</td>\n",
       "      <td>2</td>\n",
       "      <td>2</td>\n",
       "      <td>1</td>\n",
       "      <td>0</td>\n",
       "      <td>1</td>\n",
       "      <td>1</td>\n",
       "      <td>3</td>\n",
       "      <td>10</td>\n",
       "    </tr>\n",
       "    <tr>\n",
       "      <th>3</th>\n",
       "      <td>2022-08-27 21:40:40</td>\n",
       "      <td>61.0</td>\n",
       "      <td>YouTube Music</td>\n",
       "      <td>2.5</td>\n",
       "      <td>Yes</td>\n",
       "      <td>No</td>\n",
       "      <td>Yes</td>\n",
       "      <td>Jazz</td>\n",
       "      <td>Yes</td>\n",
       "      <td>Yes</td>\n",
       "      <td>...</td>\n",
       "      <td>2</td>\n",
       "      <td>3</td>\n",
       "      <td>2</td>\n",
       "      <td>0</td>\n",
       "      <td>2</td>\n",
       "      <td>2</td>\n",
       "      <td>0</td>\n",
       "      <td>0</td>\n",
       "      <td>0</td>\n",
       "      <td>9</td>\n",
       "    </tr>\n",
       "    <tr>\n",
       "      <th>4</th>\n",
       "      <td>2022-08-27 21:54:47</td>\n",
       "      <td>18.0</td>\n",
       "      <td>Spotify</td>\n",
       "      <td>4.0</td>\n",
       "      <td>Yes</td>\n",
       "      <td>No</td>\n",
       "      <td>No</td>\n",
       "      <td>R&amp;B</td>\n",
       "      <td>Yes</td>\n",
       "      <td>No</td>\n",
       "      <td>...</td>\n",
       "      <td>3</td>\n",
       "      <td>2</td>\n",
       "      <td>2</td>\n",
       "      <td>0</td>\n",
       "      <td>2</td>\n",
       "      <td>3</td>\n",
       "      <td>3</td>\n",
       "      <td>0</td>\n",
       "      <td>1</td>\n",
       "      <td>10</td>\n",
       "    </tr>\n",
       "  </tbody>\n",
       "</table>\n",
       "<p>5 rows × 58 columns</p>\n",
       "</div>"
      ],
      "text/plain": [
       "            Timestamp   Age Primary streaming service  Hours per day  \\\n",
       "0 2022-08-27 19:29:02  18.0                   Spotify            3.0   \n",
       "1 2022-08-27 19:57:31  63.0                   Pandora            1.5   \n",
       "2 2022-08-27 21:28:18  18.0                   Spotify            4.0   \n",
       "3 2022-08-27 21:40:40  61.0             YouTube Music            2.5   \n",
       "4 2022-08-27 21:54:47  18.0                   Spotify            4.0   \n",
       "\n",
       "  While working Instrumentalist Composer         Fav genre Exploratory  \\\n",
       "0           Yes             Yes      Yes             Latin         Yes   \n",
       "1           Yes              No       No              Rock         Yes   \n",
       "2            No              No       No  Video game music          No   \n",
       "3           Yes              No      Yes              Jazz         Yes   \n",
       "4           Yes              No       No               R&B         Yes   \n",
       "\n",
       "  Foreign languages  ...  Frequency_K_pop_numeric Frequency_Latin_numeric  \\\n",
       "0               Yes  ...                        3                       3   \n",
       "1                No  ...                        1                       2   \n",
       "2               Yes  ...                        3                       0   \n",
       "3               Yes  ...                        2                       3   \n",
       "4                No  ...                        3                       2   \n",
       "\n",
       "  Frequency_Lofi_numeric Frequency_Metal_numeric Frequency_Pop_numeric  \\\n",
       "0                      1                       0                     3   \n",
       "1                      1                       0                     2   \n",
       "2                      2                       2                     1   \n",
       "3                      2                       0                     2   \n",
       "4                      2                       0                     2   \n",
       "\n",
       "  Frequency_R&B_numeric Frequency_Rap_numeric Frequency_Rock_numeric  \\\n",
       "0                     2                     3                      0   \n",
       "1                     2                     1                      3   \n",
       "2                     0                     1                      1   \n",
       "3                     2                     0                      0   \n",
       "4                     3                     3                      0   \n",
       "\n",
       "  Frequency_Video_game_music_numeric Genre Diversity Score  \n",
       "0                                  2                    10  \n",
       "1                                  1                    13  \n",
       "2                                  3                    10  \n",
       "3                                  0                     9  \n",
       "4                                  1                    10  \n",
       "\n",
       "[5 rows x 58 columns]"
      ]
     },
     "execution_count": 3,
     "metadata": {},
     "output_type": "execute_result"
    }
   ],
   "source": [
    "mxmh = wac.clean_data(\"../data/raw/mxmh_survey_results.csv\")\n",
    "mxmh.head()"
   ]
  },
  {
   "cell_type": "code",
   "execution_count": 4,
   "id": "f946522d-f50f-470e-a0e9-f9b3664802af",
   "metadata": {},
   "outputs": [],
   "source": [
    "mxmh_scores = mxmh.melt(id_vars=[\"Timestamp\", \"Age\", \"Music effects\"], \n",
    "                     value_vars=[\"Anxiety\", \"Depression\", \"Insomnia\", \"OCD\"], \n",
    "                     var_name=\"Mental Health Condition\", \n",
    "                     value_name=\"Self-report Score\")\n",
    "\n",
    "music_effects_ordered = ['Improve', 'No effect', 'Worsen', 'No response']\n",
    "\n",
    "mxmh_scores[\"Music effects\"] = pd.Categorical(mxmh_scores[\"Music effects\"], \n",
    "                                              categories=music_effects_ordered, \n",
    "                                              ordered=True)\n",
    "\n",
    "music_effects_map = {\"Improve\": 1, \"No effect\": 2, \"Worsen\": 3, \"No response\":4}\n",
    "mxmh_scores[\"Music effects (ordered)\"] = mxmh_scores[\"Music effects\"].map(music_effects_map)"
   ]
  },
  {
   "cell_type": "markdown",
   "id": "d1ab95b8-e63c-454c-9271-bfac9172841e",
   "metadata": {
    "jp-MarkdownHeadingCollapsed": true
   },
   "source": [
    "## Aesthetic Settings"
   ]
  },
  {
   "cell_type": "code",
   "execution_count": 5,
   "id": "bf5db457-8e28-4055-94dc-56b5c0b0067d",
   "metadata": {},
   "outputs": [],
   "source": [
    "# === COLOR PALETTE === #\n",
    "okabe_ito_palette = [\n",
    "    \"#009E73\",  # Green\n",
    "    \"#0072B2\",  # Blue\n",
    "    \"#56B4E9\",  # Sky Blue\n",
    "    \"#F0E442\",  # Yellow\n",
    "    \"#E69F00\",  # Orange\n",
    "    \"#D55E00\",  # Vermillion\n",
    "    \"#CC79A7\",  # Pink\n",
    "    '#23338A',  # Dark Blue [colour blind safe addition]\n",
    "]\n",
    "\n",
    "### === Color and Order for Music Effects === ###\n",
    "music_effects_ordered = ['Improve', 'No effect', 'Worsen', 'No response']\n",
    "# music_effects_ordered = ['1', '2', '3', '4']\n",
    "# effect_colors = [\"mediumaquamarine\", \"khaki\", \"orange\", \"grey\"]\n",
    "effect_colors = [\"#009E73\", \"#F0E442\", \"#E69F00\", \"grey\"]\n",
    "effect_color_scale = alt.Scale(domain=music_effects_ordered, range=effect_colors)\n",
    "\n",
    "### === Color and Order for Mental Health === ###\n",
    "mental_health_ordered = ['Anxiety', 'Depression', 'Insomnia', 'OCD']\n",
    "health_colors = [\"#009E73\", \"#23338A\", \"#E69F00\", \"#F0E442\"]\n",
    "health_color_scale = alt.Scale(domain=mental_health_ordered, range=health_colors)"
   ]
  },
  {
   "cell_type": "code",
   "execution_count": 6,
   "id": "5c69b1b9-cf65-41a0-99fd-113ac2212863",
   "metadata": {},
   "outputs": [],
   "source": [
    "# === FONT SETTING ===\n",
    "font_choice = \"Segoe UI\"\n",
    "\n",
    "legend_configuration = {\"titleFontSize\": 15,\n",
    "    \"labelFontSize\": 15,\n",
    "    \"fillColor\": '#F5F5F5',\n",
    "    \"padding\": 10,\n",
    "    \"cornerRadius\": 10,\n",
    "    \"labelFont\": font_choice,\n",
    "    \"labelSeparation\": 5,\n",
    "    \"titleFont\": font_choice,\n",
    "    \"titleLimit\": 240\n",
    "}\n",
    "\n",
    "title_configuration = {\n",
    "    \"fontSize\": 25,\n",
    "    \"anchor\": \"middle\", \n",
    "    \"font\": font_choice,\n",
    "    \"subtitlePadding\": 10,\n",
    "    \"subtitleFont\": font_choice,\n",
    "    \"subtitleColor\": \"grey10\",\n",
    "    \"subtitleFontSize\": 17\n",
    "}\n",
    "\n",
    "axis_configuration = {\n",
    "    \"labelFont\": font_choice,\n",
    "    \"titleFont\": font_choice,\n",
    "    \"labelFontSize\": 15,\n",
    "    \"titleFontSize\": 18\n",
    "}\n",
    "\n",
    "header_configuration = {\n",
    "    \"labelFont\": font_choice,\n",
    "    \"titleFont\": font_choice,\n",
    "    \"labelFontSize\": 15,\n",
    "    \"titleFontSize\": 18\n",
    "}"
   ]
  },
  {
   "cell_type": "markdown",
   "id": "0da96caa-de3e-4538-8041-4d58791c0a25",
   "metadata": {
    "jp-MarkdownHeadingCollapsed": true
   },
   "source": [
    "## Question 1: What is the distribution of self-reported mental health scores based on opinions of music on mental health?"
   ]
  },
  {
   "cell_type": "code",
   "execution_count": 7,
   "id": "0645dc4c-b5bf-4a82-b867-e9f33c279f84",
   "metadata": {},
   "outputs": [
    {
     "data": {
      "application/vnd.vegalite.v5+json": {
       "$schema": "https://vega.github.io/schema/vega-lite/v5.20.1.json",
       "config": {
        "axis": {
         "labelFont": "Segoe UI",
         "labelFontSize": 15,
         "titleFont": "Segoe UI",
         "titleFontSize": 18
        },
        "header": {
         "labelFont": "Segoe UI",
         "labelFontSize": 15,
         "titleFont": "Segoe UI",
         "titleFontSize": 18
        },
        "legend": {
         "cornerRadius": 10,
         "fillColor": "#F5F5F5",
         "labelFont": "Segoe UI",
         "labelFontSize": 15,
         "labelSeparation": 5,
         "padding": 10,
         "titleFont": "Segoe UI",
         "titleFontSize": 15,
         "titleLimit": 240
        },
        "title": {
         "anchor": "middle",
         "font": "Segoe UI",
         "fontSize": 25,
         "subtitleColor": "grey10",
         "subtitleFont": "Segoe UI",
         "subtitleFontSize": 17,
         "subtitlePadding": 10
        },
        "view": {
         "continuousHeight": 300,
         "continuousWidth": 300
        }
       },
       "datasets": {
        "empty": [
         {}
        ]
       },
       "hconcat": [
        {
         "data": {
          "format": {
           "type": "json"
          },
          "url": "altairdata/altair-data-fdc35e18cd2c2d470bf244336dd88a7d.json"
         },
         "facet": {
          "row": {
           "field": "Mental Health Condition",
           "type": "nominal"
          }
         },
         "resolve": {
          "scale": {
           "y": "independent"
          }
         },
         "spec": {
          "height": 100,
          "layer": [
           {
            "encoding": {
             "color": {
              "condition": {
               "empty": true,
               "field": "Music effects",
               "legend": {
                "legendX": 465,
                "legendY": 0,
                "orient": "none"
               },
               "param": "param_1",
               "scale": {
                "domain": [
                 "Improve",
                 "No effect",
                 "Worsen",
                 "No response"
                ],
                "range": [
                 "#009E73",
                 "#F0E442",
                 "#E69F00",
                 "grey"
                ]
               },
               "title": "Music Effects on Mental Health",
               "type": "ordinal"
              },
              "value": "lightgrey"
             },
             "x": {
              "field": "Self-report Score",
              "title": "Self-reported Severity Score",
              "type": "quantitative"
             },
             "y": {
              "axis": {
               "grid": false,
               "labels": false,
               "ticks": true,
               "values": [
                0
               ]
              },
              "field": "density",
              "impute": null,
              "scale": {
               "nice": false,
               "zero": true
              },
              "stack": "center",
              "title": null,
              "type": "quantitative"
             }
            },
            "mark": {
             "interpolate": "monotone",
             "opacity": 0.9,
             "orient": "vertical",
             "tooltip": true,
             "type": "area"
            },
            "name": "view_1",
            "transform": [
             {
              "as": [
               "Self-report Score",
               "density"
              ],
              "density": "Self-report Score",
              "extent": [
               0,
               10
              ],
              "groupby": [
               "Mental Health Condition:N",
               "Music effects"
              ]
             }
            ]
           },
           {
            "encoding": {
             "opacity": {
              "condition": [
               {
                "param": "param_2",
                "value": 0.7
               }
              ],
              "value": 0
             },
             "x": {
              "field": "Self-report Score",
              "title": "Self-reported Severity Score",
              "type": "quantitative"
             }
            },
            "mark": {
             "color": "black",
             "opacity": 0.4,
             "size": 30,
             "type": "boxplot"
            }
           }
          ],
          "width": 450
         }
        },
        {
         "data": {
          "name": "empty"
         },
         "mark": {
          "align": "left",
          "baseline": "middle",
          "fontSize": 12,
          "fontStyle": "italic",
          "fontWeight": "lighter",
          "text": [
           "Click legend labels to",
           "filter by self-reported effects",
           " of music on mental health.",
           "",
           "Hold \"Shift\" while clicking",
           "to toggle multiple categories.",
           "",
           "Use checkbox below to ",
           "toggle boxplot view."
          ],
          "type": "text",
          "x": -100,
          "y": 200
         }
        }
       ],
       "params": [
        {
         "bind": "legend",
         "name": "param_1",
         "select": {
          "fields": [
           "Music effects"
          ],
          "type": "point"
         },
         "views": [
          "view_1"
         ]
        },
        {
         "bind": {
          "input": "checkbox",
          "name": "Show Boxplot: "
         },
         "name": "param_2"
        }
       ],
       "title": {
        "subtitle": [
         "A violin plot split by opinion on how music effects mental health"
        ],
        "text": [
         "What are the distributions of self-reported mental health scores?"
        ]
       }
      },
      "image/png": "[encoded data removed]",
      "text/plain": [
       "<VegaLite 5 object>\n",
       "\n",
       "If you see this message, it means the renderer has not been properly enabled\n",
       "for the frontend that you are using. For more information, see\n",
       "https://altair-viz.github.io/user_guide/display_frontends.html#troubleshooting\n"
      ]
     },
     "execution_count": 7,
     "metadata": {},
     "output_type": "execute_result"
    }
   ],
   "source": [
    "### WIDGETS ###\n",
    "selection = alt.selection_point(fields=[\"Music effects\"], bind=\"legend\", empty=True)\n",
    "\n",
    "bind_checkbox = alt.binding_checkbox(name=\"Show Boxplot: \")\n",
    "param_checkbox = alt.param(bind=bind_checkbox)\n",
    "\n",
    "### BOX PLOT ###\n",
    "boxplot = (\n",
    "    alt.Chart(mxmh_scores)\n",
    "    .mark_boxplot(color=\"black\", opacity=0.4, size=30)\n",
    "    .encode(\n",
    "        alt.X(\"Self-report Score:Q\", title=\"Self-reported Severity Score\"),\n",
    "        opacity=alt.when(param_checkbox).then(alt.value(0.7)).otherwise(alt.value(0)),\n",
    "    )\n",
    "    .add_params(param_checkbox)\n",
    "    .properties(width=450)\n",
    ")\n",
    "\n",
    "### VIOLIN PLOT ###\n",
    "violin = (\n",
    "    alt.Chart(mxmh_scores)\n",
    "    .transform_density(\n",
    "        \"Self-report Score\",\n",
    "        as_=[\"Self-report Score\", \"density\"],\n",
    "        extent=[0, 10],\n",
    "        groupby=[\"Mental Health Condition:N\", \"Music effects\"],\n",
    "    )\n",
    "    .mark_area(opacity=0.9, orient=\"vertical\", interpolate=\"monotone\", tooltip=True)\n",
    "    .encode(\n",
    "        x=alt.X(\"Self-report Score:Q\", title=\"Self-reported Severity Score\"),\n",
    "        y=alt.Y(\n",
    "            \"density:Q\",\n",
    "            stack=\"center\",\n",
    "            impute=None,\n",
    "            title=None,\n",
    "            scale=alt.Scale(\n",
    "                nice=False,\n",
    "                zero=True,\n",
    "            ),\n",
    "            axis=alt.Axis(labels=False, values=[0], grid=False, ticks=True),\n",
    "        ),\n",
    "        color=alt.condition(\n",
    "            selection,\n",
    "            alt.Color(\n",
    "                \"Music effects:O\",\n",
    "                title=\"Music Effects on Mental Health\",\n",
    "                scale=effect_color_scale,\n",
    "                legend=alt.Legend(orient='none',legendX=465, legendY=0)\n",
    "            ),\n",
    "            alt.value(\"lightgrey\"),\n",
    "        ),\n",
    "    )\n",
    "    .properties(width=450, height=100)\n",
    "    .add_params(selection)\n",
    ")\n",
    "\n",
    "### === NOTE === ###\n",
    "note = alt.Chart({'values': [{}]}).mark_text(\n",
    "    text=[\n",
    "        'Click legend labels to', 'filter by self-reported effects', ' of music on mental health.', '',\n",
    "        'Hold \"Shift\" while clicking', 'to toggle multiple categories.', '', \n",
    "        'Use checkbox below to ', 'toggle boxplot view.',\n",
    "    ],\n",
    "    align='left',\n",
    "    baseline='middle',\n",
    "    fontSize=12,\n",
    "    y=200,\n",
    "    x=-100,\n",
    "    fontWeight='lighter',\n",
    "    fontStyle= 'italic',\n",
    ")\n",
    "\n",
    "### FINAL CHART 1 ###\n",
    "chart1 = (\n",
    "    alt.layer(violin, boxplot)\n",
    "    .facet(row=alt.Row(\"Mental Health Condition\"))\n",
    "    .resolve_scale(y=alt.ResolveMode(\"independent\"))\n",
    "    # .properties(\n",
    "    #     title={\n",
    "    #         \"text\": [\n",
    "    #             \"What are the distributions of self-reported mental health scores?\",\n",
    "    #             # \"...\",\n",
    "    #         ],\n",
    "    #         \"subtitle\": [\n",
    "    #             \"a split violin plot\"\n",
    "    #         ],\n",
    "    #     }\n",
    "    # )\n",
    "    # .configure_legend(**legend_configuration)\n",
    "    # .configure_title(**title_configuration)\n",
    "    # .configure_axis(**axis_configuration)\n",
    "    # .configure_header(**header_configuration)\n",
    ")\n",
    "chart1\n",
    "\n",
    "final_chart1 = (alt.hconcat(chart1, note\n",
    ").properties(\n",
    "        title={\n",
    "            \"text\": [\n",
    "                \"What are the distributions of self-reported mental health scores?\",\n",
    "                # \"...\",\n",
    "            ],\n",
    "            \"subtitle\": [\n",
    "                \"A violin plot split by opinion on how music effects mental health\"\n",
    "            ],\n",
    "        }\n",
    "    )\n",
    "               ).configure_legend(**legend_configuration).configure_title(**title_configuration).configure_axis(**axis_configuration).configure_header(**header_configuration)\n",
    "\n",
    "final_chart1"
   ]
  },
  {
   "cell_type": "markdown",
   "id": "59e847ca-8cfb-4973-a719-5340c22eaaec",
   "metadata": {},
   "source": [
    "\n",
    "\n",
    "---\n",
    "\n",
    "\n"
   ]
  },
  {
   "cell_type": "markdown",
   "id": "34031816-d500-4d6a-996b-3617459dae49",
   "metadata": {},
   "source": [
    "**Summary of tasks:**\n",
    "\n",
    "This visualization was designed to get an overview of the **distribution** of the self-reported mental health scores, split by a self-reported score of whether music `Improves`, has `No effect`, or `Worsens` mental health (or they did not respond). Summarize the tasks it was designed to address and how/whether the visualizations you chose accomplish (or not accomplish) that task.\n"
   ]
  },
  {
   "cell_type": "markdown",
   "id": "c5e23931-0fdc-44a6-95dc-3f1dbb3bbd70",
   "metadata": {
    "jp-MarkdownHeadingCollapsed": true
   },
   "source": [
    "## Question 2: What are the response patterns for self-reported mental health?"
   ]
  },
  {
   "cell_type": "code",
   "execution_count": 8,
   "id": "e817dbcc-615e-4979-b044-d389f22d989d",
   "metadata": {},
   "outputs": [
    {
     "data": {
      "application/vnd.vegalite.v5+json": {
       "$schema": "https://vega.github.io/schema/vega-lite/v5.20.1.json",
       "config": {
        "axis": {
         "labelFont": "Segoe UI",
         "labelFontSize": 15,
         "titleFont": "Segoe UI",
         "titleFontSize": 18
        },
        "header": {
         "labelFont": "Segoe UI",
         "labelFontSize": 15,
         "titleFont": "Segoe UI",
         "titleFontSize": 18
        },
        "legend": {
         "cornerRadius": 10,
         "fillColor": "#F5F5F5",
         "labelFont": "Segoe UI",
         "labelFontSize": 15,
         "labelSeparation": 5,
         "padding": 10,
         "titleFont": "Segoe UI",
         "titleFontSize": 15,
         "titleLimit": 240
        },
        "title": {
         "anchor": "middle",
         "font": "Segoe UI",
         "fontSize": 25,
         "subtitleColor": "grey10",
         "subtitleFont": "Segoe UI",
         "subtitleFontSize": 17,
         "subtitlePadding": 10
        },
        "view": {
         "continuousHeight": 300,
         "continuousWidth": 300
        }
       },
       "datasets": {
        "empty": [
         {}
        ]
       },
       "params": [
        {
         "name": "param_3",
         "select": {
          "type": "interval"
         },
         "views": [
          "view_3",
          "view_2"
         ]
        },
        {
         "bind": "legend",
         "name": "param_4",
         "select": {
          "fields": [
           "Mental Health Condition"
          ],
          "type": "point"
         },
         "views": [
          "view_3",
          "view_2"
         ]
        }
       ],
       "resolve": {
        "scale": {
         "x": "shared"
        }
       },
       "title": {
        "subtitle": [
         "a multi-bar plot and dot-plot"
        ],
        "text": [
         "What are the response patterns for self-reported mental health?"
        ]
       },
       "vconcat": [
        {
         "data": {
          "format": {
           "type": "json"
          },
          "url": "altairdata/altair-data-fdc35e18cd2c2d470bf244336dd88a7d.json"
         },
         "encoding": {
          "color": {
           "condition": {
            "field": "Mental Health Condition",
            "legend": {
             "legendX": 820,
             "legendY": 0,
             "orient": "none"
            },
            "param": "param_3",
            "type": "nominal"
           },
           "value": "lightgray"
          },
          "opacity": {
           "condition": {
            "param": "param_4",
            "value": 1
           },
           "value": 0
          },
          "tooltip": [
           {
            "field": "Mental Health Condition",
            "type": "nominal"
           },
           {
            "field": "Self-report Score",
            "type": "ordinal"
           },
           {
            "aggregate": "count",
            "type": "quantitative"
           }
          ],
          "x": {
           "axis": {
            "labelAngle": 0,
            "tickMinStep": 0.5,
            "values": [
             0,
             1,
             2,
             3,
             4,
             5,
             6,
             7,
             8,
             9,
             10
            ]
           },
           "field": "Self-report Score",
           "title": null,
           "type": "ordinal"
          },
          "xOffset": {
           "field": "Mental Health Condition",
           "type": "nominal"
          },
          "y": {
           "aggregate": "count",
           "type": "quantitative"
          }
         },
         "height": 300,
         "mark": {
          "cornerRadius": 7,
          "type": "bar"
         },
         "name": "view_3",
         "width": 800
        },
        {
         "height": 240,
         "layer": [
          {
           "data": {
            "format": {
             "type": "json"
            },
            "url": "altairdata/altair-data-fdc35e18cd2c2d470bf244336dd88a7d.json"
           },
           "encoding": {
            "color": {
             "condition": {
              "field": "Mental Health Condition",
              "param": "param_3",
              "type": "nominal"
             },
             "value": "lightgray"
            },
            "opacity": {
             "condition": {
              "param": "param_4",
              "value": 1
             },
             "value": 0
            },
            "size": {
             "aggregate": "count",
             "legend": {
              "legendX": 820,
              "legendY": 150,
              "orient": "none"
             },
             "scale": {
              "rangeMax": 2500,
              "rangeMin": 100
             },
             "type": "quantitative"
            },
            "tooltip": [
             {
              "field": "Mental Health Condition",
              "type": "nominal"
             },
             {
              "field": "Self-report Score",
              "type": "quantitative"
             },
             {
              "aggregate": "count",
              "type": "quantitative"
             }
            ],
            "x": {
             "axis": {
              "tickMinStep": 0.5,
              "values": [
               0,
               1,
               2,
               3,
               4,
               5,
               6,
               7,
               8,
               9,
               10
              ]
             },
             "field": "Self-report Score",
             "scale": {
              "domain": [
               -0.4,
               10.4
              ]
             },
             "title": "Self-report Score",
             "type": "quantitative"
            },
            "y": {
             "field": "Mental Health Condition",
             "title": null,
             "type": "nominal"
            }
           },
           "mark": {
            "opacity": 0.8,
            "type": "circle"
           },
           "name": "view_2"
          },
          {
           "data": {
            "name": "empty"
           },
           "mark": {
            "align": "left",
            "baseline": "bottom",
            "fontSize": 12,
            "fontStyle": "italic",
            "fontWeight": "lighter",
            "text": [
             "Click legend labels ",
             "to filter by mental health",
             "categories.",
             "",
             "Hold \"Shift\" while clicking",
             "to toggle multiple",
             " categories.",
             "",
             "Brush either plot to ",
             "bi-directionally highlight."
            ],
            "type": "text",
            "x": 820,
            "y": 100
           }
          }
         ],
         "width": 800
        }
       ]
      },
      "image/png": "[encoded data removed]",
      "text/plain": [
       "<VegaLite 5 object>\n",
       "\n",
       "If you see this message, it means the renderer has not been properly enabled\n",
       "for the frontend that you are using. For more information, see\n",
       "https://altair-viz.github.io/user_guide/display_frontends.html#troubleshooting\n"
      ]
     },
     "metadata": {},
     "output_type": "display_data"
    }
   ],
   "source": [
    "### === Interactions === ###\n",
    "brush = alt.selection_interval()\n",
    "selection = alt.selection_point(fields=['Mental Health Condition'], bind='legend')\n",
    "\n",
    "\n",
    "### === Multi-bar Plot === ###\n",
    "multibar = alt.Chart(mxmh_scores).add_params(\n",
    "    brush, selection\n",
    ").mark_bar(cornerRadius=7).encode(\n",
    "    x=alt.X('Self-report Score:O', title=None).axis(labelAngle=0, tickMinStep=0.5, values=list(range(0, 11, 1))),\n",
    "    xOffset=\"Mental Health Condition:N\",\n",
    "    y='count():Q',\n",
    "    opacity = alt.condition(selection, alt.value(1), alt.value(0)), \n",
    "    color=alt.when(brush).then(alt.Color(\"Mental Health Condition:N\",\n",
    "                                         legend=alt.Legend(orient='none',\n",
    "                                                           legendX=820,\n",
    "                                                           legendY=0))\n",
    "                              ).otherwise(alt.value(\"lightgray\")),\n",
    "    tooltip=[\"Mental Health Condition\", 'Self-report Score:O', \"count()\"]\n",
    ").properties(width=800, height=300)\n",
    "\n",
    "### === DOT-PLOT === ###\n",
    "dotplot = alt.Chart(mxmh_scores).add_params(\n",
    "    brush, selection\n",
    ").mark_circle(opacity=0.8).encode(\n",
    "    x=alt.X('Self-report Score', title=\"Self-report Score\", scale=alt.Scale(domain=[-0.4, 10.4])).axis(tickMinStep=0.5, values=list(range(0, 11, 1))),\n",
    "    y=alt.Y('Mental Health Condition:N', title=None),\n",
    "    color=alt.when(brush).then(\"Mental Health Condition:N\").otherwise(alt.value(\"lightgray\")),\n",
    "    opacity = alt.condition(selection, alt.value(1), alt.value(0)), \n",
    "    size = alt.Size(\"count():Q\", scale=alt.Scale(rangeMin=100, rangeMax=2500),\n",
    "                    legend=alt.Legend(orient='none',\n",
    "                                      legendX=820,\n",
    "                                      legendY=150)\n",
    "                   ),\n",
    "    tooltip=[\"Mental Health Condition\", \"Self-report Score\", \"count()\"]\n",
    ").properties(width=800, height=240)\n",
    "\n",
    "### === NOTE === ###\n",
    "note = alt.Chart({'values': [{}]}).mark_text(\n",
    "    text=[\n",
    "        'Click legend labels ', 'to filter by mental health',\n",
    "        'categories.', '',\n",
    "        'Hold \"Shift\" while clicking', 'to toggle multiple', ' categories.', '', \n",
    "        'Brush either plot to ', 'bi-directionally highlight.',\n",
    "    ],\n",
    "    align='left',\n",
    "    baseline='bottom',\n",
    "    fontSize=12,\n",
    "    y=100,\n",
    "    x=820,\n",
    "    fontWeight='lighter',\n",
    "    fontStyle= 'italic',\n",
    ")\n",
    "\n",
    "### === DOT-PLOT & NOTE === ###\n",
    "dotplot_note = alt.layer(dotplot, note)\n",
    "\n",
    "### === FINAL CHART #2 ===###\n",
    "chart2 = alt.vconcat(multibar, dotplot_note\n",
    ").properties(\n",
    "    title={\n",
    "        \"text\": [\"What are the response patterns for self-reported mental health?\"],\n",
    "        \"subtitle\": [\"a multi-bar plot and dot-plot\"]\n",
    "    }\n",
    ").resolve_scale(\n",
    "    x='shared'\n",
    ").configure_legend(\n",
    "    **legend_configuration\n",
    ").configure_title(\n",
    "    **title_configuration\n",
    ").configure_axis(\n",
    "    **axis_configuration\n",
    ").configure_header(\n",
    "    **header_configuration\n",
    ")\n",
    "\n",
    "chart2.show()"
   ]
  },
  {
   "cell_type": "markdown",
   "id": "5fdd2e1b-5a6b-4ae0-821b-10f16e7e8c76",
   "metadata": {},
   "source": [
    "- For the visualization below, select the **Mental Health Condition** to look at a condition of interest.\n",
    "- Use `shift` + click to select multiple categories."
   ]
  },
  {
   "cell_type": "markdown",
   "id": "ec259c66-3120-4399-8dc4-3abc4ba1fa3e",
   "metadata": {},
   "source": [
    "For the visualization below, drag your cursor across the screen to highlight sections of the histogram and dot-chart."
   ]
  },
  {
   "cell_type": "markdown",
   "id": "b0795943-3925-4bcc-919a-412b1383c467",
   "metadata": {},
   "source": [
    "## Question 3: Can we group individuals into clusters based on their music preferences and mental health scores?"
   ]
  },
  {
   "cell_type": "code",
   "execution_count": 9,
   "id": "11eb383a-8ff7-4b0e-bed3-74698b3a35b2",
   "metadata": {},
   "outputs": [],
   "source": [
    "import numpy as np\n"
   ]
  },
  {
   "cell_type": "code",
   "execution_count": 10,
   "id": "3c4f9ef6-6c1c-4875-91e9-3848904dfa64",
   "metadata": {},
   "outputs": [],
   "source": [
    "mxmh_raw = pd.read_csv(\"../data/raw/mxmh_survey_results.csv\")\n",
    "\n",
    "mxmh_jess_q3 = mxmh_raw\n",
    "mxmh_jess_q3['Music effects'] = mxmh_jess_q3['Music effects'].fillna(\"No response\")\n",
    "\n",
    "bpmMax = mxmh_raw[\"BPM\"].nlargest(2).index\n",
    "bpmMin = mxmh_raw[\"BPM\"].nsmallest(5).index\n",
    "bpmOutliers = bpmMax.union(bpmMin)\n",
    "mxmh_jess_q3[\"BPM_cleaned\"] = mxmh_jess_q3[\"BPM\"]\n",
    "# mxmh_jess_q3.loc[bpmMax, \"BPM_cleaned\"] = 300  # Set top 2 highest values\n",
    "mxmh_jess_q3.loc[bpmMax, \"BPM_cleaned\"] = np.nan  # Set top 2 highest values to NAN\n",
    "# mxmh_jess_q3.loc[bpmMin, \"BPM_cleaned\"] = 15   # Set bottom 5 lowest values\n",
    "mxmh_jess_q3.loc[bpmMin, \"BPM_cleaned\"] = np.nan   # Set bottom 5 lowest values to NAN\n",
    "\n",
    "\n",
    "mxmh_jess_q3[[\"BPM_cleaned\"]].describe()\n",
    "\n",
    "# music_effects_map = {\"Improve\": 1, \"No effect\": 2, \"Worsen\": 3, \"No response\":4}\n",
    "# mxmh_jess_q3[\"Music effects\"] = mxmh_jess_q3[\"Music effects\"].map(music_effects_map)\n",
    "\n",
    "music_effects_ordered = ['Improve', 'No effect', 'Worsen', 'No response']\n",
    "mxmh_jess_q3[\"Music effects\"] = pd.Categorical(mxmh_jess_q3[\"Music effects\"], \n",
    "                                              categories=music_effects_ordered, \n",
    "                                              ordered=True)\n",
    "\n",
    "mxmh_jess_q3.reset_index(inplace=True)\n",
    "mxmh_jess_q3.rename(columns={'index': 'ID'}, inplace=True)\n",
    "# mxmh_jess_q3"
   ]
  },
  {
   "cell_type": "markdown",
   "id": "db8ce6ee-2b5b-4f7c-93fc-dfdcd1092f45",
   "metadata": {},
   "source": [
    "### 3.1"
   ]
  },
  {
   "cell_type": "code",
   "execution_count": 11,
   "id": "ed87369c-9f0d-47e5-aff3-c4f4911f4ff6",
   "metadata": {},
   "outputs": [],
   "source": [
    "label_data = pd.DataFrame({\n",
    "    \"value\": [\"Age\", \"BPM\", \"BPM_cleaned\", \"Hours per day\"],\n",
    "    \"label\": [\n",
    "        \"Age\", \n",
    "        \"BPM (with outliers)\", \n",
    "        \"BPM (no outliers)\", \n",
    "        \"Hours per day\"\n",
    "    ]\n",
    "})"
   ]
  },
  {
   "cell_type": "code",
   "execution_count": 18,
   "id": "5c58bae6-c799-424a-ae99-7464c89584e2",
   "metadata": {},
   "outputs": [
    {
     "data": {
      "application/vnd.vegalite.v5+json": {
       "$schema": "https://vega.github.io/schema/vega-lite/v5.20.1.json",
       "bounds": "flush",
       "config": {
        "axis": {
         "labelFont": "Segoe UI",
         "labelFontSize": 15,
         "titleFont": "Segoe UI",
         "titleFontSize": 18
        },
        "header": {
         "labelFont": "Segoe UI",
         "labelFontSize": 15,
         "titleFont": "Segoe UI",
         "titleFontSize": 18
        },
        "legend": {
         "cornerRadius": 10,
         "direction": "horizontal",
         "fillColor": "#F5F5F5",
         "labelFont": "Segoe UI",
         "labelFontSize": 15,
         "labelSeparation": 5,
         "legendX": 150,
         "legendY": -65,
         "orient": "none",
         "padding": 10,
         "titleFont": "Segoe UI",
         "titleFontSize": 15,
         "titleLimit": 240
        },
        "title": {
         "anchor": "middle",
         "font": "Segoe UI",
         "fontSize": 25,
         "subtitleColor": "grey10",
         "subtitleFont": "Segoe UI",
         "subtitleFontSize": 17,
         "subtitlePadding": 10
        },
        "view": {
         "continuousHeight": 300,
         "continuousWidth": 300
        }
       },
       "datasets": {
        "empty": [
         {}
        ]
       },
       "params": [
        {
         "bind": {
          "input": "select",
          "labels": [
           "Age",
           "BPM (with outliers)",
           "BPM (no outliers)",
           "Hours per day"
          ],
          "name": "Y-axis column: ",
          "options": [
           "Age",
           "BPM",
           "BPM_cleaned",
           "Hours per day"
          ]
         },
         "name": "param_15"
        },
        {
         "name": "param_17",
         "select": {
          "on": "mouseover",
          "type": "point"
         },
         "views": [
          "view_8",
          "view_9",
          "view_10",
          "view_11"
         ]
        },
        {
         "name": "param_18",
         "select": {
          "type": "interval"
         },
         "views": [
          "view_8",
          "view_9",
          "view_10",
          "view_11"
         ]
        },
        {
         "bind": "legend",
         "name": "param_19",
         "select": {
          "fields": [
           "Music effects"
          ],
          "type": "point"
         },
         "views": [
          "view_8",
          "view_9",
          "view_10",
          "view_11"
         ]
        }
       ],
       "spacing": 0,
       "title": {
        "subtitle": [
         "scatter plots of a selected y-variable vs mental health condition"
        ],
        "text": [
         "Can we identify clusters of biased responses based on mental health scores?"
        ]
       },
       "vconcat": [
        {
         "bounds": "flush",
         "hconcat": [
          {
           "data": {
            "format": {
             "type": "json"
            },
            "url": "altairdata/altair-data-4d71315eb109b940f6fcbe65639b3216.json"
           },
           "encoding": {
            "text": {
             "field": "custom_label",
             "type": "nominal"
            }
           },
           "height": 250,
           "mark": {
            "align": "center",
            "angle": 270,
            "baseline": "bottom",
            "font": "Segoe UI",
            "fontSize": 15,
            "fontWeight": "bold",
            "type": "text"
           },
           "transform": [
            {
             "filter": "datum.value === param_15"
            },
            {
             "as": "custom_label",
             "calculate": "datum.label"
            }
           ],
           "width": 130
          },
          {
           "data": {
            "format": {
             "type": "json"
            },
            "url": "altairdata/altair-data-035a26baa05bbdd2e01d556cb9b08970.json"
           },
           "encoding": {
            "color": {
             "condition": {
              "field": "Music effects",
              "param": "param_18",
              "scale": {
               "domain": [
                "Improve",
                "No effect",
                "Worsen",
                "No response"
               ],
               "range": [
                "#009E73",
                "#F0E442",
                "#E69F00",
                "grey"
               ]
              },
              "sort": [
               "Improve",
               "No effect",
               "Worsen",
               "No response"
              ],
              "title": "Music effects on mental health",
              "type": "nominal"
             },
             "value": "lightgray"
            },
            "size": {
             "condition": [
              {
               "empty": false,
               "param": "param_17",
               "value": 800
              }
             ]
            },
            "tooltip": [
             {
              "field": "ID",
              "type": "quantitative"
             },
             {
              "field": "Age",
              "type": "quantitative"
             },
             {
              "field": "Anxiety",
              "type": "quantitative"
             },
             {
              "field": "Depression",
              "type": "quantitative"
             },
             {
              "field": "Insomnia",
              "type": "quantitative"
             },
             {
              "field": "OCD",
              "type": "quantitative"
             },
             {
              "field": "Music effects",
              "type": "ordinal"
             }
            ],
            "x": {
             "field": "Anxiety",
             "scale": {
              "domain": [
               -0.5,
               10.5
              ]
             },
             "type": "quantitative"
            },
            "y": {
             "field": "y",
             "title": null,
             "type": "quantitative"
            }
           },
           "height": 250,
           "mark": {
            "opacity": 0.7,
            "type": "circle"
           },
           "name": "view_8",
           "transform": [
            {
             "as": "y",
             "calculate": "datum[param_15]"
            },
            {
             "filter": {
              "param": "param_19"
             }
            }
           ],
           "width": 250
          },
          {
           "data": {
            "format": {
             "type": "json"
            },
            "url": "altairdata/altair-data-035a26baa05bbdd2e01d556cb9b08970.json"
           },
           "encoding": {
            "color": {
             "condition": {
              "field": "Music effects",
              "param": "param_18",
              "scale": {
               "domain": [
                "Improve",
                "No effect",
                "Worsen",
                "No response"
               ],
               "range": [
                "#009E73",
                "#F0E442",
                "#E69F00",
                "grey"
               ]
              },
              "sort": [
               "Improve",
               "No effect",
               "Worsen",
               "No response"
              ],
              "title": "Music effects on mental health",
              "type": "nominal"
             },
             "value": "lightgray"
            },
            "size": {
             "condition": [
              {
               "empty": false,
               "param": "param_17",
               "value": 800
              }
             ]
            },
            "tooltip": [
             {
              "field": "ID",
              "type": "quantitative"
             },
             {
              "field": "Age",
              "type": "quantitative"
             },
             {
              "field": "Anxiety",
              "type": "quantitative"
             },
             {
              "field": "Depression",
              "type": "quantitative"
             },
             {
              "field": "Insomnia",
              "type": "quantitative"
             },
             {
              "field": "OCD",
              "type": "quantitative"
             },
             {
              "field": "Music effects",
              "type": "ordinal"
             }
            ],
            "x": {
             "field": "Depression",
             "scale": {
              "domain": [
               -0.5,
               10.5
              ]
             },
             "type": "quantitative"
            },
            "y": {
             "axis": {
              "labels": false,
              "ticks": false,
              "title": null
             },
             "field": "y",
             "type": "quantitative"
            }
           },
           "height": 250,
           "mark": {
            "opacity": 0.7,
            "type": "circle"
           },
           "name": "view_9",
           "transform": [
            {
             "as": "y",
             "calculate": "datum[param_15]"
            },
            {
             "filter": {
              "param": "param_19"
             }
            }
           ],
           "width": 250
          },
          {
           "data": {
            "format": {
             "type": "json"
            },
            "url": "altairdata/altair-data-035a26baa05bbdd2e01d556cb9b08970.json"
           },
           "encoding": {
            "color": {
             "condition": {
              "field": "Music effects",
              "param": "param_18",
              "scale": {
               "domain": [
                "Improve",
                "No effect",
                "Worsen",
                "No response"
               ],
               "range": [
                "#009E73",
                "#F0E442",
                "#E69F00",
                "grey"
               ]
              },
              "sort": [
               "Improve",
               "No effect",
               "Worsen",
               "No response"
              ],
              "title": "Music effects on mental health",
              "type": "nominal"
             },
             "value": "lightgray"
            },
            "size": {
             "condition": [
              {
               "empty": false,
               "param": "param_17",
               "value": 800
              }
             ]
            },
            "tooltip": [
             {
              "field": "ID",
              "type": "quantitative"
             },
             {
              "field": "Age",
              "type": "quantitative"
             },
             {
              "field": "Anxiety",
              "type": "quantitative"
             },
             {
              "field": "Depression",
              "type": "quantitative"
             },
             {
              "field": "Insomnia",
              "type": "quantitative"
             },
             {
              "field": "OCD",
              "type": "quantitative"
             },
             {
              "field": "Music effects",
              "type": "ordinal"
             }
            ],
            "x": {
             "field": "Insomnia",
             "scale": {
              "domain": [
               -0.5,
               10.5
              ]
             },
             "type": "quantitative"
            },
            "y": {
             "axis": {
              "labels": false,
              "ticks": false,
              "title": null
             },
             "field": "y",
             "type": "quantitative"
            }
           },
           "height": 250,
           "mark": {
            "opacity": 0.7,
            "type": "circle"
           },
           "name": "view_10",
           "transform": [
            {
             "as": "y",
             "calculate": "datum[param_15]"
            },
            {
             "filter": {
              "param": "param_19"
             }
            }
           ],
           "width": 250
          },
          {
           "data": {
            "format": {
             "type": "json"
            },
            "url": "altairdata/altair-data-035a26baa05bbdd2e01d556cb9b08970.json"
           },
           "encoding": {
            "color": {
             "condition": {
              "field": "Music effects",
              "param": "param_18",
              "scale": {
               "domain": [
                "Improve",
                "No effect",
                "Worsen",
                "No response"
               ],
               "range": [
                "#009E73",
                "#F0E442",
                "#E69F00",
                "grey"
               ]
              },
              "sort": [
               "Improve",
               "No effect",
               "Worsen",
               "No response"
              ],
              "title": "Music effects on mental health",
              "type": "nominal"
             },
             "value": "lightgray"
            },
            "size": {
             "condition": [
              {
               "empty": false,
               "param": "param_17",
               "value": 800
              }
             ]
            },
            "tooltip": [
             {
              "field": "ID",
              "type": "quantitative"
             },
             {
              "field": "Age",
              "type": "quantitative"
             },
             {
              "field": "Anxiety",
              "type": "quantitative"
             },
             {
              "field": "Depression",
              "type": "quantitative"
             },
             {
              "field": "Insomnia",
              "type": "quantitative"
             },
             {
              "field": "OCD",
              "type": "quantitative"
             },
             {
              "field": "Music effects",
              "type": "ordinal"
             }
            ],
            "x": {
             "field": "OCD",
             "scale": {
              "domain": [
               -0.5,
               10.5
              ]
             },
             "type": "quantitative"
            },
            "y": {
             "axis": {
              "labels": false,
              "ticks": false,
              "title": null
             },
             "field": "y",
             "type": "quantitative"
            }
           },
           "height": 250,
           "mark": {
            "opacity": 0.7,
            "type": "circle"
           },
           "name": "view_11",
           "transform": [
            {
             "as": "y",
             "calculate": "datum[param_15]"
            },
            {
             "filter": {
              "param": "param_19"
             }
            }
           ],
           "width": 250
          }
         ]
        },
        {
         "data": {
          "name": "empty"
         },
         "height": 50,
         "mark": {
          "align": "right",
          "baseline": "bottom",
          "dx": 1170,
          "dy": -60,
          "fontSize": 12,
          "fontStyle": "italic",
          "fontWeight": "lighter",
          "text": [
           "Click legend labels to filter by self-reported effects of music on mental health.",
           "Hold `Shift` while clicking to toggle multiple categories.",
           "Use dropdown to select the y-category.",
           "  "
          ],
          "type": "text"
         },
         "width": 80
        },
        {
         "data": {
          "name": "empty"
         },
         "height": 50,
         "mark": {
          "align": "right",
          "baseline": "bottom",
          "dx": 1170,
          "dy": 250,
          "fontSize": 12,
          "fontStyle": "italic",
          "fontWeight": "lighter",
          "text": [
           "BPM = Beats per minute of favourite music genre",
           "Hours per day = Hours per day listening to music"
          ],
          "type": "text"
         },
         "width": 80
        }
       ]
      },
      "image/png": "[encoded data removed]",
      "text/plain": [
       "<VegaLite 5 object>\n",
       "\n",
       "If you see this message, it means the renderer has not been properly enabled\n",
       "for the frontend that you are using. For more information, see\n",
       "https://altair-viz.github.io/user_guide/display_frontends.html#troubleshooting\n"
      ]
     },
     "execution_count": 18,
     "metadata": {},
     "output_type": "execute_result"
    }
   ],
   "source": [
    "### === WIDGETS & INTERACTIONS === ###\n",
    "\n",
    "# === Y COLUMN DROP-DOWN ===\n",
    "dropdown_y = alt.binding_select(\n",
    "    options=[\"Age\", \"BPM\", \"BPM_cleaned\", \"Hours per day\"], \n",
    "    labels=[\n",
    "        \"Age\", \n",
    "        \"BPM (with outliers)\", \n",
    "        \"BPM (no outliers)\", \n",
    "        \"Hours per day\"],\n",
    "    name=\"Y-axis column: \"\n",
    ")\n",
    "ycol_param = alt.param(bind=dropdown_y)\n",
    "# y_axis_selection = alt.binding_select(options=['Age', 'BPM'], name='Y-axis column: ')\n",
    "# y_axis_variable = alt.param(bind=y_axis_selection, value='Age')\n",
    "\n",
    "# === INTERACTIONS ===\n",
    "click = alt.selection_point(empty=False)\n",
    "hover = alt.selection_point(on=\"mouseover\", empty=False)\n",
    "brush = alt.selection_interval()\n",
    "\n",
    "# === filter music effects column ===\n",
    "selection_me = alt.selection_point(fields=[\"Music effects\"], bind=\"legend\")\n",
    "\n",
    "### BASE CHART ###\n",
    "chart3 = (\n",
    "    alt.Chart(mxmh_jess_q3)\n",
    "    .mark_circle(opacity=0.7)\n",
    "    .encode(\n",
    "        x=alt.X(scale=alt.Scale(domain=[-0.5, 10.5])),\n",
    "        y=alt.Y(\"y:Q\", title=None),\n",
    "        color=alt.when(brush)\n",
    "        .then(alt.Color(\"Music effects:N\", \n",
    "                        title=\"Music effects on mental health\", \n",
    "                        scale=effect_color_scale, \n",
    "                        sort=['Improve', 'No effect', 'Worsen', 'No response']))\n",
    "        .otherwise(alt.value(\"lightgray\")),\n",
    "        tooltip=alt.Tooltip(\n",
    "            [\"ID\", \"Age\", \"Anxiety\", \"Depression\", \"Insomnia\", \"OCD\", \"Music effects\"]\n",
    "        ),\n",
    "        size=alt.when(hover).then(alt.value(800)),\n",
    "        # opacity=alt.when(selection_me).then(alt.value(0.7)).otherwise(alt.value(0.01)),\n",
    "    )\n",
    "    # .properties(width=250, height=250)\n",
    "    .transform_calculate(\n",
    "        y=f\"datum[{ycol_param.name}]\",\n",
    "    )\n",
    "    .transform_filter(\n",
    "        selection_me\n",
    "    )\n",
    "    .add_params(hover, brush, ycol_param, selection_me)\n",
    ")\n",
    "\n",
    "### === LEFT AXIS CHANGES WITH DROPDOWN === ###\n",
    "text = (\n",
    "    alt.Chart(label_data)\n",
    "    .mark_text(\n",
    "        align=\"center\",\n",
    "        angle=270,\n",
    "        baseline='bottom',  # bottom, middle, top\n",
    "        fontSize=15,\n",
    "        fontWeight=\"bold\",\n",
    "        font=font_choice\n",
    "    )\n",
    "    .transform_filter(f\"datum.value === {ycol_param.name}\")\n",
    "    .transform_calculate(\n",
    "        custom_label='datum.label'\n",
    "    )\n",
    "    .encode(\n",
    "        text=\"custom_label:N\"\n",
    "    )\n",
    "    .add_params(ycol_param)\n",
    "    .properties(\n",
    "        width=130,\n",
    "        height=250\n",
    "    )\n",
    ")\n",
    "\n",
    "### ANXIETY CHART ###\n",
    "chart3_anx = chart3.encode(\n",
    "    x=alt.X(\"Anxiety:Q\", scale=alt.Scale(domain=[-0.5, 10.5])),\n",
    "    y=alt.Y(\"y:Q\", title=None)\n",
    ").properties(width=250, height=250)\n",
    "### DEPRESSION CHART ###\n",
    "chart3_dep = chart3.encode(\n",
    "    x=alt.X(\"Depression:Q\", scale=alt.Scale(domain=[-0.5, 10.5])),\n",
    "    y=alt.Y(\"y:Q\", axis=alt.Axis(labels=False, ticks=False, title=None))\n",
    ").properties(width=250, height=250)\n",
    "### INSOMNIA CHART ###\n",
    "chart3_ins = chart3.encode(\n",
    "    x=alt.X(\"Insomnia:Q\", scale=alt.Scale(domain=[-0.5, 10.5])),\n",
    "    y=alt.Y(\"y:Q\", axis=alt.Axis(labels=False, ticks=False, title=None))\n",
    ").properties(width=250, height=250)\n",
    "### OCD CHART ###\n",
    "chart3_ocd = chart3.encode(\n",
    "    x=alt.X(\"OCD:Q\", scale=alt.Scale(domain=[-0.5, 10.5])),\n",
    "    y=alt.Y(\"y:Q\", axis=alt.Axis(labels=False, ticks=False, title=None))\n",
    ").properties(width=250, height=250)\n",
    "\n",
    "\n",
    "### === NOTE === ###\n",
    "note = alt.Chart({\"values\": [{}]}).mark_text(\n",
    "    text=[\n",
    "        \"Click legend labels to filter by self-reported effects of music on mental health.\",\n",
    "        \"Hold `Shift` while clicking to toggle multiple categories.\",\n",
    "        \"Use dropdown to select the y-category.\",\n",
    "        \"  \",\n",
    "    ],\n",
    "    align=\"right\",\n",
    "    baseline=\"bottom\", # bottom, middle, top\n",
    "    fontSize=12,\n",
    "    fontWeight=\"lighter\",\n",
    "    fontStyle=\"italic\",\n",
    "    dx=1170,\n",
    "    dy=-60\n",
    ").properties(\n",
    "    width=80,\n",
    "    height=50\n",
    ")\n",
    "\n",
    "### === BPM NOTE === ###\n",
    "note_bpm = alt.Chart({\"values\": [{}]}).mark_text(\n",
    "    text=[\n",
    "        \"BPM = Beats per minute of favourite music genre\",\n",
    "        \"Hours per day = Hours per day listening to music\",\n",
    "    ],\n",
    "    align=\"right\",\n",
    "    baseline=\"bottom\", # bottom, middle, top\n",
    "    fontSize=12,\n",
    "    fontWeight=\"lighter\",\n",
    "    fontStyle=\"italic\",\n",
    "    dx=1170,\n",
    "    dy=250\n",
    ").properties(\n",
    "    width=80,\n",
    "    height=50\n",
    ")\n",
    "\n",
    "### FINAL VIZ ###\n",
    "# chart3_all =  \n",
    "\n",
    "chart3_final = (\n",
    "    alt.vconcat(\n",
    "        alt.hconcat(text, chart3_anx, chart3_dep, chart3_ins, chart3_ocd).properties(\n",
    "            bounds=\"flush\"\n",
    "        ),\n",
    "        note,\n",
    "        note_bpm,\n",
    "    )\n",
    "    .properties(bounds=\"flush\")\n",
    "    # .resolve_scale(x=\"shared\", y=\"shared\")\n",
    "    .configure_legend(\n",
    "        direction=\"horizontal\",\n",
    "        orient=\"none\",\n",
    "        legendX=150,\n",
    "        legendY=-65,\n",
    "        **legend_configuration,\n",
    "    )\n",
    "    .configure_title(**title_configuration)\n",
    "    .configure_axis(**axis_configuration)\n",
    "    .configure_header(**header_configuration)\n",
    ").properties(\n",
    "    title={\n",
    "        \"text\": [\"Can we identify clusters of biased responses based on mental health scores?\"],\n",
    "        \"subtitle\": [\n",
    "            \"scatter plots of a selected y-variable vs mental health condition\"\n",
    "        ],\n",
    "    },\n",
    "    spacing=0,\n",
    ")\n",
    "chart3_final"
   ]
  },
  {
   "cell_type": "code",
   "execution_count": null,
   "id": "f034a528-1028-4368-ada3-34b46b3dd623",
   "metadata": {},
   "outputs": [],
   "source": []
  },
  {
   "cell_type": "markdown",
   "id": "7779f04b-0ec2-4bed-a35a-8b10e98f8cd8",
   "metadata": {},
   "source": [
    "# Dashboard"
   ]
  },
  {
   "cell_type": "code",
   "execution_count": 19,
   "id": "f3d97168-e025-4342-87e6-1c99148e39c0",
   "metadata": {},
   "outputs": [],
   "source": [
    "final_chart1.save('jessica M4/jess_chart1.html')\n",
    "chart2.save('jessica M4/jess_chart2.html')\n",
    "chart3_final.save('jessica M4/jess_chart3.html')"
   ]
  },
  {
   "cell_type": "code",
   "execution_count": 14,
   "id": "43dde92b-2c1a-40d9-a2fd-c2baa80efaea",
   "metadata": {},
   "outputs": [],
   "source": [
    "# pip install streamlit"
   ]
  },
  {
   "cell_type": "code",
   "execution_count": 15,
   "id": "1e121929-2b8d-445f-acee-6751dc3a4d9e",
   "metadata": {},
   "outputs": [],
   "source": [
    "# import streamlit as st\n",
    "# import altair as alt\n",
    "# import pandas as pd\n",
    "\n",
    "# # Load or generate your charts\n",
    "# from final_chart1 import final_chart1\n",
    "# from chart2 import chart2\n",
    "# from chart3_final import chart3_final\n",
    "\n",
    "# st.title(\"🎵 Music & Mental Health Dashboard\")\n",
    "\n",
    "# st.altair_chart(final_chart1, use_container_width=True)\n",
    "# st.altair_chart(chart2, use_container_width=True)\n",
    "# st.altair_chart(chart3_final, use_container_width=True)\n"
   ]
  }
 ],
 "metadata": {
  "kernelspec": {
   "display_name": "Python 3 (ipykernel)",
   "language": "python",
   "name": "python3"
  },
  "language_info": {
   "codemirror_mode": {
    "name": "ipython",
    "version": 3
   },
   "file_extension": ".py",
   "mimetype": "text/x-python",
   "name": "python",
   "nbconvert_exporter": "python",
   "pygments_lexer": "ipython3",
   "version": "3.12.8"
  }
 },
 "nbformat": 4,
 "nbformat_minor": 5
}
