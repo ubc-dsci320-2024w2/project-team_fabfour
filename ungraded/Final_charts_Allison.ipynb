{
 "cells": [
  {
   "cell_type": "code",
   "execution_count": 1,
   "id": "09fbbfc9-6cc1-4c6a-b9a6-87c8ff4f9298",
   "metadata": {},
   "outputs": [
    {
     "data": {
      "text/plain": [
       "RendererRegistry.enable('jupyterlab')"
      ]
     },
     "execution_count": 1,
     "metadata": {},
     "output_type": "execute_result"
    }
   ],
   "source": [
    "import sys\n",
    "import os\n",
    "import altair as alt\n",
    "import pandas as pd\n",
    "from toolz.curried import pipe\n",
    "\n",
    "# # Create a new data transformer that stores the files in a directory\n",
    "def json_dir(data, data_dir='altairdata'):\n",
    "    os.makedirs(data_dir, exist_ok=True)\n",
    "    return pipe(data, alt.to_json(filename=data_dir + '/{prefix}-{hash}.{extension}') )\n",
    "\n",
    "# # Register and enable the new transformer\n",
    "alt.data_transformers.register('json_dir', json_dir)\n",
    "alt.data_transformers.enable('json_dir')\n",
    "\n",
    "sys.path.append('..')\n",
    "from scripts import wrangle_and_clean as wac\n",
    "\n",
    "# Handle large data sets (default shows only 5000)\n",
    "# See here: https://altair-viz.github.io/user_guide/data_transformers.html\n",
    "alt.data_transformers.disable_max_rows()\n",
    "\n",
    "alt.renderers.enable('jupyterlab')\n"
   ]
  },
  {
   "cell_type": "code",
   "execution_count": 2,
   "id": "01d5e331-2625-4965-9675-db6030223b0e",
   "metadata": {},
   "outputs": [],
   "source": [
    "mxmh = wac.clean_data(\"../data/raw/mxmh_survey_results.csv\")"
   ]
  },
  {
   "cell_type": "code",
   "execution_count": 3,
   "id": "f8c4ed76-7b7d-41a8-b061-9714dd3595e5",
   "metadata": {},
   "outputs": [],
   "source": [
    "# === COLOR PALETTE ===\n",
    "okabe_ito_palette = [\n",
    "    \"#009E73\",  # Green\n",
    "    \"#0072B2\",  # Blue\n",
    "    \"#56B4E9\",  # Sky Blue\n",
    "    \"#F0E442\",  # Yellow\n",
    "    \"#E69F00\",  # Orange\n",
    "    \"#D55E00\",  # Vermillion\n",
    "    \"#CC79A7\",  # Pink\n",
    "    '#23338A',  # Dark Blue [colour blind safe addition]\n",
    "]\n",
    "# === FONT SETTING ===\n",
    "font_choice = \"Segoe UI\"\n",
    "\n",
    "legend_configuration = {\"titleFontSize\": 15,\n",
    "    \"labelFontSize\": 13,\n",
    "    \"fillColor\": '#F5F5F5',\n",
    "    \"padding\": 10,\n",
    "    \"cornerRadius\": 10,\n",
    "    \"labelFont\": font_choice,\n",
    "    \"titleFont\": font_choice\n",
    "}\n",
    "\n",
    "title_configuration = {\n",
    "    \"offset\": 30,\n",
    "    \"fontSize\": 25,\n",
    "    \"subtitleFontSize\": 15,\n",
    "    \"anchor\": \"middle\", \n",
    "    \"font\": font_choice\n",
    "}\n",
    "\n",
    "axis_configuration = {\n",
    "    \"labelFont\": font_choice,\n",
    "    \"titleFont\": font_choice,\n",
    "    \"labelFontSize\": 15,\n",
    "    \"titleFontSize\": 20\n",
    "}"
   ]
  },
  {
   "cell_type": "markdown",
   "id": "9edddf99-d750-4bf3-9eab-6851aeac4b63",
   "metadata": {},
   "source": [
    "## Question 1:"
   ]
  },
  {
   "cell_type": "code",
   "execution_count": 4,
   "id": "2745f1a0-e702-4561-b1c1-a23fc25100f5",
   "metadata": {},
   "outputs": [],
   "source": [
    "mxmh = wac.clean_data(\"../data/raw/mxmh_survey_results.csv\")\n",
    "mxmh = mxmh.rename(columns={\"Fav genre\": \"Fav_genre\"})\n",
    "mxmh['Fav_genre'] = mxmh['Fav_genre'].replace({\n",
    "    'Video game music': 'Video Game'\n",
    "})"
   ]
  },
  {
   "cell_type": "code",
   "execution_count": 5,
   "id": "4edc5b35-7f1c-4609-92e5-79307f27d484",
   "metadata": {},
   "outputs": [],
   "source": [
    "# === DATA PREP ===\n",
    "genre_stats = mxmh.groupby('Fav_genre', as_index=False).agg(\n",
    "    avg_age=('Age', 'mean'),\n",
    "    count=('Age', 'count'),\n",
    "    avg_anxiety=('Anxiety', 'mean'),\n",
    "    avg_depression=('Depression', 'mean'),\n",
    "    avg_insomnia=('Insomnia', 'mean'),\n",
    "    avg_ocd=('OCD', 'mean'),\n",
    ")\n",
    "max_y = mxmh.groupby(\"Age_Grouped\")[\"Fav_genre\"].count().max()\n",
    "max_y = min(max_y, 100)\n",
    "x_range = [10, 70]\n",
    "domain_list_ordered = ['Gospel', 'Rock', 'Classical', 'Folk', 'Jazz', 'Country', \n",
    "                       'Metal', 'R&B', 'Hip hop', 'Pop', 'EDM', 'Lofi', 'Rap', \n",
    "                       'Video Game', 'K pop', 'Latin']\n",
    "# === COLOUR ===\n",
    "color_range = okabe_ito_palette * len(genre_stats)\n",
    "color_scale = alt.Scale(domain=domain_list_ordered, range=color_range)\n",
    "\n",
    "# === COMBINED INTERACTION ===\n",
    "combined_selection = alt.selection_point(\n",
    "    fields=['Fav_genre'],\n",
    "    bind=alt.binding_radio(\n",
    "        options=domain_list_ordered,\n",
    "        name='Select Genre: '\n",
    "    ),\n",
    "    nearest=True,\n",
    "    on='click', \n",
    "    empty='none',\n",
    "    value='Gospel'\n",
    ")\n",
    "\n",
    "# === SCATTER ===\n",
    "avg_age_chart = alt.Chart(genre_stats).mark_circle(\n",
    "    size=200,\n",
    "    stroke='black',\n",
    "    strokeWidth=0.5\n",
    ").encode(\n",
    "    y=alt.Y('Fav_genre:N', title=\"Favourite Music Genre\", sort='-x'),\n",
    "    x=alt.X('avg_age:Q', title=\"Average Age\", scale=alt.Scale(domain=[10, 65])),\n",
    "    color=alt.condition(combined_selection, alt.Color('Fav_genre:N', scale=color_scale, legend=None), alt.value('lightgray')),\n",
    "    tooltip=[\n",
    "        alt.Tooltip('avg_age:Q', title='Average Age', format=\".2f\"),\n",
    "        alt.Tooltip('count:Q', title='Number of Respondents')],\n",
    "    size=alt.Size('count:Q', title=\"Count\"),\n",
    ").add_params(\n",
    "    combined_selection\n",
    ")\n",
    "\n",
    "# === SCATTER LABELS ===\n",
    "genre_labels = alt.Chart(genre_stats).mark_text(\n",
    "    align='left',\n",
    "    baseline='middle',\n",
    "    fontWeight='bold',\n",
    "    fontSize=15,\n",
    "    dx=15  \n",
    ").encode(\n",
    "    y=alt.Y('Fav_genre:N', sort='-x', axis=alt.Axis(labels=False, ticks=True, domain=True)),\n",
    "    x=alt.X('avg_age:Q'),\n",
    "    text=alt.Text('Fav_genre:N'),\n",
    "    color=alt.condition(combined_selection, alt.value('black'), alt.value('lightgray'))\n",
    ")\n",
    "\n",
    "# === AVERAGE AGE RULE LINE ===\n",
    "overall_avg_age = mxmh['Age'].mean()\n",
    "avg_age_line = alt.Chart(pd.DataFrame({'x': [overall_avg_age]})).mark_rule(\n",
    "    color='red',\n",
    "    strokeWidth=2, \n",
    "    opacity=0.4\n",
    ").encode(\n",
    "    x='x:Q'\n",
    ").properties(\n",
    "    width=500,\n",
    "    height=400\n",
    ")\n",
    "\n",
    "# === SCATTER TITLE ===\n",
    "scatter_title = alt.Chart({'values': [{}]}).mark_text(\n",
    "    text='Average Age for Self-Reported Favourite Genre',\n",
    "    align='center',\n",
    "    fontSize=20,\n",
    "    dy=-250,\n",
    "    fontWeight='bold',\n",
    ").properties(\n",
    "    width=500,\n",
    "    height=400\n",
    ")\n",
    "\n",
    "# === INFO TEXT ===\n",
    "help_text = alt.Chart({'values': [{}]}).mark_text(\n",
    "    text='Overall Average Age',\n",
    "    color=\"red\",\n",
    "    align='center',\n",
    "    baseline='bottom',\n",
    "    fontSize=12,\n",
    "    dy=-200,\n",
    "    dx=-50,\n",
    "    fontWeight='lighter',\n",
    "    fontStyle= 'italic'\n",
    ").properties(\n",
    "    width=500,\n",
    "    height=400\n",
    ")\n",
    "\n",
    "# === COMBINED SCATTER ===\n",
    "scatter_plot_with_line = alt.layer(\n",
    "    scatter_title,\n",
    "    avg_age_line,\n",
    "    avg_age_chart,\n",
    "    genre_labels,\n",
    "    help_text\n",
    ").properties(\n",
    "    width=500,\n",
    "    height=400,\n",
    "    title=\"\"\n",
    ")\n",
    "\n",
    "# === HISTOGRAM ===\n",
    "age_hist = alt.Chart(mxmh).mark_bar(\n",
    "    cornerRadiusEnd=3,\n",
    "    stroke='black'\n",
    ").encode(\n",
    "    alt.X('Age_Grouped:Q', bin=alt.Bin(step=5), title=\"Grouped Ages\", scale=alt.Scale(domain=x_range)),\n",
    "    alt.Y('count()', title=\"Count\", scale=alt.Scale(domain=[0, max_y])),\n",
    "    color=alt.condition(combined_selection, alt.Color('Fav_genre:N', scale=color_scale), alt.value('lightgray'))\n",
    ").transform_filter(\n",
    "    combined_selection\n",
    ")\n",
    "\n",
    "# === STATIC AXIS FOR HISTOGRAM ===\n",
    "static_axis = alt.Chart(mxmh).transform_aggregate(\n",
    "    count='count()', groupby=['Age_Grouped']\n",
    ").transform_calculate(\n",
    "    capped_count='min(datum.count, 70)' \n",
    ").mark_bar(\n",
    "    opacity=0\n",
    ").encode(\n",
    "    x=alt.X('Age_Grouped:Q', title=\"Grouped Ages\", scale=alt.Scale(domain=x_range), axis=alt.Axis(grid=False)),\n",
    "    y=alt.Y('capped_count:Q', title=\"Count\", scale=alt.Scale(domain=[0, max_y]))\n",
    ").properties(\n",
    "    width=300,\n",
    "    height=300\n",
    ")\n",
    "\n",
    "# === HISTOGRAM + STATIC AXIS ===\n",
    "histogram = alt.layer(static_axis, age_hist).properties(\n",
    "    width=300,\n",
    "    height=300 \n",
    ")\n",
    "\n",
    "# === BAR CHART ===\n",
    "avg_mental_health = genre_stats[['Fav_genre', 'avg_anxiety', 'avg_depression', 'avg_insomnia', 'avg_ocd']]\n",
    "\n",
    "avg_mental_health = avg_mental_health.rename(columns = {\n",
    "    \"avg_anxiety\": \"Anxiety\",\n",
    "    \"avg_depression\": \"Depression\",\n",
    "    \"avg_insomnia\": \"Insomnia\",\n",
    "    \"avg_ocd\": \"OCD\"})\n",
    "\n",
    "avg_mental_health_long = avg_mental_health.melt(\n",
    "    id_vars='Fav_genre',\n",
    "    var_name='Metric',\n",
    "    value_name='Average'\n",
    ")\n",
    "\n",
    "bar_colour_scale = alt.Scale(domain=['Anxiety', 'Depression', 'Insomnia', 'OCD'], \n",
    "                        range=[okabe_ito_palette[2], okabe_ito_palette[0], okabe_ito_palette[4], okabe_ito_palette[3]])\n",
    "\n",
    "\n",
    "bar_1 = alt.Chart(avg_mental_health_long).mark_rect(\n",
    "    stroke='black',\n",
    "    orient='horizontal',\n",
    "    cornerRadiusBottomRight=3,\n",
    "    cornerRadiusTopRight=3,\n",
    ").encode(\n",
    "    alt.X('Average:Q', title=\"Average Mental Health Score\", scale=alt.Scale(domain=(0, 10))),\n",
    "    alt.Y('Metric:N', title=None, scale=alt.Scale(paddingInner=0.3, paddingOuter=0.2)),\n",
    "    color=alt.condition(combined_selection, alt.Color('Fav_genre:N', scale=color_scale), alt.value('lightgray'))\n",
    ").add_params(\n",
    "    combined_selection\n",
    ").transform_filter(\n",
    "    combined_selection\n",
    ").properties(\n",
    "    width=300,\n",
    "    height=300\n",
    ")\n",
    "\n",
    "# === HISTOGRAM + BAR CHART\n",
    "bar_hist = alt.hconcat(\n",
    "    histogram,\n",
    "    bar_1\n",
    ")\n",
    "\n",
    "# === TITLE ===\n",
    "dynamic_title = alt.Chart(genre_stats).mark_text(\n",
    "    align='center',\n",
    "    baseline='middle',\n",
    "    fontSize=20,\n",
    "    fontWeight='bold',\n",
    "    font=font_choice,\n",
    "    dx=210\n",
    ").transform_calculate(\n",
    "    custom_title='\"Age Distribution and Average Mental Health Scores for \" +  datum.Fav_genre + \" Music\"'\n",
    ").encode(\n",
    "    text='custom_title:N',\n",
    "    opacity=alt.condition(combined_selection, alt.value(1), alt.value(0)) \n",
    ").add_params(\n",
    "    combined_selection\n",
    ").properties(\n",
    "    width=300,\n",
    "    height=60\n",
    ")\n",
    "\n",
    "# === TITLE AND HISTOGRAM ===\n",
    "histogram_with_title = alt.vconcat(\n",
    "    dynamic_title,\n",
    "    bar_hist,\n",
    ")"
   ]
  },
  {
   "cell_type": "code",
   "execution_count": 6,
   "id": "ccf76d2e-37bd-437b-9726-ac1098571563",
   "metadata": {},
   "outputs": [],
   "source": [
    "# === SCATTER AND HISTOGRAM ===\n",
    "chart_1 = alt.hconcat(\n",
    "    scatter_plot_with_line,\n",
    "    histogram_with_title\n",
    ").resolve_scale(\n",
    "    size='independent'\n",
    ").properties(\n",
    "    title=alt.Title(\"Age and Mental Health by Favourite Music Genre\",\n",
    "                    subtitle=\"Showing average age, age distribution, and average mental health scores from survey respondents by which music genre they selected as their favourite\")\n",
    ").configure_axis(\n",
    "    **axis_configuration\n",
    ").configure_view(\n",
    "    stroke=None\n",
    ").configure_legend(\n",
    "    **legend_configuration\n",
    ").configure_title(\n",
    "    **title_configuration\n",
    ")"
   ]
  },
  {
   "cell_type": "code",
   "execution_count": 7,
   "id": "2a2d5baa-627b-4b77-b495-acbb635c8d08",
   "metadata": {},
   "outputs": [
    {
     "data": {
      "application/vnd.vegalite.v5+json": {
       "$schema": "https://vega.github.io/schema/vega-lite/v5.20.1.json",
       "config": {
        "axis": {
         "labelFont": "Segoe UI",
         "labelFontSize": 15,
         "titleFont": "Segoe UI",
         "titleFontSize": 20
        },
        "legend": {
         "cornerRadius": 10,
         "fillColor": "#F5F5F5",
         "labelFont": "Segoe UI",
         "labelFontSize": 13,
         "padding": 10,
         "titleFont": "Segoe UI",
         "titleFontSize": 15
        },
        "title": {
         "anchor": "middle",
         "font": "Segoe UI",
         "fontSize": 25,
         "offset": 30,
         "subtitleFontSize": 15
        },
        "view": {
         "continuousHeight": 300,
         "continuousWidth": 300,
         "stroke": null
        }
       },
       "datasets": {
        "empty": [
         {}
        ]
       },
       "hconcat": [
        {
         "height": 400,
         "layer": [
          {
           "data": {
            "name": "empty"
           },
           "mark": {
            "align": "center",
            "dy": -250,
            "fontSize": 20,
            "fontWeight": "bold",
            "text": "Average Age for Self-Reported Favourite Genre",
            "type": "text"
           }
          },
          {
           "data": {
            "format": {
             "type": "json"
            },
            "url": "altairdata\\altair-data-fa94b1b04026eef8022ce5c4903105b8.json"
           },
           "encoding": {
            "x": {
             "field": "x",
             "type": "quantitative"
            }
           },
           "mark": {
            "color": "red",
            "opacity": 0.4,
            "strokeWidth": 2,
            "type": "rule"
           }
          },
          {
           "data": {
            "format": {
             "type": "json"
            },
            "url": "altairdata\\altair-data-f15dc8dc3bd083c44ac452dee76a8306.json"
           },
           "encoding": {
            "color": {
             "condition": {
              "empty": false,
              "field": "Fav_genre",
              "legend": null,
              "param": "param_1",
              "scale": {
               "domain": [
                "Gospel",
                "Rock",
                "Classical",
                "Folk",
                "Jazz",
                "Country",
                "Metal",
                "R&B",
                "Hip hop",
                "Pop",
                "EDM",
                "Lofi",
                "Rap",
                "Video Game",
                "K pop",
                "Latin"
               ],
               "range": [
                "#009E73",
                "#0072B2",
                "#56B4E9",
                "#F0E442",
                "#E69F00",
                "#D55E00",
                "#CC79A7",
                "#23338A",
                "#009E73",
                "#0072B2",
                "#56B4E9",
                "#F0E442",
                "#E69F00",
                "#D55E00",
                "#CC79A7",
                "#23338A",
                "#009E73",
                "#0072B2",
                "#56B4E9",
                "#F0E442",
                "#E69F00",
                "#D55E00",
                "#CC79A7",
                "#23338A",
                "#009E73",
                "#0072B2",
                "#56B4E9",
                "#F0E442",
                "#E69F00",
                "#D55E00",
                "#CC79A7",
                "#23338A",
                "#009E73",
                "#0072B2",
                "#56B4E9",
                "#F0E442",
                "#E69F00",
                "#D55E00",
                "#CC79A7",
                "#23338A",
                "#009E73",
                "#0072B2",
                "#56B4E9",
                "#F0E442",
                "#E69F00",
                "#D55E00",
                "#CC79A7",
                "#23338A",
                "#009E73",
                "#0072B2",
                "#56B4E9",
                "#F0E442",
                "#E69F00",
                "#D55E00",
                "#CC79A7",
                "#23338A",
                "#009E73",
                "#0072B2",
                "#56B4E9",
                "#F0E442",
                "#E69F00",
                "#D55E00",
                "#CC79A7",
                "#23338A",
                "#009E73",
                "#0072B2",
                "#56B4E9",
                "#F0E442",
                "#E69F00",
                "#D55E00",
                "#CC79A7",
                "#23338A",
                "#009E73",
                "#0072B2",
                "#56B4E9",
                "#F0E442",
                "#E69F00",
                "#D55E00",
                "#CC79A7",
                "#23338A",
                "#009E73",
                "#0072B2",
                "#56B4E9",
                "#F0E442",
                "#E69F00",
                "#D55E00",
                "#CC79A7",
                "#23338A",
                "#009E73",
                "#0072B2",
                "#56B4E9",
                "#F0E442",
                "#E69F00",
                "#D55E00",
                "#CC79A7",
                "#23338A",
                "#009E73",
                "#0072B2",
                "#56B4E9",
                "#F0E442",
                "#E69F00",
                "#D55E00",
                "#CC79A7",
                "#23338A",
                "#009E73",
                "#0072B2",
                "#56B4E9",
                "#F0E442",
                "#E69F00",
                "#D55E00",
                "#CC79A7",
                "#23338A",
                "#009E73",
                "#0072B2",
                "#56B4E9",
                "#F0E442",
                "#E69F00",
                "#D55E00",
                "#CC79A7",
                "#23338A",
                "#009E73",
                "#0072B2",
                "#56B4E9",
                "#F0E442",
                "#E69F00",
                "#D55E00",
                "#CC79A7",
                "#23338A"
               ]
              },
              "type": "nominal"
             },
             "value": "lightgray"
            },
            "size": {
             "field": "count",
             "title": "Count",
             "type": "quantitative"
            },
            "tooltip": [
             {
              "field": "avg_age",
              "format": ".2f",
              "title": "Average Age",
              "type": "quantitative"
             },
             {
              "field": "count",
              "title": "Number of Respondents",
              "type": "quantitative"
             }
            ],
            "x": {
             "field": "avg_age",
             "scale": {
              "domain": [
               10,
               65
              ]
             },
             "title": "Average Age",
             "type": "quantitative"
            },
            "y": {
             "field": "Fav_genre",
             "sort": "-x",
             "title": "Favourite Music Genre",
             "type": "nominal"
            }
           },
           "mark": {
            "size": 200,
            "stroke": "black",
            "strokeWidth": 0.5,
            "type": "circle"
           },
           "name": "view_1"
          },
          {
           "data": {
            "format": {
             "type": "json"
            },
            "url": "altairdata\\altair-data-f15dc8dc3bd083c44ac452dee76a8306.json"
           },
           "encoding": {
            "color": {
             "condition": {
              "empty": false,
              "param": "param_1",
              "value": "black"
             },
             "value": "lightgray"
            },
            "text": {
             "field": "Fav_genre",
             "type": "nominal"
            },
            "x": {
             "field": "avg_age",
             "type": "quantitative"
            },
            "y": {
             "axis": {
              "domain": true,
              "labels": false,
              "ticks": true
             },
             "field": "Fav_genre",
             "sort": "-x",
             "type": "nominal"
            }
           },
           "mark": {
            "align": "left",
            "baseline": "middle",
            "dx": 15,
            "fontSize": 15,
            "fontWeight": "bold",
            "type": "text"
           }
          },
          {
           "data": {
            "name": "empty"
           },
           "mark": {
            "align": "center",
            "baseline": "bottom",
            "color": "red",
            "dx": -50,
            "dy": -200,
            "fontSize": 12,
            "fontStyle": "italic",
            "fontWeight": "lighter",
            "text": "Overall Average Age",
            "type": "text"
           }
          }
         ],
         "title": "",
         "width": 500
        },
        {
         "vconcat": [
          {
           "data": {
            "format": {
             "type": "json"
            },
            "url": "altairdata\\altair-data-f15dc8dc3bd083c44ac452dee76a8306.json"
           },
           "encoding": {
            "opacity": {
             "condition": {
              "empty": false,
              "param": "param_1",
              "value": 1
             },
             "value": 0
            },
            "text": {
             "field": "custom_title",
             "type": "nominal"
            }
           },
           "height": 60,
           "mark": {
            "align": "center",
            "baseline": "middle",
            "dx": 210,
            "font": "Segoe UI",
            "fontSize": 20,
            "fontWeight": "bold",
            "type": "text"
           },
           "name": "view_3",
           "transform": [
            {
             "as": "custom_title",
             "calculate": "\"Age Distribution and Average Mental Health Scores for \" +  datum.Fav_genre + \" Music\""
            }
           ],
           "width": 300
          },
          {
           "hconcat": [
            {
             "data": {
              "format": {
               "type": "json"
              },
              "url": "altairdata\\altair-data-a436e17fcdb05d9995b80e81bc271f22.json"
             },
             "height": 300,
             "layer": [
              {
               "encoding": {
                "x": {
                 "axis": {
                  "grid": false
                 },
                 "field": "Age_Grouped",
                 "scale": {
                  "domain": [
                   10,
                   70
                  ]
                 },
                 "title": "Grouped Ages",
                 "type": "quantitative"
                },
                "y": {
                 "field": "capped_count",
                 "scale": {
                  "domain": [
                   0,
                   85
                  ]
                 },
                 "title": "Count",
                 "type": "quantitative"
                }
               },
               "mark": {
                "opacity": 0,
                "type": "bar"
               },
               "transform": [
                {
                 "aggregate": [
                  {
                   "as": "count",
                   "op": "count"
                  }
                 ],
                 "groupby": [
                  "Age_Grouped"
                 ]
                },
                {
                 "as": "capped_count",
                 "calculate": "min(datum.count, 70)"
                }
               ]
              },
              {
               "encoding": {
                "color": {
                 "condition": {
                  "empty": false,
                  "field": "Fav_genre",
                  "param": "param_1",
                  "scale": {
                   "domain": [
                    "Gospel",
                    "Rock",
                    "Classical",
                    "Folk",
                    "Jazz",
                    "Country",
                    "Metal",
                    "R&B",
                    "Hip hop",
                    "Pop",
                    "EDM",
                    "Lofi",
                    "Rap",
                    "Video Game",
                    "K pop",
                    "Latin"
                   ],
                   "range": [
                    "#009E73",
                    "#0072B2",
                    "#56B4E9",
                    "#F0E442",
                    "#E69F00",
                    "#D55E00",
                    "#CC79A7",
                    "#23338A",
                    "#009E73",
                    "#0072B2",
                    "#56B4E9",
                    "#F0E442",
                    "#E69F00",
                    "#D55E00",
                    "#CC79A7",
                    "#23338A",
                    "#009E73",
                    "#0072B2",
                    "#56B4E9",
                    "#F0E442",
                    "#E69F00",
                    "#D55E00",
                    "#CC79A7",
                    "#23338A",
                    "#009E73",
                    "#0072B2",
                    "#56B4E9",
                    "#F0E442",
                    "#E69F00",
                    "#D55E00",
                    "#CC79A7",
                    "#23338A",
                    "#009E73",
                    "#0072B2",
                    "#56B4E9",
                    "#F0E442",
                    "#E69F00",
                    "#D55E00",
                    "#CC79A7",
                    "#23338A",
                    "#009E73",
                    "#0072B2",
                    "#56B4E9",
                    "#F0E442",
                    "#E69F00",
                    "#D55E00",
                    "#CC79A7",
                    "#23338A",
                    "#009E73",
                    "#0072B2",
                    "#56B4E9",
                    "#F0E442",
                    "#E69F00",
                    "#D55E00",
                    "#CC79A7",
                    "#23338A",
                    "#009E73",
                    "#0072B2",
                    "#56B4E9",
                    "#F0E442",
                    "#E69F00",
                    "#D55E00",
                    "#CC79A7",
                    "#23338A",
                    "#009E73",
                    "#0072B2",
                    "#56B4E9",
                    "#F0E442",
                    "#E69F00",
                    "#D55E00",
                    "#CC79A7",
                    "#23338A",
                    "#009E73",
                    "#0072B2",
                    "#56B4E9",
                    "#F0E442",
                    "#E69F00",
                    "#D55E00",
                    "#CC79A7",
                    "#23338A",
                    "#009E73",
                    "#0072B2",
                    "#56B4E9",
                    "#F0E442",
                    "#E69F00",
                    "#D55E00",
                    "#CC79A7",
                    "#23338A",
                    "#009E73",
                    "#0072B2",
                    "#56B4E9",
                    "#F0E442",
                    "#E69F00",
                    "#D55E00",
                    "#CC79A7",
                    "#23338A",
                    "#009E73",
                    "#0072B2",
                    "#56B4E9",
                    "#F0E442",
                    "#E69F00",
                    "#D55E00",
                    "#CC79A7",
                    "#23338A",
                    "#009E73",
                    "#0072B2",
                    "#56B4E9",
                    "#F0E442",
                    "#E69F00",
                    "#D55E00",
                    "#CC79A7",
                    "#23338A",
                    "#009E73",
                    "#0072B2",
                    "#56B4E9",
                    "#F0E442",
                    "#E69F00",
                    "#D55E00",
                    "#CC79A7",
                    "#23338A",
                    "#009E73",
                    "#0072B2",
                    "#56B4E9",
                    "#F0E442",
                    "#E69F00",
                    "#D55E00",
                    "#CC79A7",
                    "#23338A"
                   ]
                  },
                  "type": "nominal"
                 },
                 "value": "lightgray"
                },
                "x": {
                 "bin": {
                  "step": 5
                 },
                 "field": "Age_Grouped",
                 "scale": {
                  "domain": [
                   10,
                   70
                  ]
                 },
                 "title": "Grouped Ages",
                 "type": "quantitative"
                },
                "y": {
                 "aggregate": "count",
                 "scale": {
                  "domain": [
                   0,
                   85
                  ]
                 },
                 "title": "Count",
                 "type": "quantitative"
                }
               },
               "mark": {
                "cornerRadiusEnd": 3,
                "stroke": "black",
                "type": "bar"
               },
               "transform": [
                {
                 "filter": {
                  "empty": false,
                  "param": "param_1"
                 }
                }
               ]
              }
             ],
             "width": 300
            },
            {
             "data": {
              "format": {
               "type": "json"
              },
              "url": "altairdata\\altair-data-5489f20eceee67ec6d85de0c45b52aa9.json"
             },
             "encoding": {
              "color": {
               "condition": {
                "empty": false,
                "field": "Fav_genre",
                "param": "param_1",
                "scale": {
                 "domain": [
                  "Gospel",
                  "Rock",
                  "Classical",
                  "Folk",
                  "Jazz",
                  "Country",
                  "Metal",
                  "R&B",
                  "Hip hop",
                  "Pop",
                  "EDM",
                  "Lofi",
                  "Rap",
                  "Video Game",
                  "K pop",
                  "Latin"
                 ],
                 "range": [
                  "#009E73",
                  "#0072B2",
                  "#56B4E9",
                  "#F0E442",
                  "#E69F00",
                  "#D55E00",
                  "#CC79A7",
                  "#23338A",
                  "#009E73",
                  "#0072B2",
                  "#56B4E9",
                  "#F0E442",
                  "#E69F00",
                  "#D55E00",
                  "#CC79A7",
                  "#23338A",
                  "#009E73",
                  "#0072B2",
                  "#56B4E9",
                  "#F0E442",
                  "#E69F00",
                  "#D55E00",
                  "#CC79A7",
                  "#23338A",
                  "#009E73",
                  "#0072B2",
                  "#56B4E9",
                  "#F0E442",
                  "#E69F00",
                  "#D55E00",
                  "#CC79A7",
                  "#23338A",
                  "#009E73",
                  "#0072B2",
                  "#56B4E9",
                  "#F0E442",
                  "#E69F00",
                  "#D55E00",
                  "#CC79A7",
                  "#23338A",
                  "#009E73",
                  "#0072B2",
                  "#56B4E9",
                  "#F0E442",
                  "#E69F00",
                  "#D55E00",
                  "#CC79A7",
                  "#23338A",
                  "#009E73",
                  "#0072B2",
                  "#56B4E9",
                  "#F0E442",
                  "#E69F00",
                  "#D55E00",
                  "#CC79A7",
                  "#23338A",
                  "#009E73",
                  "#0072B2",
                  "#56B4E9",
                  "#F0E442",
                  "#E69F00",
                  "#D55E00",
                  "#CC79A7",
                  "#23338A",
                  "#009E73",
                  "#0072B2",
                  "#56B4E9",
                  "#F0E442",
                  "#E69F00",
                  "#D55E00",
                  "#CC79A7",
                  "#23338A",
                  "#009E73",
                  "#0072B2",
                  "#56B4E9",
                  "#F0E442",
                  "#E69F00",
                  "#D55E00",
                  "#CC79A7",
                  "#23338A",
                  "#009E73",
                  "#0072B2",
                  "#56B4E9",
                  "#F0E442",
                  "#E69F00",
                  "#D55E00",
                  "#CC79A7",
                  "#23338A",
                  "#009E73",
                  "#0072B2",
                  "#56B4E9",
                  "#F0E442",
                  "#E69F00",
                  "#D55E00",
                  "#CC79A7",
                  "#23338A",
                  "#009E73",
                  "#0072B2",
                  "#56B4E9",
                  "#F0E442",
                  "#E69F00",
                  "#D55E00",
                  "#CC79A7",
                  "#23338A",
                  "#009E73",
                  "#0072B2",
                  "#56B4E9",
                  "#F0E442",
                  "#E69F00",
                  "#D55E00",
                  "#CC79A7",
                  "#23338A",
                  "#009E73",
                  "#0072B2",
                  "#56B4E9",
                  "#F0E442",
                  "#E69F00",
                  "#D55E00",
                  "#CC79A7",
                  "#23338A",
                  "#009E73",
                  "#0072B2",
                  "#56B4E9",
                  "#F0E442",
                  "#E69F00",
                  "#D55E00",
                  "#CC79A7",
                  "#23338A"
                 ]
                },
                "type": "nominal"
               },
               "value": "lightgray"
              },
              "x": {
               "field": "Average",
               "scale": {
                "domain": [
                 0,
                 10
                ]
               },
               "title": "Average Mental Health Score",
               "type": "quantitative"
              },
              "y": {
               "field": "Metric",
               "scale": {
                "paddingInner": 0.3,
                "paddingOuter": 0.2
               },
               "title": null,
               "type": "nominal"
              }
             },
             "height": 300,
             "mark": {
              "cornerRadiusBottomRight": 3,
              "cornerRadiusTopRight": 3,
              "orient": "horizontal",
              "stroke": "black",
              "type": "rect"
             },
             "name": "view_2",
             "transform": [
              {
               "filter": {
                "empty": false,
                "param": "param_1"
               }
              }
             ],
             "width": 300
            }
           ]
          }
         ]
        }
       ],
       "params": [
        {
         "bind": {
          "input": "radio",
          "name": "Select Genre: ",
          "options": [
           "Gospel",
           "Rock",
           "Classical",
           "Folk",
           "Jazz",
           "Country",
           "Metal",
           "R&B",
           "Hip hop",
           "Pop",
           "EDM",
           "Lofi",
           "Rap",
           "Video Game",
           "K pop",
           "Latin"
          ]
         },
         "name": "param_1",
         "select": {
          "fields": [
           "Fav_genre"
          ],
          "nearest": true,
          "on": "click",
          "type": "point"
         },
         "value": "Gospel",
         "views": [
          "view_1",
          "view_3",
          "view_2"
         ]
        }
       ],
       "resolve": {
        "scale": {
         "size": "independent"
        }
       },
       "title": {
        "subtitle": "Showing average age, age distribution, and average mental health scores from survey respondents by which music genre they selected as their favourite",
        "text": "Age and Mental Health by Favourite Music Genre"
       }
      },
      "image/png": "[encoded data removed]",
      "text/plain": [
       "<VegaLite 5 object>\n",
       "\n",
       "If you see this message, it means the renderer has not been properly enabled\n",
       "for the frontend that you are using. For more information, see\n",
       "https://altair-viz.github.io/user_guide/display_frontends.html#troubleshooting\n"
      ]
     },
     "execution_count": 7,
     "metadata": {},
     "output_type": "execute_result"
    }
   ],
   "source": [
    "chart_1"
   ]
  },
  {
   "cell_type": "markdown",
   "id": "b95be414-75c1-478c-b782-d016e7cf63ab",
   "metadata": {},
   "source": [
    "## Question 2"
   ]
  },
  {
   "cell_type": "code",
   "execution_count": 8,
   "id": "35d99bf1-b5fb-4834-b42d-2792208b1472",
   "metadata": {},
   "outputs": [],
   "source": [
    "mxmh = wac.clean_data(\"../data/raw/mxmh_survey_results.csv\")\n",
    "mxmh = mxmh.rename(columns={\"Fav genre\": \"Fav_genre\"})\n",
    "mxmh['Fav_genre'] = mxmh['Fav_genre'].replace({\n",
    "    'Video game music': 'Video Game'\n",
    "})"
   ]
  },
  {
   "cell_type": "code",
   "execution_count": 16,
   "id": "d70aa39e-886b-4d49-accd-184464553317",
   "metadata": {},
   "outputs": [],
   "source": [
    "# === DATA PREP ===\n",
    "mental_health_long = mxmh.melt(\n",
    "    id_vars='Age',\n",
    "    value_vars=['Anxiety_Level', 'Depression_Level', 'Insomnia_Level', 'OCD_Level'],\n",
    "    var_name='Category',\n",
    "    value_name='Level'\n",
    ")\n",
    "\n",
    "level_label_map = {\"Low\": 1, \"Medium\": 2, \"High\": 3}\n",
    "mental_health_long[\"LevelLabel\"] = mental_health_long[\"Level\"].map(level_label_map)\n",
    "\n",
    "# === DROP DOWN ===\n",
    "condition_param = alt.param(\n",
    "    name='selected_condition',\n",
    "    bind=alt.binding_select(\n",
    "        options=['Anxiety_Level', 'Depression_Level', 'Insomnia_Level', 'OCD_Level'],\n",
    "        labels=['Anxiety', 'Depression', 'Insomnia', 'OCD'], \n",
    "        name='Select Category: '\n",
    "    ),\n",
    "    value='Anxiety_Level'\n",
    ")\n",
    "\n",
    "# === RADIO BUTTON ===\n",
    "level_radio = alt.param(\n",
    "    name='selected_level_filter',\n",
    "    bind=alt.binding_radio(\n",
    "        options=[0, 1, 2, 3],\n",
    "        labels=[\"All\", \"Low\", \"Medium\", \"High\"],\n",
    "        name='Select Level: '\n",
    "    ),\n",
    "    value=0\n",
    ")\n",
    "\n",
    "# === SLIDERS ===\n",
    "min_age = alt.param(\n",
    "    name='min_age',\n",
    "    bind=alt.binding_range(min=10, max=80, step=5, name='Min Age: '),\n",
    "    value=10\n",
    ")\n",
    "\n",
    "max_age = alt.param(\n",
    "    name='max_age',\n",
    "    bind=alt.binding_range(min=10, max=80, step=5, name='Max Age: '),\n",
    "    value=80\n",
    ")\n",
    "\n",
    "# === COLOUR SCALE ===\n",
    "color_scale = alt.Scale(\n",
    "    domain=[\"Low\", \"Medium\", \"High\"],\n",
    "    range=['#56B4E9', '#0072B2', '#23338A']\n",
    ")\n",
    "\n",
    "# === FACETED HISTOGRAM ===\n",
    "histogram_2 = alt.Chart(mental_health_long).add_params(\n",
    "    condition_param,\n",
    "    min_age,\n",
    "    max_age,\n",
    "    level_radio\n",
    ").transform_filter(\n",
    "    (alt.datum.Category == condition_param) &\n",
    "    (alt.datum.Age >= min_age) &\n",
    "    (alt.datum.Age <= max_age) & \n",
    "     (\n",
    "        (level_radio == 0) | (alt.datum.LevelLabel == level_radio)\n",
    "    )\n",
    ").mark_bar(\n",
    "    stroke='black',\n",
    "    cornerRadiusEnd=3\n",
    ").encode(\n",
    "    x=alt.X('Age:Q', bin=alt.Bin(step=5), title=\"Age\"),\n",
    "    y=alt.Y('count():Q', title='Count'),\n",
    "    color=alt.Color('Level:O', scale=color_scale),\n",
    "    tooltip=[\n",
    "        alt.Tooltip('count():Q', title='Count'),\n",
    "        alt.Tooltip('Age:Q', bin=True, title='Age Bin'),\n",
    "        alt.Tooltip('Level:O')\n",
    "    ],\n",
    "    column=alt.Column(\n",
    "        'LevelLabel:O', \n",
    "        header=alt.Header(\n",
    "            title=\"Severity Level\",\n",
    "            labelExpr=\"\"\"\n",
    "                datum.value === 1 ? 'Low' :\n",
    "                datum.value === 2 ? 'Medium' :\n",
    "                datum.value === 3 ? 'High' : datum.value\n",
    "            \"\"\",\n",
    "            labelFontSize=15,\n",
    "            labelFontWeight='bold',\n",
    "            titleFontSize=18\n",
    "        )\n",
    "    )\n",
    ").properties(\n",
    "    width=300,\n",
    "    height=300,\n",
    "    title='Age Distribution by Mental Health Level'\n",
    ").configure_facet(\n",
    "    spacing=5\n",
    ").configure_view(\n",
    "    stroke=None\n",
    ").configure_legend(\n",
    "    **legend_configuration\n",
    ").configure_title(\n",
    "    **title_configuration\n",
    ").configure_axis(\n",
    "    **axis_configuration\n",
    ").configure_facet(\n",
    "    spacing=15\n",
    ")\n"
   ]
  },
  {
   "cell_type": "code",
   "execution_count": 17,
   "id": "365321ec-4e9f-4d06-a960-66ba3bdb9bd2",
   "metadata": {},
   "outputs": [
    {
     "data": {
      "application/vnd.vegalite.v5+json": {
       "$schema": "https://vega.github.io/schema/vega-lite/v5.20.1.json",
       "config": {
        "axis": {
         "labelFont": "Segoe UI",
         "labelFontSize": 15,
         "titleFont": "Segoe UI",
         "titleFontSize": 20
        },
        "facet": {
         "spacing": 15
        },
        "legend": {
         "cornerRadius": 10,
         "fillColor": "#F5F5F5",
         "labelFont": "Segoe UI",
         "labelFontSize": 13,
         "padding": 10,
         "titleFont": "Segoe UI",
         "titleFontSize": 15
        },
        "title": {
         "anchor": "middle",
         "font": "Segoe UI",
         "fontSize": 25,
         "offset": 30,
         "subtitleFontSize": 15
        },
        "view": {
         "continuousHeight": 300,
         "continuousWidth": 300,
         "stroke": null
        }
       },
       "data": {
        "format": {
         "type": "json"
        },
        "url": "altairdata\\altair-data-64326e613d8c8fdeebd76a9d3f4aae2b.json"
       },
       "encoding": {
        "color": {
         "field": "Level",
         "scale": {
          "domain": [
           "Low",
           "Medium",
           "High"
          ],
          "range": [
           "#56B4E9",
           "#0072B2",
           "#23338A"
          ]
         },
         "type": "ordinal"
        },
        "column": {
         "field": "LevelLabel",
         "header": {
          "labelExpr": "\n                datum.value === 1 ? 'Low' :\n                datum.value === 2 ? 'Medium' :\n                datum.value === 3 ? 'High' : datum.value\n            ",
          "labelFontSize": 15,
          "labelFontWeight": "bold",
          "title": "Severity Level",
          "titleFontSize": 18
         },
         "type": "ordinal"
        },
        "tooltip": [
         {
          "aggregate": "count",
          "title": "Count",
          "type": "quantitative"
         },
         {
          "bin": true,
          "field": "Age",
          "title": "Age Bin",
          "type": "quantitative"
         },
         {
          "field": "Level",
          "type": "ordinal"
         }
        ],
        "x": {
         "bin": {
          "step": 5
         },
         "field": "Age",
         "title": "Age",
         "type": "quantitative"
        },
        "y": {
         "aggregate": "count",
         "title": "Count",
         "type": "quantitative"
        }
       },
       "height": 300,
       "mark": {
        "cornerRadiusEnd": 3,
        "stroke": "black",
        "type": "bar"
       },
       "params": [
        {
         "bind": {
          "input": "select",
          "labels": [
           "Anxiety",
           "Depression",
           "Insomnia",
           "OCD"
          ],
          "name": "Select Category: ",
          "options": [
           "Anxiety_Level",
           "Depression_Level",
           "Insomnia_Level",
           "OCD_Level"
          ]
         },
         "name": "selected_condition",
         "value": "Anxiety_Level"
        },
        {
         "bind": {
          "input": "range",
          "max": 80,
          "min": 10,
          "name": "Min Age: ",
          "step": 5
         },
         "name": "min_age",
         "value": 10
        },
        {
         "bind": {
          "input": "range",
          "max": 80,
          "min": 10,
          "name": "Max Age: ",
          "step": 5
         },
         "name": "max_age",
         "value": 80
        },
        {
         "bind": {
          "input": "radio",
          "labels": [
           "All",
           "Low",
           "Medium",
           "High"
          ],
          "name": "Select Level: ",
          "options": [
           0,
           1,
           2,
           3
          ]
         },
         "name": "selected_level_filter",
         "value": 0
        }
       ],
       "title": "Age Distribution by Mental Health Level",
       "transform": [
        {
         "filter": "((((datum.Category === selected_condition) && (datum.Age >= min_age)) && (datum.Age <= max_age)) && ((selected_level_filter === 0) || (datum.LevelLabel === selected_level_filter)))"
        }
       ],
       "width": 300
      },
      "image/png": "[encoded data removed]",
      "text/plain": [
       "<VegaLite 5 object>\n",
       "\n",
       "If you see this message, it means the renderer has not been properly enabled\n",
       "for the frontend that you are using. For more information, see\n",
       "https://altair-viz.github.io/user_guide/display_frontends.html#troubleshooting\n"
      ]
     },
     "execution_count": 17,
     "metadata": {},
     "output_type": "execute_result"
    }
   ],
   "source": [
    "histogram_2"
   ]
  },
  {
   "cell_type": "markdown",
   "id": "2396d3e4-92ea-46c4-91b1-72d4e708af5e",
   "metadata": {},
   "source": [
    "## Question 3"
   ]
  },
  {
   "cell_type": "code",
   "execution_count": null,
   "id": "c02db295-2d6a-4cec-baa4-f7fe1f787e69",
   "metadata": {},
   "outputs": [],
   "source": []
  },
  {
   "cell_type": "code",
   "execution_count": 11,
   "id": "26a75f4b-c5d6-4fce-9fa8-323b661cdb82",
   "metadata": {},
   "outputs": [],
   "source": [
    "# === FONT SETTING ===\n",
    "font_choice = \"Segoe UI\"\n",
    "\n",
    "# === DATA PREP ===\n",
    "bins = [10, 20, 30, 40, 50, 60, 100]\n",
    "labels = ['10–20', '20–30', '30–40', '40–50', '50–60', '60+']\n",
    "mxmh['Age_Group'] = pd.cut(mxmh['Age'], bins=bins, labels=labels, right=False)\n",
    "\n",
    "genre_age_group = mxmh.groupby(['Fav_genre', 'Age_Group'], observed=False).size().reset_index(name='count')\n",
    "\n",
    "# === RADIO PARAM ===\n",
    "age_param = alt.param(\n",
    "    name='selected_age_group',\n",
    "    bind=alt.binding_radio(\n",
    "        options=labels,\n",
    "        name='Select Age Group: '\n",
    "    ),\n",
    "    value='20–30'\n",
    ")\n",
    "\n",
    "# === BAR CHART ===\n",
    "bar_3 = alt.Chart(genre_age_group).transform_filter(\n",
    "    alt.datum.Age_Group == age_param\n",
    ").mark_bar(\n",
    "    cornerRadiusEnd=3,\n",
    "    stroke='black'\n",
    ").encode(\n",
    "    x=alt.X('count:Q', title='Count'),\n",
    "    y=alt.Y('Fav_genre:N', title='Genre', sort='-x'),\n",
    "    tooltip=[\n",
    "        alt.Tooltip('Fav_genre:N', title='Genre'),\n",
    "        alt.Tooltip('count:Q', title='Count')\n",
    "    ],\n",
    "    color=alt.value('#D55E00') \n",
    ").add_params(\n",
    "    age_param\n",
    ").properties(\n",
    "    title='Favourite Music Genre by Age Group',\n",
    "    width=600,\n",
    "    height=500\n",
    ").configure_title(\n",
    "    **title_configuration\n",
    ").configure_axis(\n",
    "    **axis_configuration\n",
    ")"
   ]
  },
  {
   "cell_type": "code",
   "execution_count": 12,
   "id": "4bbf5ea3-17f4-42e4-900a-a800a42914af",
   "metadata": {},
   "outputs": [
    {
     "data": {
      "application/vnd.vegalite.v5+json": {
       "$schema": "https://vega.github.io/schema/vega-lite/v5.20.1.json",
       "config": {
        "axis": {
         "labelFont": "Segoe UI",
         "labelFontSize": 15,
         "titleFont": "Segoe UI",
         "titleFontSize": 20
        },
        "title": {
         "anchor": "middle",
         "font": "Segoe UI",
         "fontSize": 25,
         "offset": 30,
         "subtitleFontSize": 15
        },
        "view": {
         "continuousHeight": 300,
         "continuousWidth": 300
        }
       },
       "data": {
        "format": {
         "type": "json"
        },
        "url": "altairdata\\altair-data-26120e961140e694970cb3561972c744.json"
       },
       "encoding": {
        "color": {
         "value": "#D55E00"
        },
        "tooltip": [
         {
          "field": "Fav_genre",
          "title": "Genre",
          "type": "nominal"
         },
         {
          "field": "count",
          "title": "Count",
          "type": "quantitative"
         }
        ],
        "x": {
         "field": "count",
         "title": "Count",
         "type": "quantitative"
        },
        "y": {
         "field": "Fav_genre",
         "sort": "-x",
         "title": "Genre",
         "type": "nominal"
        }
       },
       "height": 500,
       "mark": {
        "cornerRadiusEnd": 3,
        "stroke": "black",
        "type": "bar"
       },
       "params": [
        {
         "bind": {
          "input": "radio",
          "name": "Select Age Group: ",
          "options": [
           "10–20",
           "20–30",
           "30–40",
           "40–50",
           "50–60",
           "60+"
          ]
         },
         "name": "selected_age_group",
         "value": "20–30"
        }
       ],
       "title": "Favourite Music Genre by Age Group",
       "transform": [
        {
         "filter": "(datum.Age_Group === selected_age_group)"
        }
       ],
       "width": 600
      },
      "image/png": "[encoded data removed]",
      "text/plain": [
       "<VegaLite 5 object>\n",
       "\n",
       "If you see this message, it means the renderer has not been properly enabled\n",
       "for the frontend that you are using. For more information, see\n",
       "https://altair-viz.github.io/user_guide/display_frontends.html#troubleshooting\n"
      ]
     },
     "execution_count": 12,
     "metadata": {},
     "output_type": "execute_result"
    }
   ],
   "source": [
    "bar_3"
   ]
  },
  {
   "cell_type": "markdown",
   "id": "f872db39-7a02-4259-add6-7e41dadbe7fa",
   "metadata": {},
   "source": [
    "## Question 4"
   ]
  },
  {
   "cell_type": "code",
   "execution_count": 13,
   "id": "0613113f-b320-4a54-8b59-fa032480f80e",
   "metadata": {},
   "outputs": [],
   "source": [
    "mxmh = wac.clean_data(\"../data/raw/mxmh_survey_results.csv\")\n",
    "mxmh = mxmh.rename(columns={\"Fav genre\": \"Fav_genre\"})\n",
    "mxmh['Fav_genre'] = mxmh['Fav_genre'].replace({\n",
    "    'Video game music': 'Video Game'\n",
    "})"
   ]
  },
  {
   "cell_type": "code",
   "execution_count": 14,
   "id": "2bfbf1bd-955f-42ad-959b-be1f5b8f7ff6",
   "metadata": {},
   "outputs": [],
   "source": [
    "# === DATA PREP ===\n",
    "def get_identity(row):\n",
    "    if row['Instrumentalist'] == 'Yes' and row['Composer'] == 'Yes':\n",
    "        return 'Both'\n",
    "    elif row['Instrumentalist'] == 'Yes':\n",
    "        return 'Instrumentalist'\n",
    "    elif row['Composer'] == 'Yes':\n",
    "        return 'Composer'\n",
    "    else:\n",
    "        return 'Neither'\n",
    "\n",
    "mental_health_long = mxmh.melt(\n",
    "    id_vars=['Age_Grouped', \"Age\", 'Instrumentalist', 'Composer'],\n",
    "    value_vars=['Anxiety', 'Depression', 'Insomnia', 'OCD'],\n",
    "    var_name='Category',\n",
    "    value_name='Score'\n",
    ")\n",
    "\n",
    "mental_health_long['Musical_Hobbies'] = mental_health_long.apply(get_identity, axis=1)\n",
    "\n",
    "# === COLOR SCALE ===\n",
    "color_scale = alt.Scale(domain=['Both', 'Instrumentalist', 'Composer', 'Neither'], \n",
    "                        range=[okabe_ito_palette[3], okabe_ito_palette[0], okabe_ito_palette[4], okabe_ito_palette[2]])\n",
    "\n",
    "# === INTERACTIONS + UI ===\n",
    "interval = alt.selection_interval(encodings=[\"x\"])  \n",
    "\n",
    "\n",
    "click = alt.selection_point(\n",
    "    encodings=['color'],\n",
    "    on='click',\n",
    "    clear=False \n",
    ")\n",
    "\n",
    "condition_param = alt.param(\n",
    "    name='selected_condition',\n",
    "    bind=alt.binding_select(\n",
    "        options=['Anxiety', 'Depression', 'Insomnia', 'OCD'],\n",
    "        name='Select Category: '\n",
    "    ),\n",
    "    value='Anxiety'\n",
    ")\n",
    "\n",
    "# === SCATTER ===\n",
    "\n",
    "brush_background = alt.Chart(mental_health_long).mark_bar(opacity=0).encode(\n",
    "    x=alt.X('Age:Q', bin=alt.Bin(step=1), axis=alt.Axis(values=list(range(10, 90, 5))))\n",
    ").add_params(interval)\n",
    "\n",
    "scatter_4 = alt.layer(\n",
    "    brush_background,\n",
    "    alt.Chart(mental_health_long).transform_filter(\n",
    "        alt.datum.Category == condition_param\n",
    "    ).transform_aggregate(\n",
    "        mean_score='mean(Score)',\n",
    "        groupby=['Age', 'Musical_Hobbies']\n",
    "    ).mark_circle(\n",
    "        size=80,\n",
    "        stroke='black',\n",
    "        strokeWidth=0.5,\n",
    "        opacity=0.9\n",
    "    ).encode(\n",
    "        x=alt.X('Age:Q', title=\"Age\", scale = alt.Scale(domain=[9, 90]), axis=alt.Axis(values=list(range(10, 90, 5)))),\n",
    "        y=alt.Y('mean_score:Q', title=\"Average Self-Report Score\", scale=alt.Scale(domain=[-0.5, 10.5])),\n",
    "        color=alt.condition(interval, alt.Color('Musical_Hobbies:N', scale=color_scale), alt.value('lightgray')),\n",
    "        tooltip=[\n",
    "            alt.Tooltip('Age:Q', title='Age'),\n",
    "            alt.Tooltip('Musical_Hobbies:N', title='Hobby'),\n",
    "            alt.Tooltip('mean_score:Q', title='Avg Score', format=\".2f\")\n",
    "        ]\n",
    "    ).transform_filter(\n",
    "        click\n",
    "    )\n",
    ").add_params(\n",
    "    condition_param,\n",
    "    click\n",
    ").properties(\n",
    "    height=400,\n",
    "    width=500\n",
    ")\n",
    "\n",
    "# === DATA PREP ===\n",
    "bar_4 = alt.Chart(mental_health_long).transform_filter(\n",
    "    alt.datum.Category == condition_param\n",
    ").mark_bar(\n",
    "    cornerRadiusEnd=3,\n",
    "    stroke='black'\n",
    ").encode(\n",
    "    x=alt.X('count():Q', title=\"Count\"),\n",
    "    y=alt.Y(\n",
    "        'Musical_Hobbies:N',\n",
    "        sort=['Both', 'Instrumentalist', 'Composer', 'Neither'],\n",
    "        scale=alt.Scale(domain=['Both', 'Instrumentalist', 'Composer', 'Neither']),\n",
    "        title=None),\n",
    "    color=alt.condition(click, 'Musical_Hobbies', alt.value('lightgray'), title=\"Musical Hobbies\")\n",
    ").transform_filter(\n",
    "    interval\n",
    ").add_params(\n",
    "    click,\n",
    "    condition_param\n",
    ").properties(\n",
    "    height=100,\n",
    "    width=500\n",
    ")\n",
    "\n",
    "# === FINAL CHART ===\n",
    "chart_4 = (scatter_4 & bar_4).properties(\n",
    "    title='Musical Hobbies By Age for Different Mental Health Scores',\n",
    ").configure_legend(\n",
    "    **legend_configuration\n",
    ").configure_title(\n",
    "    **title_configuration\n",
    ").configure_axis(\n",
    "    **axis_configuration\n",
    ")"
   ]
  },
  {
   "cell_type": "code",
   "execution_count": 15,
   "id": "78ff7dac-65fd-4cf2-9f4e-b450407cbb33",
   "metadata": {},
   "outputs": [
    {
     "data": {
      "application/vnd.vegalite.v5+json": {
       "$schema": "https://vega.github.io/schema/vega-lite/v5.20.1.json",
       "config": {
        "axis": {
         "labelFont": "Segoe UI",
         "labelFontSize": 15,
         "titleFont": "Segoe UI",
         "titleFontSize": 20
        },
        "legend": {
         "cornerRadius": 10,
         "fillColor": "#F5F5F5",
         "labelFont": "Segoe UI",
         "labelFontSize": 13,
         "padding": 10,
         "titleFont": "Segoe UI",
         "titleFontSize": 15
        },
        "title": {
         "anchor": "middle",
         "font": "Segoe UI",
         "fontSize": 25,
         "offset": 30,
         "subtitleFontSize": 15
        },
        "view": {
         "continuousHeight": 300,
         "continuousWidth": 300
        }
       },
       "data": {
        "format": {
         "type": "json"
        },
        "url": "altairdata\\altair-data-e7f8970237ed1790ff238be096b3f085.json"
       },
       "params": [
        {
         "name": "param_2",
         "select": {
          "encodings": [
           "x"
          ],
          "type": "interval"
         },
         "views": [
          "view_4"
         ]
        },
        {
         "bind": {
          "input": "select",
          "name": "Select Category: ",
          "options": [
           "Anxiety",
           "Depression",
           "Insomnia",
           "OCD"
          ]
         },
         "name": "selected_condition",
         "value": "Anxiety"
        },
        {
         "name": "param_3",
         "select": {
          "clear": false,
          "encodings": [
           "color"
          ],
          "on": "click",
          "type": "point"
         },
         "views": [
          "view_4",
          "view_5"
         ]
        }
       ],
       "title": "Musical Hobbies By Age for Different Mental Health Scores",
       "vconcat": [
        {
         "height": 400,
         "layer": [
          {
           "encoding": {
            "x": {
             "axis": {
              "values": [
               10,
               15,
               20,
               25,
               30,
               35,
               40,
               45,
               50,
               55,
               60,
               65,
               70,
               75,
               80,
               85
              ]
             },
             "bin": {
              "step": 1
             },
             "field": "Age",
             "type": "quantitative"
            }
           },
           "mark": {
            "opacity": 0,
            "type": "bar"
           },
           "name": "view_4"
          },
          {
           "encoding": {
            "color": {
             "condition": {
              "field": "Musical_Hobbies",
              "param": "param_2",
              "scale": {
               "domain": [
                "Both",
                "Instrumentalist",
                "Composer",
                "Neither"
               ],
               "range": [
                "#F0E442",
                "#009E73",
                "#E69F00",
                "#56B4E9"
               ]
              },
              "type": "nominal"
             },
             "value": "lightgray"
            },
            "tooltip": [
             {
              "field": "Age",
              "title": "Age",
              "type": "quantitative"
             },
             {
              "field": "Musical_Hobbies",
              "title": "Hobby",
              "type": "nominal"
             },
             {
              "field": "mean_score",
              "format": ".2f",
              "title": "Avg Score",
              "type": "quantitative"
             }
            ],
            "x": {
             "axis": {
              "values": [
               10,
               15,
               20,
               25,
               30,
               35,
               40,
               45,
               50,
               55,
               60,
               65,
               70,
               75,
               80,
               85
              ]
             },
             "field": "Age",
             "scale": {
              "domain": [
               9,
               90
              ]
             },
             "title": "Age",
             "type": "quantitative"
            },
            "y": {
             "field": "mean_score",
             "scale": {
              "domain": [
               -0.5,
               10.5
              ]
             },
             "title": "Average Self-Report Score",
             "type": "quantitative"
            }
           },
           "mark": {
            "opacity": 0.9,
            "size": 80,
            "stroke": "black",
            "strokeWidth": 0.5,
            "type": "circle"
           },
           "transform": [
            {
             "filter": "(datum.Category === selected_condition)"
            },
            {
             "aggregate": [
              {
               "as": "mean_score",
               "field": "Score",
               "op": "mean"
              }
             ],
             "groupby": [
              "Age",
              "Musical_Hobbies"
             ]
            },
            {
             "filter": {
              "param": "param_3"
             }
            }
           ]
          }
         ],
         "width": 500
        },
        {
         "encoding": {
          "color": {
           "condition": {
            "field": "Musical_Hobbies",
            "param": "param_3",
            "title": "Musical Hobbies"
           },
           "value": "lightgray"
          },
          "x": {
           "aggregate": "count",
           "title": "Count",
           "type": "quantitative"
          },
          "y": {
           "field": "Musical_Hobbies",
           "scale": {
            "domain": [
             "Both",
             "Instrumentalist",
             "Composer",
             "Neither"
            ]
           },
           "sort": [
            "Both",
            "Instrumentalist",
            "Composer",
            "Neither"
           ],
           "title": null,
           "type": "nominal"
          }
         },
         "height": 100,
         "mark": {
          "cornerRadiusEnd": 3,
          "stroke": "black",
          "type": "bar"
         },
         "name": "view_5",
         "transform": [
          {
           "filter": "(datum.Category === selected_condition)"
          },
          {
           "filter": {
            "param": "param_2"
           }
          }
         ],
         "width": 500
        }
       ]
      },
      "image/png": "[encoded data removed]",
      "text/plain": [
       "<VegaLite 5 object>\n",
       "\n",
       "If you see this message, it means the renderer has not been properly enabled\n",
       "for the frontend that you are using. For more information, see\n",
       "https://altair-viz.github.io/user_guide/display_frontends.html#troubleshooting\n"
      ]
     },
     "execution_count": 15,
     "metadata": {},
     "output_type": "execute_result"
    }
   ],
   "source": [
    "chart_4"
   ]
  },
  {
   "cell_type": "code",
   "execution_count": null,
   "id": "c1bb7d16-763d-44dc-a07e-e6f594b2870f",
   "metadata": {},
   "outputs": [],
   "source": []
  }
 ],
 "metadata": {
  "kernelspec": {
   "display_name": "Python 3 (ipykernel)",
   "language": "python",
   "name": "python3"
  },
  "language_info": {
   "codemirror_mode": {
    "name": "ipython",
    "version": 3
   },
   "file_extension": ".py",
   "mimetype": "text/x-python",
   "name": "python",
   "nbconvert_exporter": "python",
   "pygments_lexer": "ipython3",
   "version": "3.13.2"
  }
 },
 "nbformat": 4,
 "nbformat_minor": 5
}
