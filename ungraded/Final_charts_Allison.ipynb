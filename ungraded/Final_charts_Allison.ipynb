{
 "cells": [
  {
   "cell_type": "code",
   "execution_count": 1,
   "id": "09fbbfc9-6cc1-4c6a-b9a6-87c8ff4f9298",
   "metadata": {},
   "outputs": [
    {
     "data": {
      "text/plain": [
       "RendererRegistry.enable('jupyterlab')"
      ]
     },
     "execution_count": 1,
     "metadata": {},
     "output_type": "execute_result"
    }
   ],
   "source": [
    "import sys\n",
    "import os\n",
    "import altair as alt\n",
    "import pandas as pd\n",
    "from toolz.curried import pipe\n",
    "\n",
    "# # Create a new data transformer that stores the files in a directory\n",
    "def json_dir(data, data_dir='altairdata'):\n",
    "    os.makedirs(data_dir, exist_ok=True)\n",
    "    return pipe(data, alt.to_json(filename=data_dir + '/{prefix}-{hash}.{extension}') )\n",
    "\n",
    "# # Register and enable the new transformer\n",
    "alt.data_transformers.register('json_dir', json_dir)\n",
    "alt.data_transformers.enable('json_dir')\n",
    "\n",
    "sys.path.append('..')\n",
    "from scripts import wrangle_and_clean as wac\n",
    "\n",
    "# Handle large data sets (default shows only 5000)\n",
    "# See here: https://altair-viz.github.io/user_guide/data_transformers.html\n",
    "alt.data_transformers.disable_max_rows()\n",
    "\n",
    "alt.renderers.enable('jupyterlab')\n"
   ]
  },
  {
   "cell_type": "code",
   "execution_count": 88,
   "id": "01d5e331-2625-4965-9675-db6030223b0e",
   "metadata": {},
   "outputs": [],
   "source": [
    "mxmh = wac.clean_data(\"../data/raw/mxmh_survey_results.csv\")"
   ]
  },
  {
   "cell_type": "markdown",
   "id": "9edddf99-d750-4bf3-9eab-6851aeac4b63",
   "metadata": {},
   "source": [
    "## Question 1:"
   ]
  },
  {
   "cell_type": "markdown",
   "id": "95873fd6-a13b-49c7-899f-0990748b9823",
   "metadata": {},
   "source": [
    "1) Make the scatteplot"
   ]
  },
  {
   "cell_type": "code",
   "execution_count": 200,
   "id": "4edc5b35-7f1c-4609-92e5-79307f27d484",
   "metadata": {},
   "outputs": [],
   "source": [
    "genre_stats = mxmh.groupby('Fav genre', as_index=False).agg(\n",
    "    avg_age=('Age', 'mean'),\n",
    "    count=('Age', 'count')\n",
    ")\n",
    "\n",
    "max_y = mxmh.groupby(\"Age_Grouped\")[\"Fav genre\"].count().max()\n",
    "max_y = min(max_y, 100)\n",
    "\n",
    "x_range = [10, 70]\n",
    "\n",
    "color_scale = alt.Scale(domain=genre_stats['Fav genre'].tolist(), scheme='tableau20')\n",
    "\n",
    "selection = alt.selection_point(\n",
    "    fields=['Fav genre'],\n",
    "    nearest=True,\n",
    "    on='mouseover',\n",
    "    clear='mouseout',  \n",
    "    empty='none'\n",
    ")\n",
    "\n",
    "avg_age_chart = alt.Chart(genre_stats).mark_circle(size=200).encode(\n",
    "    y=alt.Y('Fav genre:N', title=\"Genre\", sort='-x'),\n",
    "    x=alt.X('avg_age:Q', title=\"Average Age\", scale=alt.Scale(domain=[10, 60])),\n",
    "    color=alt.condition(selection, alt.Color('Fav genre:N', scale=color_scale, legend=None), alt.value('black')),\n",
    "    tooltip=[\n",
    "    alt.Tooltip('avg_age:Q', title='Average Age', format=\".2f\"),\n",
    "    alt.Tooltip('count:Q', title='Number of Respondents')],\n",
    "    size=alt.Size('count:Q', title=\"Count\"),\n",
    ").add_params(\n",
    "    selection\n",
    ")\n",
    "\n",
    "genre_labels = alt.Chart(genre_stats).mark_text(\n",
    "    align='left',\n",
    "    baseline='middle',\n",
    "    dx=10  \n",
    ").encode(\n",
    "    y=alt.Y('Fav genre:N', sort='-x', axis=alt.Axis(labels=False, ticks=True, domain=True)),\n",
    "    x=alt.X('avg_age:Q'),\n",
    "    text=alt.Text('Fav genre:N'),\n",
    "    color=alt.condition(selection, alt.Color('Fav genre:N', scale=color_scale), alt.value('gray'))\n",
    ")\n",
    "\n",
    "avg_age_chart_with_labels = alt.layer(\n",
    "    avg_age_chart,\n",
    "    genre_labels\n",
    ").properties(\n",
    "    width=500,\n",
    "    height=400\n",
    ")\n",
    "\n",
    "overall_avg_age = mxmh['Age'].mean()\n",
    "avg_age_line = alt.Chart(pd.DataFrame({'x': [overall_avg_age]})).mark_rule(\n",
    "    color='red',\n",
    "    strokeWidth=2, \n",
    "    opacity=0.2\n",
    ").encode(\n",
    "    x='x:Q'\n",
    ").properties(\n",
    "    width=500,\n",
    "    height=400\n",
    ")\n",
    "\n",
    "scatter_plot_with_line = alt.layer(\n",
    "    avg_age_line,\n",
    "    avg_age_chart_with_labels,\n",
    ")"
   ]
  },
  {
   "cell_type": "code",
   "execution_count": 219,
   "id": "0913d604-2596-422e-a60d-b451c037649e",
   "metadata": {},
   "outputs": [],
   "source": [
    "age_hist = alt.Chart(mxmh).mark_bar().encode(\n",
    "    alt.X('Age_Grouped:Q', bin=alt.Bin(step=5), title=\"Grouped Ages\", scale=alt.Scale(domain=x_range)),\n",
    "    alt.Y('count()', title=\"Count\", scale=alt.Scale(domain=[0, max_y])),\n",
    "    color=alt.condition(selection, alt.Color('Fav genre:N', scale=color_scale), alt.value('lightgray'))\n",
    ").transform_filter(\n",
    "    selection\n",
    ")\n",
    "\n",
    "static_axis = alt.Chart(mxmh).transform_aggregate(\n",
    "    count='count()', groupby=['Age_Grouped']\n",
    ").transform_calculate(\n",
    "    capped_count='min(datum.count, 70)' \n",
    ").mark_bar(\n",
    "    opacity=0\n",
    ").encode(\n",
    "    x=alt.X('Age_Grouped:Q', title=\"Grouped Ages\", scale=alt.Scale(domain=x_range), axis=alt.Axis(grid=False)),\n",
    "    y=alt.Y('capped_count:Q', title=\"Count\", scale=alt.Scale(domain=[0, max_y]))\n",
    ").properties(\n",
    "    width=300,\n",
    "    height=300\n",
    ")\n",
    "\n",
    "histogram = alt.layer(static_axis, age_hist).properties(\n",
    "    width=300,\n",
    "    height=300 \n",
    ")\n",
    "\n",
    "\n",
    "dynamic_title = alt.Chart(genre_stats).mark_text(\n",
    "    align='center',\n",
    "    baseline='middle',\n",
    "    fontSize=20,\n",
    "    fontWeight='bold'\n",
    ").encode(\n",
    "    text='Fav genre:N',\n",
    "    opacity=alt.condition(selection, alt.value(1), alt.value(0)) \n",
    ").add_params(\n",
    "    selection\n",
    ").properties(\n",
    "    width=300,\n",
    "    height=60\n",
    ")\n",
    "\n",
    "histogram_with_title = alt.vconcat(\n",
    "    dynamic_title,\n",
    "    histogram\n",
    ")"
   ]
  },
  {
   "cell_type": "code",
   "execution_count": 220,
   "id": "ccf76d2e-37bd-437b-9726-ac1098571563",
   "metadata": {},
   "outputs": [
    {
     "data": {
      "application/vnd.vegalite.v5+json": {
       "$schema": "https://vega.github.io/schema/vega-lite/v5.20.1.json",
       "config": {
        "axis": {
         "labelFontSize": 15,
         "titleFontSize": 20
        },
        "view": {
         "continuousHeight": 300,
         "continuousWidth": 300,
         "stroke": null
        }
       },
       "datasets": {
        "empty": [
         {}
        ]
       },
       "params": [
        {
         "name": "param_92",
         "select": {
          "clear": "mouseout",
          "fields": [
           "Fav genre"
          ],
          "nearest": true,
          "on": "mouseover",
          "type": "point"
         },
         "views": [
          "view_108",
          "view_113"
         ]
        }
       ],
       "vconcat": [
        {
         "data": {
          "name": "empty"
         },
         "height": 30,
         "mark": {
          "align": "center",
          "fontSize": 25,
          "fontWeight": "bold",
          "text": "Average Age of Respondents for Each Genre",
          "type": "text"
         },
         "width": 800
        },
        {
         "hconcat": [
          {
           "height": 400,
           "layer": [
            {
             "data": {
              "format": {
               "type": "json"
              },
              "url": "altairdata\\altair-data-fa94b1b04026eef8022ce5c4903105b8.json"
             },
             "encoding": {
              "x": {
               "field": "x",
               "type": "quantitative"
              }
             },
             "mark": {
              "color": "red",
              "opacity": 0.2,
              "strokeWidth": 2,
              "type": "rule"
             }
            },
            {
             "data": {
              "format": {
               "type": "json"
              },
              "url": "altairdata\\altair-data-814a18fcfe1d0ea986d05b21ec944612.json"
             },
             "layer": [
              {
               "encoding": {
                "color": {
                 "condition": {
                  "empty": false,
                  "field": "Fav genre",
                  "legend": null,
                  "param": "param_92",
                  "scale": {
                   "domain": [
                    "Classical",
                    "Country",
                    "EDM",
                    "Folk",
                    "Gospel",
                    "Hip hop",
                    "Jazz",
                    "K pop",
                    "Latin",
                    "Lofi",
                    "Metal",
                    "Pop",
                    "R&B",
                    "Rap",
                    "Rock",
                    "Video game music"
                   ],
                   "scheme": "tableau20"
                  },
                  "type": "nominal"
                 },
                 "value": "black"
                },
                "size": {
                 "field": "count",
                 "title": "Count",
                 "type": "quantitative"
                },
                "tooltip": [
                 {
                  "field": "avg_age",
                  "format": ".2f",
                  "title": "Average Age",
                  "type": "quantitative"
                 },
                 {
                  "field": "count",
                  "title": "Number of Respondents",
                  "type": "quantitative"
                 }
                ],
                "x": {
                 "field": "avg_age",
                 "scale": {
                  "domain": [
                   10,
                   60
                  ]
                 },
                 "title": "Average Age",
                 "type": "quantitative"
                },
                "y": {
                 "field": "Fav genre",
                 "sort": "-x",
                 "title": "Genre",
                 "type": "nominal"
                }
               },
               "mark": {
                "size": 200,
                "type": "circle"
               },
               "name": "view_108"
              },
              {
               "encoding": {
                "color": {
                 "condition": {
                  "empty": false,
                  "field": "Fav genre",
                  "param": "param_92",
                  "scale": {
                   "domain": [
                    "Classical",
                    "Country",
                    "EDM",
                    "Folk",
                    "Gospel",
                    "Hip hop",
                    "Jazz",
                    "K pop",
                    "Latin",
                    "Lofi",
                    "Metal",
                    "Pop",
                    "R&B",
                    "Rap",
                    "Rock",
                    "Video game music"
                   ],
                   "scheme": "tableau20"
                  },
                  "type": "nominal"
                 },
                 "value": "gray"
                },
                "text": {
                 "field": "Fav genre",
                 "type": "nominal"
                },
                "x": {
                 "field": "avg_age",
                 "type": "quantitative"
                },
                "y": {
                 "axis": {
                  "domain": true,
                  "labels": false,
                  "ticks": true
                 },
                 "field": "Fav genre",
                 "sort": "-x",
                 "type": "nominal"
                }
               },
               "mark": {
                "align": "left",
                "baseline": "middle",
                "dx": 10,
                "type": "text"
               }
              }
             ]
            }
           ],
           "width": 500
          },
          {
           "vconcat": [
            {
             "data": {
              "format": {
               "type": "json"
              },
              "url": "altairdata\\altair-data-814a18fcfe1d0ea986d05b21ec944612.json"
             },
             "encoding": {
              "opacity": {
               "condition": {
                "empty": false,
                "param": "param_92",
                "value": 1
               },
               "value": 0
              },
              "text": {
               "field": "Fav genre",
               "type": "nominal"
              }
             },
             "height": 60,
             "mark": {
              "align": "center",
              "baseline": "middle",
              "fontSize": 20,
              "fontWeight": "bold",
              "type": "text"
             },
             "name": "view_113",
             "width": 300
            },
            {
             "data": {
              "format": {
               "type": "json"
              },
              "url": "altairdata\\altair-data-94a9270b0e159b3a2bd6bacc8115baf1.json"
             },
             "height": 300,
             "layer": [
              {
               "encoding": {
                "x": {
                 "axis": {
                  "grid": false
                 },
                 "field": "Age_Grouped",
                 "scale": {
                  "domain": [
                   10,
                   70
                  ]
                 },
                 "title": "Grouped Ages",
                 "type": "quantitative"
                },
                "y": {
                 "field": "capped_count",
                 "scale": {
                  "domain": [
                   0,
                   85
                  ]
                 },
                 "title": "Count",
                 "type": "quantitative"
                }
               },
               "mark": {
                "opacity": 0,
                "type": "bar"
               },
               "transform": [
                {
                 "aggregate": [
                  {
                   "as": "count",
                   "op": "count"
                  }
                 ],
                 "groupby": [
                  "Age_Grouped"
                 ]
                },
                {
                 "as": "capped_count",
                 "calculate": "min(datum.count, 70)"
                }
               ]
              },
              {
               "encoding": {
                "color": {
                 "condition": {
                  "empty": false,
                  "field": "Fav genre",
                  "param": "param_92",
                  "scale": {
                   "domain": [
                    "Classical",
                    "Country",
                    "EDM",
                    "Folk",
                    "Gospel",
                    "Hip hop",
                    "Jazz",
                    "K pop",
                    "Latin",
                    "Lofi",
                    "Metal",
                    "Pop",
                    "R&B",
                    "Rap",
                    "Rock",
                    "Video game music"
                   ],
                   "scheme": "tableau20"
                  },
                  "type": "nominal"
                 },
                 "value": "lightgray"
                },
                "x": {
                 "bin": {
                  "step": 5
                 },
                 "field": "Age_Grouped",
                 "scale": {
                  "domain": [
                   10,
                   70
                  ]
                 },
                 "title": "Grouped Ages",
                 "type": "quantitative"
                },
                "y": {
                 "aggregate": "count",
                 "scale": {
                  "domain": [
                   0,
                   85
                  ]
                 },
                 "title": "Count",
                 "type": "quantitative"
                }
               },
               "mark": {
                "type": "bar"
               },
               "transform": [
                {
                 "filter": {
                  "empty": false,
                  "param": "param_92"
                 }
                }
               ]
              }
             ],
             "width": 300
            }
           ]
          }
         ],
         "resolve": {
          "scale": {
           "size": "independent"
          }
         }
        }
       ]
      },
      "image/png": "[encoded data removed]",
      "text/plain": [
       "<VegaLite 5 object>\n",
       "\n",
       "If you see this message, it means the renderer has not been properly enabled\n",
       "for the frontend that you are using. For more information, see\n",
       "https://altair-viz.github.io/user_guide/display_frontends.html#troubleshooting\n"
      ]
     },
     "execution_count": 220,
     "metadata": {},
     "output_type": "execute_result"
    }
   ],
   "source": [
    "title = alt.Chart().mark_text(\n",
    "    text=\"Average Age of Respondents for Each Genre\",\n",
    "    fontSize=25,\n",
    "    fontWeight='bold',\n",
    "    align='center'\n",
    ").properties(\n",
    "    width=800,\n",
    "    height=30\n",
    ")\n",
    "\n",
    "main = alt.hconcat(\n",
    "    scatter_plot_with_line,\n",
    "    histogram_with_title\n",
    ").resolve_scale(\n",
    "    size='independent'\n",
    ")\n",
    "\n",
    "chart = alt.vconcat(\n",
    "    title,\n",
    "    main\n",
    ").configure_axis(\n",
    "    labelFontSize=15,\n",
    "    titleFontSize=20\n",
    ").configure_view(\n",
    "    stroke=None\n",
    ")\n",
    "\n",
    "chart"
   ]
  },
  {
   "cell_type": "markdown",
   "id": "b95be414-75c1-478c-b782-d016e7cf63ab",
   "metadata": {},
   "source": [
    "## Question 2"
   ]
  },
  {
   "cell_type": "code",
   "execution_count": 290,
   "id": "15c6c9b5-74ae-4f4c-ae80-13b82c03ecd0",
   "metadata": {},
   "outputs": [
    {
     "data": {
      "application/vnd.vegalite.v5+json": {
       "$schema": "https://vega.github.io/schema/vega-lite/v5.20.1.json",
       "config": {
        "view": {
         "continuousHeight": 300,
         "continuousWidth": 300
        }
       },
       "data": {
        "format": {
         "type": "json"
        },
        "url": "altairdata\\altair-data-13d69b8f058fffde801770b24f9f02ff.json"
       },
       "encoding": {
        "color": {
         "field": "Level",
         "legend": null,
         "scale": {
          "domain": [
           "Low",
           "Medium",
           "High"
          ],
          "range": [
           "#a8dadc",
           "#457b9d",
           "#1d3557"
          ]
         },
         "type": "nominal"
        },
        "x": {
         "field": "Age",
         "title": "Age",
         "type": "quantitative"
        },
        "y": {
         "field": "Level",
         "sort": [
          "Low",
          "Medium",
          "High"
         ],
         "title": "Level",
         "type": "nominal"
        }
       },
       "height": 300,
       "mark": {
        "type": "boxplot"
       },
       "params": [
        {
         "bind": {
          "input": "select",
          "name": "Select Category: ",
          "options": [
           "Anxiety_Level",
           "Depression_Level",
           "Insomnia_Level",
           "OCD_Level"
          ]
         },
         "name": "selected_condition",
         "value": "Anxiety_Level"
        }
       ],
       "title": "Distribution of Age by Selected Condition",
       "transform": [
        {
         "filter": "(datum.Category === selected_condition)"
        }
       ],
       "width": 400
      },
      "image/png": "[encoded data removed]",
      "text/plain": [
       "<VegaLite 5 object>\n",
       "\n",
       "If you see this message, it means the renderer has not been properly enabled\n",
       "for the frontend that you are using. For more information, see\n",
       "https://altair-viz.github.io/user_guide/display_frontends.html#troubleshooting\n"
      ]
     },
     "execution_count": 290,
     "metadata": {},
     "output_type": "execute_result"
    }
   ],
   "source": [
    "\n",
    "mental_health_long = mxmh.melt(\n",
    "    id_vars='Age',\n",
    "    value_vars=['Anxiety_Level', 'Depression_Level', 'Insomnia_Level', 'OCD_Level'],\n",
    "    var_name='Category',\n",
    "    value_name='Level'\n",
    ")\n",
    "\n",
    "\n",
    "condition_param = alt.param(\n",
    "    name='selected_condition',\n",
    "    bind=alt.binding_select(\n",
    "        options=['Anxiety_Level', 'Depression_Level', 'Insomnia_Level', 'OCD_Level'],\n",
    "        name='Select Category: '\n",
    "    ),\n",
    "    value='Anxiety_Level'\n",
    ")\n",
    "\n",
    "color_scale = alt.Scale(\n",
    "    domain=['Low', 'Medium', 'High'],\n",
    "    range=['#a8dadc', '#457b9d', '#1d3557']  # light to dark blues\n",
    ")\n",
    "\n",
    "box = alt.Chart(mental_health_long).transform_filter(\n",
    "    alt.datum.Category == condition_param\n",
    ").mark_boxplot().encode(\n",
    "    y=alt.Y('Level:N', title='Level', sort=['Low', 'Medium', 'High']),\n",
    "    x=alt.X('Age:Q', title='Age'),\n",
    "    color=alt.Color(\n",
    "        'Level:N',\n",
    "        scale=color_scale,\n",
    "        legend=None\n",
    "    )\n",
    ").add_params(\n",
    "    condition_param\n",
    ").properties(\n",
    "    width=400,\n",
    "    height=300,\n",
    "    title='Distribution of Age by Selected Condition'\n",
    ")\n",
    "\n",
    "box\n"
   ]
  },
  {
   "cell_type": "code",
   "execution_count": null,
   "id": "d70aa39e-886b-4d49-accd-184464553317",
   "metadata": {},
   "outputs": [],
   "source": []
  }
 ],
 "metadata": {
  "kernelspec": {
   "display_name": "Python 3 (ipykernel)",
   "language": "python",
   "name": "python3"
  },
  "language_info": {
   "codemirror_mode": {
    "name": "ipython",
    "version": 3
   },
   "file_extension": ".py",
   "mimetype": "text/x-python",
   "name": "python",
   "nbconvert_exporter": "python",
   "pygments_lexer": "ipython3",
   "version": "3.13.2"
  }
 },
 "nbformat": 4,
 "nbformat_minor": 5
}
