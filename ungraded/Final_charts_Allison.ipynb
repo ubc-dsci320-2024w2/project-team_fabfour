{
 "cells": [
  {
   "cell_type": "code",
   "execution_count": 1,
   "id": "09fbbfc9-6cc1-4c6a-b9a6-87c8ff4f9298",
   "metadata": {},
   "outputs": [
    {
     "data": {
      "text/plain": [
       "RendererRegistry.enable('jupyterlab')"
      ]
     },
     "execution_count": 1,
     "metadata": {},
     "output_type": "execute_result"
    }
   ],
   "source": [
    "import sys\n",
    "import os\n",
    "import altair as alt\n",
    "import pandas as pd\n",
    "from toolz.curried import pipe\n",
    "\n",
    "# # Create a new data transformer that stores the files in a directory\n",
    "def json_dir(data, data_dir='altairdata'):\n",
    "    os.makedirs(data_dir, exist_ok=True)\n",
    "    return pipe(data, alt.to_json(filename=data_dir + '/{prefix}-{hash}.{extension}') )\n",
    "\n",
    "# # Register and enable the new transformer\n",
    "alt.data_transformers.register('json_dir', json_dir)\n",
    "alt.data_transformers.enable('json_dir')\n",
    "\n",
    "sys.path.append('..')\n",
    "from scripts import wrangle_and_clean as wac\n",
    "\n",
    "# Handle large data sets (default shows only 5000)\n",
    "# See here: https://altair-viz.github.io/user_guide/data_transformers.html\n",
    "alt.data_transformers.disable_max_rows()\n",
    "\n",
    "alt.renderers.enable('jupyterlab')\n"
   ]
  },
  {
   "cell_type": "code",
   "execution_count": 2,
   "id": "01d5e331-2625-4965-9675-db6030223b0e",
   "metadata": {},
   "outputs": [
    {
     "data": {
      "text/html": [
       "<div>\n",
       "<style scoped>\n",
       "    .dataframe tbody tr th:only-of-type {\n",
       "        vertical-align: middle;\n",
       "    }\n",
       "\n",
       "    .dataframe tbody tr th {\n",
       "        vertical-align: top;\n",
       "    }\n",
       "\n",
       "    .dataframe thead th {\n",
       "        text-align: right;\n",
       "    }\n",
       "</style>\n",
       "<table border=\"1\" class=\"dataframe\">\n",
       "  <thead>\n",
       "    <tr style=\"text-align: right;\">\n",
       "      <th></th>\n",
       "      <th>Timestamp</th>\n",
       "      <th>Age</th>\n",
       "      <th>Primary streaming service</th>\n",
       "      <th>Hours per day</th>\n",
       "      <th>While working</th>\n",
       "      <th>Instrumentalist</th>\n",
       "      <th>Composer</th>\n",
       "      <th>Fav genre</th>\n",
       "      <th>Exploratory</th>\n",
       "      <th>Foreign languages</th>\n",
       "      <th>...</th>\n",
       "      <th>Anxiety_Level</th>\n",
       "      <th>Depression_Level</th>\n",
       "      <th>Insomnia_Level</th>\n",
       "      <th>OCD_Level</th>\n",
       "      <th>Date</th>\n",
       "      <th>Time</th>\n",
       "      <th>Time of Day</th>\n",
       "      <th>Musical_hobbies</th>\n",
       "      <th>Age_Grouped</th>\n",
       "      <th>Genre Diversity Score</th>\n",
       "    </tr>\n",
       "  </thead>\n",
       "  <tbody>\n",
       "    <tr>\n",
       "      <th>0</th>\n",
       "      <td>2022-08-27 19:29:02</td>\n",
       "      <td>18.0</td>\n",
       "      <td>Spotify</td>\n",
       "      <td>3.0</td>\n",
       "      <td>Yes</td>\n",
       "      <td>Yes</td>\n",
       "      <td>Yes</td>\n",
       "      <td>Latin</td>\n",
       "      <td>Yes</td>\n",
       "      <td>Yes</td>\n",
       "      <td>...</td>\n",
       "      <td>Low</td>\n",
       "      <td>Low</td>\n",
       "      <td>Low</td>\n",
       "      <td>Low</td>\n",
       "      <td>2022-08-27</td>\n",
       "      <td>19:29:02</td>\n",
       "      <td>Evening</td>\n",
       "      <td>Yes</td>\n",
       "      <td>18.0</td>\n",
       "      <td>10</td>\n",
       "    </tr>\n",
       "    <tr>\n",
       "      <th>1</th>\n",
       "      <td>2022-08-27 19:57:31</td>\n",
       "      <td>63.0</td>\n",
       "      <td>Pandora</td>\n",
       "      <td>1.5</td>\n",
       "      <td>Yes</td>\n",
       "      <td>No</td>\n",
       "      <td>No</td>\n",
       "      <td>Rock</td>\n",
       "      <td>Yes</td>\n",
       "      <td>No</td>\n",
       "      <td>...</td>\n",
       "      <td>High</td>\n",
       "      <td>Low</td>\n",
       "      <td>Low</td>\n",
       "      <td>Low</td>\n",
       "      <td>2022-08-27</td>\n",
       "      <td>19:57:31</td>\n",
       "      <td>Evening</td>\n",
       "      <td>No</td>\n",
       "      <td>63.0</td>\n",
       "      <td>13</td>\n",
       "    </tr>\n",
       "    <tr>\n",
       "      <th>2</th>\n",
       "      <td>2022-08-27 21:28:18</td>\n",
       "      <td>18.0</td>\n",
       "      <td>Spotify</td>\n",
       "      <td>4.0</td>\n",
       "      <td>No</td>\n",
       "      <td>No</td>\n",
       "      <td>No</td>\n",
       "      <td>Video game music</td>\n",
       "      <td>No</td>\n",
       "      <td>Yes</td>\n",
       "      <td>...</td>\n",
       "      <td>High</td>\n",
       "      <td>High</td>\n",
       "      <td>High</td>\n",
       "      <td>Low</td>\n",
       "      <td>2022-08-27</td>\n",
       "      <td>21:28:18</td>\n",
       "      <td>Evening</td>\n",
       "      <td>No</td>\n",
       "      <td>18.0</td>\n",
       "      <td>10</td>\n",
       "    </tr>\n",
       "    <tr>\n",
       "      <th>3</th>\n",
       "      <td>2022-08-27 21:40:40</td>\n",
       "      <td>61.0</td>\n",
       "      <td>YouTube Music</td>\n",
       "      <td>2.5</td>\n",
       "      <td>Yes</td>\n",
       "      <td>No</td>\n",
       "      <td>Yes</td>\n",
       "      <td>Jazz</td>\n",
       "      <td>Yes</td>\n",
       "      <td>Yes</td>\n",
       "      <td>...</td>\n",
       "      <td>High</td>\n",
       "      <td>High</td>\n",
       "      <td>Low</td>\n",
       "      <td>Low</td>\n",
       "      <td>2022-08-27</td>\n",
       "      <td>21:40:40</td>\n",
       "      <td>Evening</td>\n",
       "      <td>Yes</td>\n",
       "      <td>61.0</td>\n",
       "      <td>9</td>\n",
       "    </tr>\n",
       "    <tr>\n",
       "      <th>4</th>\n",
       "      <td>2022-08-27 21:54:47</td>\n",
       "      <td>18.0</td>\n",
       "      <td>Spotify</td>\n",
       "      <td>4.0</td>\n",
       "      <td>Yes</td>\n",
       "      <td>No</td>\n",
       "      <td>No</td>\n",
       "      <td>R&amp;B</td>\n",
       "      <td>Yes</td>\n",
       "      <td>No</td>\n",
       "      <td>...</td>\n",
       "      <td>High</td>\n",
       "      <td>Low</td>\n",
       "      <td>Medium</td>\n",
       "      <td>High</td>\n",
       "      <td>2022-08-27</td>\n",
       "      <td>21:54:47</td>\n",
       "      <td>Evening</td>\n",
       "      <td>No</td>\n",
       "      <td>18.0</td>\n",
       "      <td>10</td>\n",
       "    </tr>\n",
       "  </tbody>\n",
       "</table>\n",
       "<p>5 rows × 42 columns</p>\n",
       "</div>"
      ],
      "text/plain": [
       "            Timestamp   Age Primary streaming service  Hours per day  \\\n",
       "0 2022-08-27 19:29:02  18.0                   Spotify            3.0   \n",
       "1 2022-08-27 19:57:31  63.0                   Pandora            1.5   \n",
       "2 2022-08-27 21:28:18  18.0                   Spotify            4.0   \n",
       "3 2022-08-27 21:40:40  61.0             YouTube Music            2.5   \n",
       "4 2022-08-27 21:54:47  18.0                   Spotify            4.0   \n",
       "\n",
       "  While working Instrumentalist Composer         Fav genre Exploratory  \\\n",
       "0           Yes             Yes      Yes             Latin         Yes   \n",
       "1           Yes              No       No              Rock         Yes   \n",
       "2            No              No       No  Video game music          No   \n",
       "3           Yes              No      Yes              Jazz         Yes   \n",
       "4           Yes              No       No               R&B         Yes   \n",
       "\n",
       "  Foreign languages  ...  Anxiety_Level Depression_Level Insomnia_Level  \\\n",
       "0               Yes  ...            Low              Low            Low   \n",
       "1                No  ...           High              Low            Low   \n",
       "2               Yes  ...           High             High           High   \n",
       "3               Yes  ...           High             High            Low   \n",
       "4                No  ...           High              Low         Medium   \n",
       "\n",
       "  OCD_Level       Date      Time Time of Day Musical_hobbies Age_Grouped  \\\n",
       "0       Low 2022-08-27  19:29:02     Evening             Yes        18.0   \n",
       "1       Low 2022-08-27  19:57:31     Evening              No        63.0   \n",
       "2       Low 2022-08-27  21:28:18     Evening              No        18.0   \n",
       "3       Low 2022-08-27  21:40:40     Evening             Yes        61.0   \n",
       "4      High 2022-08-27  21:54:47     Evening              No        18.0   \n",
       "\n",
       "  Genre Diversity Score  \n",
       "0                    10  \n",
       "1                    13  \n",
       "2                    10  \n",
       "3                     9  \n",
       "4                    10  \n",
       "\n",
       "[5 rows x 42 columns]"
      ]
     },
     "execution_count": 2,
     "metadata": {},
     "output_type": "execute_result"
    }
   ],
   "source": [
    "mxmh = wac.clean_data(\"../data/raw/mxmh_survey_results.csv\")\n",
    "mxmh.head(5)"
   ]
  },
  {
   "cell_type": "code",
   "execution_count": 10,
   "id": "0913d604-2596-422e-a60d-b451c037649e",
   "metadata": {},
   "outputs": [
    {
     "data": {
      "application/vnd.vegalite.v5+json": {
       "$schema": "https://vega.github.io/schema/vega-lite/v5.20.1.json",
       "config": {
        "view": {
         "continuousHeight": 300,
         "continuousWidth": 300
        }
       },
       "hconcat": [
        {
         "data": {
          "format": {
           "type": "json"
          },
          "url": "altairdata\\altair-data-814a18fcfe1d0ea986d05b21ec944612.json"
         },
         "encoding": {
          "color": {
           "condition": {
            "empty": false,
            "field": "Fav genre",
            "param": "param_8",
            "scale": {
             "domain": [
              "Classical",
              "Country",
              "EDM",
              "Folk",
              "Gospel",
              "Hip hop",
              "Jazz",
              "K pop",
              "Latin",
              "Lofi",
              "Metal",
              "Pop",
              "R&B",
              "Rap",
              "Rock",
              "Video game music"
             ],
             "scheme": "category20"
            },
            "type": "nominal"
           },
           "value": "black"
          },
          "tooltip": [
           {
            "field": "Fav genre",
            "type": "nominal"
           },
           {
            "field": "avg_age",
            "type": "quantitative"
           },
           {
            "field": "count",
            "type": "quantitative"
           }
          ],
          "x": {
           "field": "avg_age",
           "title": "Average Age",
           "type": "quantitative"
          },
          "y": {
           "field": "Fav genre",
           "sort": "-x",
           "title": "Genre",
           "type": "nominal"
          }
         },
         "height": 400,
         "mark": {
          "filled": true,
          "size": 100,
          "type": "point"
         },
         "name": "view_7",
         "title": "Average Age of Respondants for Each Genre",
         "width": 300
        },
        {
         "data": {
          "format": {
           "type": "json"
          },
          "url": "altairdata\\altair-data-94a9270b0e159b3a2bd6bacc8115baf1.json"
         },
         "encoding": {
          "color": {
           "condition": {
            "empty": false,
            "field": "Fav genre",
            "param": "param_8",
            "scale": {
             "domain": [
              "Classical",
              "Country",
              "EDM",
              "Folk",
              "Gospel",
              "Hip hop",
              "Jazz",
              "K pop",
              "Latin",
              "Lofi",
              "Metal",
              "Pop",
              "R&B",
              "Rap",
              "Rock",
              "Video game music"
             ],
             "scheme": "category20"
            },
            "type": "nominal"
           },
           "value": "lightgray"
          },
          "x": {
           "bin": {
            "step": 5
           },
           "field": "Age_Grouped",
           "scale": {
            "domain": [
             10,
             70
            ]
           },
           "title": "Age",
           "type": "quantitative"
          },
          "y": {
           "aggregate": "count",
           "scale": {
            "domain": [
             0,
             85
            ]
           },
           "title": "Count",
           "type": "quantitative"
          }
         },
         "height": 300,
         "mark": {
          "type": "bar"
         },
         "transform": [
          {
           "filter": {
            "empty": false,
            "param": "param_8"
           }
          }
         ],
         "width": 300
        }
       ],
       "params": [
        {
         "name": "param_8",
         "select": {
          "fields": [
           "Fav genre"
          ],
          "type": "point"
         },
         "views": [
          "view_7"
         ]
        }
       ]
      },
      "image/png": "[encoded data removed]",
      "text/plain": [
       "<VegaLite 5 object>\n",
       "\n",
       "If you see this message, it means the renderer has not been properly enabled\n",
       "for the frontend that you are using. For more information, see\n",
       "https://altair-viz.github.io/user_guide/display_frontends.html#troubleshooting\n"
      ]
     },
     "execution_count": 10,
     "metadata": {},
     "output_type": "execute_result"
    }
   ],
   "source": [
    "genre_stats = mxmh.groupby('Fav genre', as_index=False).agg(\n",
    "    avg_age=('Age', 'mean'),\n",
    "    count=('Age', 'count')\n",
    ")\n",
    "\n",
    "max_y = mxmh.groupby(\"Age_Grouped\")[\"Fav genre\"].count().max()\n",
    "x_range = [10, 70]\n",
    "color_scale = alt.Scale(domain=genre_stats['Fav genre'].tolist(), scheme='category20')\n",
    "selection = alt.selection_point(fields=['Fav genre'], empty='none')\n",
    "\n",
    "avg_age_bar_chart = alt.Chart(genre_stats).mark_point(size = 100, filled = True).encode(\n",
    "    y=alt.Y('Fav genre:N', title=\"Genre\", sort='-x'),\n",
    "    x=alt.X('avg_age:Q', title=\"Average Age\"),\n",
    "    color=alt.condition(selection, alt.Color('Fav genre:N', scale=color_scale), alt.value('black')),\n",
    "    tooltip=['Fav genre', 'avg_age', 'count']\n",
    ").add_params(selection).properties(\n",
    "    width=300,\n",
    "    height=400,\n",
    "    title=\"Average Age of Respondants for Each Genre\"\n",
    "    \n",
    ")\n",
    "\n",
    "age_hist = alt.Chart(mxmh).mark_bar().encode(\n",
    "    alt.X('Age_Grouped:Q',  bin=alt.Bin(step=5), title=\"Age\", scale=alt.Scale(domain=x_range)),\n",
    "    alt.Y('count()', title=\"Count\",scale=alt.Scale(domain=[0, max_y])),\n",
    "    color=alt.condition(selection, alt.Color('Fav genre:N', scale=color_scale), alt.value('lightgray'))\n",
    ").transform_filter(selection).properties(\n",
    "    width=300,\n",
    "    height=300\n",
    ")\n",
    "# Combine charts horizontally\n",
    "chart = avg_age_bar_chart | age_hist\n",
    "chart"
   ]
  },
  {
   "cell_type": "code",
   "execution_count": null,
   "id": "53902d42-3189-4600-b2f9-7ecb97127e5e",
   "metadata": {},
   "outputs": [],
   "source": []
  }
 ],
 "metadata": {
  "kernelspec": {
   "display_name": "Python 3 (ipykernel)",
   "language": "python",
   "name": "python3"
  },
  "language_info": {
   "codemirror_mode": {
    "name": "ipython",
    "version": 3
   },
   "file_extension": ".py",
   "mimetype": "text/x-python",
   "name": "python",
   "nbconvert_exporter": "python",
   "pygments_lexer": "ipython3",
   "version": "3.13.2"
  }
 },
 "nbformat": 4,
 "nbformat_minor": 5
}
